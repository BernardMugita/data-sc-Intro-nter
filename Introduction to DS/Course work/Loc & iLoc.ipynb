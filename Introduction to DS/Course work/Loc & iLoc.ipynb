{
 "cells": [
  {
   "cell_type": "markdown",
   "id": "b29384ba",
   "metadata": {},
   "source": [
    "#### Using loc  and iloc In Selecting Data"
   ]
  },
  {
   "cell_type": "code",
   "execution_count": null,
   "id": "db9a27ff",
   "metadata": {},
   "outputs": [],
   "source": [
    "#I. To select data on a DataFrame, Pandas loc and iloc are the top favorites.\n",
    "#II.They are fast,quick, easy to read, and sometimes interchangeable.\n"
   ]
  },
  {
   "cell_type": "markdown",
   "id": "5416f47a",
   "metadata": {},
   "source": [
    "#### 1.Differences between loc and iloc"
   ]
  },
  {
   "cell_type": "code",
   "execution_count": null,
   "id": "b3c18dad",
   "metadata": {},
   "outputs": [],
   "source": [
    "# a.The main difference between loc and iloc is:\n",
    "\n",
    "# loc is label-based,which means that you have to specify rows and columns,\n",
    "# based on their row and column labels.\n",
    "\n",
    "# iloc is integer position-based, \n",
    "# so you have to specify rows and columns by their integer position values (0-based integer position)."
   ]
  },
  {
   "cell_type": "code",
   "execution_count": 1,
   "id": "6208d052",
   "metadata": {},
   "outputs": [
    {
     "data": {
      "text/html": [
       "<div>\n",
       "<style scoped>\n",
       "    .dataframe tbody tr th:only-of-type {\n",
       "        vertical-align: middle;\n",
       "    }\n",
       "\n",
       "    .dataframe tbody tr th {\n",
       "        vertical-align: top;\n",
       "    }\n",
       "\n",
       "    .dataframe thead th {\n",
       "        text-align: right;\n",
       "    }\n",
       "</style>\n",
       "<table border=\"1\" class=\"dataframe\">\n",
       "  <thead>\n",
       "    <tr style=\"text-align: right;\">\n",
       "      <th></th>\n",
       "      <th>Tmax</th>\n",
       "      <th>Tmin</th>\n",
       "      <th>Rain</th>\n",
       "      <th>Sun</th>\n",
       "    </tr>\n",
       "    <tr>\n",
       "      <th>Month</th>\n",
       "      <th></th>\n",
       "      <th></th>\n",
       "      <th></th>\n",
       "      <th></th>\n",
       "    </tr>\n",
       "  </thead>\n",
       "  <tbody>\n",
       "    <tr>\n",
       "      <th>Jan</th>\n",
       "      <td>9.7</td>\n",
       "      <td>3.8</td>\n",
       "      <td>58.0</td>\n",
       "      <td>46.5</td>\n",
       "    </tr>\n",
       "    <tr>\n",
       "      <th>Feb</th>\n",
       "      <td>6.7</td>\n",
       "      <td>0.6</td>\n",
       "      <td>29.0</td>\n",
       "      <td>92.0</td>\n",
       "    </tr>\n",
       "    <tr>\n",
       "      <th>Mar</th>\n",
       "      <td>9.8</td>\n",
       "      <td>3.0</td>\n",
       "      <td>81.2</td>\n",
       "      <td>70.3</td>\n",
       "    </tr>\n",
       "    <tr>\n",
       "      <th>Apr</th>\n",
       "      <td>15.5</td>\n",
       "      <td>7.9</td>\n",
       "      <td>65.2</td>\n",
       "      <td>113.4</td>\n",
       "    </tr>\n",
       "    <tr>\n",
       "      <th>May</th>\n",
       "      <td>20.8</td>\n",
       "      <td>9.8</td>\n",
       "      <td>58.4</td>\n",
       "      <td>248.3</td>\n",
       "    </tr>\n",
       "    <tr>\n",
       "      <th>Jun</th>\n",
       "      <td>24.2</td>\n",
       "      <td>13.1</td>\n",
       "      <td>0.4</td>\n",
       "      <td>234.5</td>\n",
       "    </tr>\n",
       "    <tr>\n",
       "      <th>Jul</th>\n",
       "      <td>28.3</td>\n",
       "      <td>16.4</td>\n",
       "      <td>14.8</td>\n",
       "      <td>272.5</td>\n",
       "    </tr>\n",
       "    <tr>\n",
       "      <th>Aug</th>\n",
       "      <td>24.5</td>\n",
       "      <td>14.5</td>\n",
       "      <td>48.2</td>\n",
       "      <td>182.1</td>\n",
       "    </tr>\n",
       "    <tr>\n",
       "      <th>Sep</th>\n",
       "      <td>20.9</td>\n",
       "      <td>11.0</td>\n",
       "      <td>29.4</td>\n",
       "      <td>195.0</td>\n",
       "    </tr>\n",
       "    <tr>\n",
       "      <th>Oct</th>\n",
       "      <td>16.5</td>\n",
       "      <td>8.5</td>\n",
       "      <td>61.0</td>\n",
       "      <td>137.0</td>\n",
       "    </tr>\n",
       "    <tr>\n",
       "      <th>Nov</th>\n",
       "      <td>12.2</td>\n",
       "      <td>5.8</td>\n",
       "      <td>73.8</td>\n",
       "      <td>72.9</td>\n",
       "    </tr>\n",
       "    <tr>\n",
       "      <th>Dec</th>\n",
       "      <td>10.7</td>\n",
       "      <td>5.2</td>\n",
       "      <td>60.6</td>\n",
       "      <td>40.3</td>\n",
       "    </tr>\n",
       "  </tbody>\n",
       "</table>\n",
       "</div>"
      ],
      "text/plain": [
       "       Tmax  Tmin  Rain    Sun\n",
       "Month                         \n",
       "Jan     9.7   3.8  58.0   46.5\n",
       "Feb     6.7   0.6  29.0   92.0\n",
       "Mar     9.8   3.0  81.2   70.3\n",
       "Apr    15.5   7.9  65.2  113.4\n",
       "May    20.8   9.8  58.4  248.3\n",
       "Jun    24.2  13.1   0.4  234.5\n",
       "Jul    28.3  16.4  14.8  272.5\n",
       "Aug    24.5  14.5  48.2  182.1\n",
       "Sep    20.9  11.0  29.4  195.0\n",
       "Oct    16.5   8.5  61.0  137.0\n",
       "Nov    12.2   5.8  73.8   72.9\n",
       "Dec    10.7   5.2  60.6   40.3"
      ]
     },
     "execution_count": 1,
     "metadata": {},
     "output_type": "execute_result"
    }
   ],
   "source": [
    "import pandas as pd \n",
    "import matplotlib.pyplot as plt\n",
    "url = 'https://raw.githubusercontent.com/alanjones2/ajbooks/main/data/londonweather2018.csv'\n",
    "df = pd.read_csv(url,index_col='Month')\n",
    "\n",
    "df"
   ]
  },
  {
   "cell_type": "markdown",
   "id": "ceb99268",
   "metadata": {},
   "source": [
    "#### 2. Selecting using a single value\n"
   ]
  },
  {
   "cell_type": "code",
   "execution_count": 3,
   "id": "b5222e47",
   "metadata": {},
   "outputs": [
    {
     "data": {
      "text/plain": [
       "9.8"
      ]
     },
     "execution_count": 3,
     "metadata": {},
     "output_type": "execute_result"
    }
   ],
   "source": [
    "# Example 1:\n",
    "# To get May's  Minimum temperature(Tmin) :\n",
    "# Pass label to `loc`\n",
    "df.loc['May', 'Tmin']"
   ]
  },
  {
   "cell_type": "code",
   "execution_count": 3,
   "id": "f38410a7",
   "metadata": {},
   "outputs": [
    {
     "data": {
      "text/plain": [
       "28.3"
      ]
     },
     "execution_count": 3,
     "metadata": {},
     "output_type": "execute_result"
    }
   ],
   "source": [
    "df.loc['Jul','Tmax']"
   ]
  },
  {
   "cell_type": "code",
   "execution_count": 4,
   "id": "160ff571",
   "metadata": {},
   "outputs": [
    {
     "data": {
      "text/plain": [
       "28.3"
      ]
     },
     "execution_count": 4,
     "metadata": {},
     "output_type": "execute_result"
    }
   ],
   "source": [
    "df.iloc[6, 0]"
   ]
  },
  {
   "cell_type": "code",
   "execution_count": 5,
   "id": "7fcaf740",
   "metadata": {},
   "outputs": [
    {
     "data": {
      "text/plain": [
       "9.8"
      ]
     },
     "execution_count": 5,
     "metadata": {},
     "output_type": "execute_result"
    }
   ],
   "source": [
    "# The equivalent `iloc` statement should take row number 4 and column number 1\n",
    "df.iloc[4, 1]"
   ]
  },
  {
   "cell_type": "code",
   "execution_count": 5,
   "id": "d379bb7b",
   "metadata": {},
   "outputs": [
    {
     "data": {
      "text/plain": [
       "48.2"
      ]
     },
     "execution_count": 5,
     "metadata": {},
     "output_type": "execute_result"
    }
   ],
   "source": [
    "df.loc['Aug','Rain']"
   ]
  },
  {
   "cell_type": "code",
   "execution_count": 6,
   "id": "f6644dc1",
   "metadata": {},
   "outputs": [
    {
     "data": {
      "text/plain": [
       "48.2"
      ]
     },
     "execution_count": 6,
     "metadata": {},
     "output_type": "execute_result"
    }
   ],
   "source": [
    "df.iloc[7, 2]"
   ]
  },
  {
   "cell_type": "markdown",
   "id": "99d97716",
   "metadata": {},
   "source": [
    "#### Use : to return all data"
   ]
  },
  {
   "cell_type": "code",
   "execution_count": 6,
   "id": "a1d8f626",
   "metadata": {},
   "outputs": [
    {
     "data": {
      "text/plain": [
       "Month\n",
       "Jan     3.8\n",
       "Feb     0.6\n",
       "Mar     3.0\n",
       "Apr     7.9\n",
       "May     9.8\n",
       "Jun    13.1\n",
       "Jul    16.4\n",
       "Aug    14.5\n",
       "Sep    11.0\n",
       "Oct     8.5\n",
       "Nov     5.8\n",
       "Dec     5.2\n",
       "Name: Tmin, dtype: float64"
      ]
     },
     "execution_count": 6,
     "metadata": {},
     "output_type": "execute_result"
    }
   ],
   "source": [
    "# To get all rows:\n",
    "df.loc[:,'Tmin']"
   ]
  },
  {
   "cell_type": "code",
   "execution_count": 7,
   "id": "cad4b618",
   "metadata": {},
   "outputs": [
    {
     "data": {
      "text/plain": [
       "Month\n",
       "Jan     3.8\n",
       "Feb     0.6\n",
       "Mar     3.0\n",
       "Apr     7.9\n",
       "May     9.8\n",
       "Jun    13.1\n",
       "Jul    16.4\n",
       "Aug    14.5\n",
       "Sep    11.0\n",
       "Oct     8.5\n",
       "Nov     5.8\n",
       "Dec     5.2\n",
       "Name: Tmin, dtype: float64"
      ]
     },
     "execution_count": 7,
     "metadata": {},
     "output_type": "execute_result"
    }
   ],
   "source": [
    "# The equivalent iloc :\n",
    "df.iloc[:,1]"
   ]
  },
  {
   "cell_type": "code",
   "execution_count": 7,
   "id": "f70841a8",
   "metadata": {},
   "outputs": [
    {
     "data": {
      "text/plain": [
       "Month\n",
       "Jan     46.5\n",
       "Feb     92.0\n",
       "Mar     70.3\n",
       "Apr    113.4\n",
       "May    248.3\n",
       "Jun    234.5\n",
       "Jul    272.5\n",
       "Aug    182.1\n",
       "Sep    195.0\n",
       "Oct    137.0\n",
       "Nov     72.9\n",
       "Dec     40.3\n",
       "Name: Sun, dtype: float64"
      ]
     },
     "execution_count": 7,
     "metadata": {},
     "output_type": "execute_result"
    }
   ],
   "source": [
    "df.loc[:, 'Sun']"
   ]
  },
  {
   "cell_type": "code",
   "execution_count": 8,
   "id": "09ef722f",
   "metadata": {},
   "outputs": [
    {
     "data": {
      "text/plain": [
       "Month\n",
       "Jan     46.5\n",
       "Feb     92.0\n",
       "Mar     70.3\n",
       "Apr    113.4\n",
       "May    248.3\n",
       "Jun    234.5\n",
       "Jul    272.5\n",
       "Aug    182.1\n",
       "Sep    195.0\n",
       "Oct    137.0\n",
       "Nov     72.9\n",
       "Dec     40.3\n",
       "Name: Sun, dtype: float64"
      ]
     },
     "execution_count": 8,
     "metadata": {},
     "output_type": "execute_result"
    }
   ],
   "source": [
    "df.iloc[:, 3]"
   ]
  },
  {
   "cell_type": "code",
   "execution_count": 8,
   "id": "02b4c642",
   "metadata": {},
   "outputs": [
    {
     "data": {
      "text/plain": [
       "Tmax     20.8\n",
       "Tmin      9.8\n",
       "Rain     58.4\n",
       "Sun     248.3\n",
       "Name: May, dtype: float64"
      ]
     },
     "execution_count": 8,
     "metadata": {},
     "output_type": "execute_result"
    }
   ],
   "source": [
    "# To get all columns :\n",
    "df.loc['May', :]"
   ]
  },
  {
   "cell_type": "code",
   "execution_count": 9,
   "id": "74fbce2a",
   "metadata": {},
   "outputs": [
    {
     "data": {
      "text/plain": [
       "Tmax     20.8\n",
       "Tmin      9.8\n",
       "Rain     58.4\n",
       "Sun     248.3\n",
       "Name: May, dtype: float64"
      ]
     },
     "execution_count": 9,
     "metadata": {},
     "output_type": "execute_result"
    }
   ],
   "source": [
    "# The equivalent iloc:\n",
    "df.iloc[4, :]"
   ]
  },
  {
   "cell_type": "code",
   "execution_count": 9,
   "id": "119c1e33",
   "metadata": {},
   "outputs": [
    {
     "data": {
      "text/plain": [
       "Tmax     20.9\n",
       "Tmin     11.0\n",
       "Rain     29.4\n",
       "Sun     195.0\n",
       "Name: Sep, dtype: float64"
      ]
     },
     "execution_count": 9,
     "metadata": {},
     "output_type": "execute_result"
    }
   ],
   "source": [
    "df.loc['Sep', :]"
   ]
  },
  {
   "cell_type": "code",
   "execution_count": 10,
   "id": "b79011c1",
   "metadata": {},
   "outputs": [
    {
     "data": {
      "text/plain": [
       "Tmax     20.9\n",
       "Tmin     11.0\n",
       "Rain     29.4\n",
       "Sun     195.0\n",
       "Name: Sep, dtype: float64"
      ]
     },
     "execution_count": 10,
     "metadata": {},
     "output_type": "execute_result"
    }
   ],
   "source": [
    "df.iloc[8, :]"
   ]
  },
  {
   "cell_type": "markdown",
   "id": "da2d5fb7",
   "metadata": {},
   "source": [
    "#### 3. Selecting via a list of values"
   ]
  },
  {
   "cell_type": "code",
   "execution_count": 11,
   "id": "9018b550",
   "metadata": {},
   "outputs": [
    {
     "data": {
      "text/plain": [
       "Month\n",
       "Jul    272.5\n",
       "Aug    182.1\n",
       "Name: Sun, dtype: float64"
      ]
     },
     "execution_count": 11,
     "metadata": {},
     "output_type": "execute_result"
    }
   ],
   "source": [
    "# Multiple Rows:\n",
    "df.loc[['Jul','Aug'], 'Sun']"
   ]
  },
  {
   "cell_type": "code",
   "execution_count": 14,
   "id": "f71bea73",
   "metadata": {},
   "outputs": [
    {
     "data": {
      "text/plain": [
       "Month\n",
       "Jul    272.5\n",
       "Aug    182.1\n",
       "Name: Sun, dtype: float64"
      ]
     },
     "execution_count": 14,
     "metadata": {},
     "output_type": "execute_result"
    }
   ],
   "source": [
    "# The equivalent iloc:\n",
    "df.iloc[[6,7], 3]"
   ]
  },
  {
   "cell_type": "code",
   "execution_count": 11,
   "id": "27692196",
   "metadata": {},
   "outputs": [
    {
     "data": {
      "text/plain": [
       "Month\n",
       "May    58.4\n",
       "Jun     0.4\n",
       "Name: Rain, dtype: float64"
      ]
     },
     "execution_count": 11,
     "metadata": {},
     "output_type": "execute_result"
    }
   ],
   "source": [
    "df.loc[['May','Jun'],'Rain']"
   ]
  },
  {
   "cell_type": "code",
   "execution_count": 12,
   "id": "eab67217",
   "metadata": {},
   "outputs": [
    {
     "data": {
      "text/plain": [
       "Month\n",
       "May    58.4\n",
       "Jun     0.4\n",
       "Name: Rain, dtype: float64"
      ]
     },
     "execution_count": 12,
     "metadata": {},
     "output_type": "execute_result"
    }
   ],
   "source": [
    "df.iloc[[4,5],2]"
   ]
  },
  {
   "cell_type": "code",
   "execution_count": null,
   "id": "df793302",
   "metadata": {},
   "outputs": [],
   "source": [
    "# ================================="
   ]
  },
  {
   "cell_type": "code",
   "execution_count": 15,
   "id": "86f45e3c",
   "metadata": {},
   "outputs": [
    {
     "data": {
      "text/plain": [
       "Tmin     9.8\n",
       "Rain    58.4\n",
       "Name: May, dtype: float64"
      ]
     },
     "execution_count": 15,
     "metadata": {},
     "output_type": "execute_result"
    }
   ],
   "source": [
    "# Multiple columns:\n",
    "df.loc['May',['Tmin','Rain']]"
   ]
  },
  {
   "cell_type": "code",
   "execution_count": 16,
   "id": "5192efb3",
   "metadata": {},
   "outputs": [
    {
     "data": {
      "text/plain": [
       "Tmin     9.8\n",
       "Rain    58.4\n",
       "Name: May, dtype: float64"
      ]
     },
     "execution_count": 16,
     "metadata": {},
     "output_type": "execute_result"
    }
   ],
   "source": [
    "# The equivalent iloc:\n",
    "df.iloc[4,[1,2]]"
   ]
  },
  {
   "cell_type": "code",
   "execution_count": 13,
   "id": "1ebada3e",
   "metadata": {},
   "outputs": [
    {
     "data": {
      "text/plain": [
       "Tmax    10.7\n",
       "Sun     40.3\n",
       "Name: Dec, dtype: float64"
      ]
     },
     "execution_count": 13,
     "metadata": {},
     "output_type": "execute_result"
    }
   ],
   "source": [
    "df.loc['Dec',['Tmax','Sun']]"
   ]
  },
  {
   "cell_type": "code",
   "execution_count": 14,
   "id": "1476953f",
   "metadata": {},
   "outputs": [
    {
     "data": {
      "text/plain": [
       "Tmax    10.7\n",
       "Sun     40.3\n",
       "Name: Dec, dtype: float64"
      ]
     },
     "execution_count": 14,
     "metadata": {},
     "output_type": "execute_result"
    }
   ],
   "source": [
    "df.iloc[11,[0,3]]"
   ]
  },
  {
   "cell_type": "code",
   "execution_count": null,
   "id": "bbad6704",
   "metadata": {},
   "outputs": [],
   "source": [
    "# === Multiple rows and columns =="
   ]
  },
  {
   "cell_type": "code",
   "execution_count": 17,
   "id": "05835334",
   "metadata": {},
   "outputs": [
    {
     "data": {
      "text/html": [
       "<div>\n",
       "<style scoped>\n",
       "    .dataframe tbody tr th:only-of-type {\n",
       "        vertical-align: middle;\n",
       "    }\n",
       "\n",
       "    .dataframe tbody tr th {\n",
       "        vertical-align: top;\n",
       "    }\n",
       "\n",
       "    .dataframe thead th {\n",
       "        text-align: right;\n",
       "    }\n",
       "</style>\n",
       "<table border=\"1\" class=\"dataframe\">\n",
       "  <thead>\n",
       "    <tr style=\"text-align: right;\">\n",
       "      <th></th>\n",
       "      <th>Tmax</th>\n",
       "      <th>Rain</th>\n",
       "    </tr>\n",
       "    <tr>\n",
       "      <th>Month</th>\n",
       "      <th></th>\n",
       "      <th></th>\n",
       "    </tr>\n",
       "  </thead>\n",
       "  <tbody>\n",
       "    <tr>\n",
       "      <th>Oct</th>\n",
       "      <td>16.5</td>\n",
       "      <td>61.0</td>\n",
       "    </tr>\n",
       "    <tr>\n",
       "      <th>Nov</th>\n",
       "      <td>12.2</td>\n",
       "      <td>73.8</td>\n",
       "    </tr>\n",
       "  </tbody>\n",
       "</table>\n",
       "</div>"
      ],
      "text/plain": [
       "       Tmax  Rain\n",
       "Month            \n",
       "Oct    16.5  61.0\n",
       "Nov    12.2  73.8"
      ]
     },
     "execution_count": 17,
     "metadata": {},
     "output_type": "execute_result"
    }
   ],
   "source": [
    "rows = ['Oct', 'Nov']\n",
    "cols = ['Tmax','Rain']\n",
    "\n",
    "df.loc[rows, cols]"
   ]
  },
  {
   "cell_type": "code",
   "execution_count": 18,
   "id": "caf229c2",
   "metadata": {},
   "outputs": [
    {
     "data": {
      "text/html": [
       "<div>\n",
       "<style scoped>\n",
       "    .dataframe tbody tr th:only-of-type {\n",
       "        vertical-align: middle;\n",
       "    }\n",
       "\n",
       "    .dataframe tbody tr th {\n",
       "        vertical-align: top;\n",
       "    }\n",
       "\n",
       "    .dataframe thead th {\n",
       "        text-align: right;\n",
       "    }\n",
       "</style>\n",
       "<table border=\"1\" class=\"dataframe\">\n",
       "  <thead>\n",
       "    <tr style=\"text-align: right;\">\n",
       "      <th></th>\n",
       "      <th>Tmax</th>\n",
       "      <th>Rain</th>\n",
       "    </tr>\n",
       "    <tr>\n",
       "      <th>Month</th>\n",
       "      <th></th>\n",
       "      <th></th>\n",
       "    </tr>\n",
       "  </thead>\n",
       "  <tbody>\n",
       "    <tr>\n",
       "      <th>Oct</th>\n",
       "      <td>16.5</td>\n",
       "      <td>61.0</td>\n",
       "    </tr>\n",
       "    <tr>\n",
       "      <th>Nov</th>\n",
       "      <td>12.2</td>\n",
       "      <td>73.8</td>\n",
       "    </tr>\n",
       "  </tbody>\n",
       "</table>\n",
       "</div>"
      ],
      "text/plain": [
       "       Tmax  Rain\n",
       "Month            \n",
       "Oct    16.5  61.0\n",
       "Nov    12.2  73.8"
      ]
     },
     "execution_count": 18,
     "metadata": {},
     "output_type": "execute_result"
    }
   ],
   "source": [
    "# The equivalent iloc:\n",
    "rows = [9,10]\n",
    "cols = [0,2]\n",
    "df.iloc[rows, cols]"
   ]
  },
  {
   "cell_type": "code",
   "execution_count": 15,
   "id": "bb41cef7",
   "metadata": {},
   "outputs": [
    {
     "data": {
      "text/html": [
       "<div>\n",
       "<style scoped>\n",
       "    .dataframe tbody tr th:only-of-type {\n",
       "        vertical-align: middle;\n",
       "    }\n",
       "\n",
       "    .dataframe tbody tr th {\n",
       "        vertical-align: top;\n",
       "    }\n",
       "\n",
       "    .dataframe thead th {\n",
       "        text-align: right;\n",
       "    }\n",
       "</style>\n",
       "<table border=\"1\" class=\"dataframe\">\n",
       "  <thead>\n",
       "    <tr style=\"text-align: right;\">\n",
       "      <th></th>\n",
       "      <th>Tmin</th>\n",
       "      <th>Sun</th>\n",
       "    </tr>\n",
       "    <tr>\n",
       "      <th>Month</th>\n",
       "      <th></th>\n",
       "      <th></th>\n",
       "    </tr>\n",
       "  </thead>\n",
       "  <tbody>\n",
       "    <tr>\n",
       "      <th>Feb</th>\n",
       "      <td>0.6</td>\n",
       "      <td>92.0</td>\n",
       "    </tr>\n",
       "    <tr>\n",
       "      <th>Mar</th>\n",
       "      <td>3.0</td>\n",
       "      <td>70.3</td>\n",
       "    </tr>\n",
       "  </tbody>\n",
       "</table>\n",
       "</div>"
      ],
      "text/plain": [
       "       Tmin   Sun\n",
       "Month            \n",
       "Feb     0.6  92.0\n",
       "Mar     3.0  70.3"
      ]
     },
     "execution_count": 15,
     "metadata": {},
     "output_type": "execute_result"
    }
   ],
   "source": [
    "rows = ['Feb','Mar']\n",
    "col = ['Tmin','Sun']\n",
    "df.loc[rows,col]"
   ]
  },
  {
   "cell_type": "code",
   "execution_count": 17,
   "id": "cb7700fb",
   "metadata": {},
   "outputs": [
    {
     "data": {
      "text/html": [
       "<div>\n",
       "<style scoped>\n",
       "    .dataframe tbody tr th:only-of-type {\n",
       "        vertical-align: middle;\n",
       "    }\n",
       "\n",
       "    .dataframe tbody tr th {\n",
       "        vertical-align: top;\n",
       "    }\n",
       "\n",
       "    .dataframe thead th {\n",
       "        text-align: right;\n",
       "    }\n",
       "</style>\n",
       "<table border=\"1\" class=\"dataframe\">\n",
       "  <thead>\n",
       "    <tr style=\"text-align: right;\">\n",
       "      <th></th>\n",
       "      <th>Tmin</th>\n",
       "      <th>Sun</th>\n",
       "    </tr>\n",
       "    <tr>\n",
       "      <th>Month</th>\n",
       "      <th></th>\n",
       "      <th></th>\n",
       "    </tr>\n",
       "  </thead>\n",
       "  <tbody>\n",
       "    <tr>\n",
       "      <th>Feb</th>\n",
       "      <td>0.6</td>\n",
       "      <td>92.0</td>\n",
       "    </tr>\n",
       "    <tr>\n",
       "      <th>Mar</th>\n",
       "      <td>3.0</td>\n",
       "      <td>70.3</td>\n",
       "    </tr>\n",
       "  </tbody>\n",
       "</table>\n",
       "</div>"
      ],
      "text/plain": [
       "       Tmin   Sun\n",
       "Month            \n",
       "Feb     0.6  92.0\n",
       "Mar     3.0  70.3"
      ]
     },
     "execution_count": 17,
     "metadata": {},
     "output_type": "execute_result"
    }
   ],
   "source": [
    "rows = [1,2]\n",
    "col = [1,3]\n",
    "df.iloc[rows,col]"
   ]
  },
  {
   "cell_type": "code",
   "execution_count": null,
   "id": "01bc1992",
   "metadata": {},
   "outputs": [],
   "source": [
    "# =============================="
   ]
  },
  {
   "cell_type": "markdown",
   "id": "d83e4f0c",
   "metadata": {},
   "source": [
    "#### 4. Selecting a range of data via slice"
   ]
  },
  {
   "cell_type": "code",
   "execution_count": 23,
   "id": "916bd495",
   "metadata": {},
   "outputs": [
    {
     "data": {
      "text/html": [
       "<div>\n",
       "<style scoped>\n",
       "    .dataframe tbody tr th:only-of-type {\n",
       "        vertical-align: middle;\n",
       "    }\n",
       "\n",
       "    .dataframe tbody tr th {\n",
       "        vertical-align: top;\n",
       "    }\n",
       "\n",
       "    .dataframe thead th {\n",
       "        text-align: right;\n",
       "    }\n",
       "</style>\n",
       "<table border=\"1\" class=\"dataframe\">\n",
       "  <thead>\n",
       "    <tr style=\"text-align: right;\">\n",
       "      <th></th>\n",
       "      <th>Tmax</th>\n",
       "      <th>Tmin</th>\n",
       "      <th>Rain</th>\n",
       "    </tr>\n",
       "    <tr>\n",
       "      <th>Month</th>\n",
       "      <th></th>\n",
       "      <th></th>\n",
       "      <th></th>\n",
       "    </tr>\n",
       "  </thead>\n",
       "  <tbody>\n",
       "    <tr>\n",
       "      <th>Feb</th>\n",
       "      <td>6.7</td>\n",
       "      <td>0.6</td>\n",
       "      <td>29.0</td>\n",
       "    </tr>\n",
       "    <tr>\n",
       "      <th>Mar</th>\n",
       "      <td>9.8</td>\n",
       "      <td>3.0</td>\n",
       "      <td>81.2</td>\n",
       "    </tr>\n",
       "  </tbody>\n",
       "</table>\n",
       "</div>"
      ],
      "text/plain": [
       "       Tmax  Tmin  Rain\n",
       "Month                  \n",
       "Feb     6.7   0.6  29.0\n",
       "Mar     9.8   3.0  81.2"
      ]
     },
     "execution_count": 23,
     "metadata": {},
     "output_type": "execute_result"
    }
   ],
   "source": [
    "# Slicing column labels:\n",
    "rows = ['Feb', 'Mar']\n",
    "df.loc[rows, 'Tmax':'Rain']"
   ]
  },
  {
   "cell_type": "code",
   "execution_count": 25,
   "id": "547a9147",
   "metadata": {},
   "outputs": [
    {
     "data": {
      "text/html": [
       "<div>\n",
       "<style scoped>\n",
       "    .dataframe tbody tr th:only-of-type {\n",
       "        vertical-align: middle;\n",
       "    }\n",
       "\n",
       "    .dataframe tbody tr th {\n",
       "        vertical-align: top;\n",
       "    }\n",
       "\n",
       "    .dataframe thead th {\n",
       "        text-align: right;\n",
       "    }\n",
       "</style>\n",
       "<table border=\"1\" class=\"dataframe\">\n",
       "  <thead>\n",
       "    <tr style=\"text-align: right;\">\n",
       "      <th></th>\n",
       "      <th>Tmax</th>\n",
       "      <th>Tmin</th>\n",
       "      <th>Rain</th>\n",
       "    </tr>\n",
       "    <tr>\n",
       "      <th>Month</th>\n",
       "      <th></th>\n",
       "      <th></th>\n",
       "      <th></th>\n",
       "    </tr>\n",
       "  </thead>\n",
       "  <tbody>\n",
       "    <tr>\n",
       "      <th>Feb</th>\n",
       "      <td>6.7</td>\n",
       "      <td>0.6</td>\n",
       "      <td>29.0</td>\n",
       "    </tr>\n",
       "    <tr>\n",
       "      <th>Mar</th>\n",
       "      <td>9.8</td>\n",
       "      <td>3.0</td>\n",
       "      <td>81.2</td>\n",
       "    </tr>\n",
       "  </tbody>\n",
       "</table>\n",
       "</div>"
      ],
      "text/plain": [
       "       Tmax  Tmin  Rain\n",
       "Month                  \n",
       "Feb     6.7   0.6  29.0\n",
       "Mar     9.8   3.0  81.2"
      ]
     },
     "execution_count": 25,
     "metadata": {},
     "output_type": "execute_result"
    }
   ],
   "source": [
    "# The equivalent iloc :\n",
    "df.iloc[[1,2],0:3]\n"
   ]
  },
  {
   "cell_type": "code",
   "execution_count": 29,
   "id": "cb0b1d36",
   "metadata": {},
   "outputs": [
    {
     "data": {
      "text/html": [
       "<div>\n",
       "<style scoped>\n",
       "    .dataframe tbody tr th:only-of-type {\n",
       "        vertical-align: middle;\n",
       "    }\n",
       "\n",
       "    .dataframe tbody tr th {\n",
       "        vertical-align: top;\n",
       "    }\n",
       "\n",
       "    .dataframe thead th {\n",
       "        text-align: right;\n",
       "    }\n",
       "</style>\n",
       "<table border=\"1\" class=\"dataframe\">\n",
       "  <thead>\n",
       "    <tr style=\"text-align: right;\">\n",
       "      <th></th>\n",
       "      <th>Tmin</th>\n",
       "      <th>Rain</th>\n",
       "    </tr>\n",
       "    <tr>\n",
       "      <th>Month</th>\n",
       "      <th></th>\n",
       "      <th></th>\n",
       "    </tr>\n",
       "  </thead>\n",
       "  <tbody>\n",
       "    <tr>\n",
       "      <th>Mar</th>\n",
       "      <td>3.0</td>\n",
       "      <td>81.2</td>\n",
       "    </tr>\n",
       "    <tr>\n",
       "      <th>Apr</th>\n",
       "      <td>7.9</td>\n",
       "      <td>65.2</td>\n",
       "    </tr>\n",
       "    <tr>\n",
       "      <th>May</th>\n",
       "      <td>9.8</td>\n",
       "      <td>58.4</td>\n",
       "    </tr>\n",
       "    <tr>\n",
       "      <th>Jun</th>\n",
       "      <td>13.1</td>\n",
       "      <td>0.4</td>\n",
       "    </tr>\n",
       "  </tbody>\n",
       "</table>\n",
       "</div>"
      ],
      "text/plain": [
       "       Tmin  Rain\n",
       "Month            \n",
       "Mar     3.0  81.2\n",
       "Apr     7.9  65.2\n",
       "May     9.8  58.4\n",
       "Jun    13.1   0.4"
      ]
     },
     "execution_count": 29,
     "metadata": {},
     "output_type": "execute_result"
    }
   ],
   "source": [
    "# Slicing row labels:\n",
    "cols = ['Tmin','Rain']\n",
    "df.loc['Mar':'Jun', cols]"
   ]
  },
  {
   "cell_type": "code",
   "execution_count": 25,
   "id": "5d8924aa",
   "metadata": {},
   "outputs": [
    {
     "data": {
      "text/html": [
       "<div>\n",
       "<style scoped>\n",
       "    .dataframe tbody tr th:only-of-type {\n",
       "        vertical-align: middle;\n",
       "    }\n",
       "\n",
       "    .dataframe tbody tr th {\n",
       "        vertical-align: top;\n",
       "    }\n",
       "\n",
       "    .dataframe thead th {\n",
       "        text-align: right;\n",
       "    }\n",
       "</style>\n",
       "<table border=\"1\" class=\"dataframe\">\n",
       "  <thead>\n",
       "    <tr style=\"text-align: right;\">\n",
       "      <th></th>\n",
       "      <th>Tmin</th>\n",
       "      <th>Rain</th>\n",
       "    </tr>\n",
       "    <tr>\n",
       "      <th>Month</th>\n",
       "      <th></th>\n",
       "      <th></th>\n",
       "    </tr>\n",
       "  </thead>\n",
       "  <tbody>\n",
       "    <tr>\n",
       "      <th>Mar</th>\n",
       "      <td>3.0</td>\n",
       "      <td>81.2</td>\n",
       "    </tr>\n",
       "    <tr>\n",
       "      <th>Apr</th>\n",
       "      <td>7.9</td>\n",
       "      <td>65.2</td>\n",
       "    </tr>\n",
       "    <tr>\n",
       "      <th>May</th>\n",
       "      <td>9.8</td>\n",
       "      <td>58.4</td>\n",
       "    </tr>\n",
       "    <tr>\n",
       "      <th>Jun</th>\n",
       "      <td>13.1</td>\n",
       "      <td>0.4</td>\n",
       "    </tr>\n",
       "  </tbody>\n",
       "</table>\n",
       "</div>"
      ],
      "text/plain": [
       "       Tmin  Rain\n",
       "Month            \n",
       "Mar     3.0  81.2\n",
       "Apr     7.9  65.2\n",
       "May     9.8  58.4\n",
       "Jun    13.1   0.4"
      ]
     },
     "execution_count": 25,
     "metadata": {},
     "output_type": "execute_result"
    }
   ],
   "source": [
    "# The equivalent iloc:\n",
    "df.iloc[2:6, 1:3]"
   ]
  },
  {
   "cell_type": "code",
   "execution_count": null,
   "id": "8dfe8cd8",
   "metadata": {},
   "outputs": [],
   "source": [
    "# ======================="
   ]
  },
  {
   "cell_type": "markdown",
   "id": "48e7c79b",
   "metadata": {},
   "source": [
    "#### 5. Selecting via conditions"
   ]
  },
  {
   "cell_type": "markdown",
   "id": "ed4c6eee",
   "metadata": {},
   "source": [
    "#### 5.1 Conditions:"
   ]
  },
  {
   "cell_type": "code",
   "execution_count": 26,
   "id": "d8acff2c",
   "metadata": {},
   "outputs": [
    {
     "data": {
      "text/html": [
       "<div>\n",
       "<style scoped>\n",
       "    .dataframe tbody tr th:only-of-type {\n",
       "        vertical-align: middle;\n",
       "    }\n",
       "\n",
       "    .dataframe tbody tr th {\n",
       "        vertical-align: top;\n",
       "    }\n",
       "\n",
       "    .dataframe thead th {\n",
       "        text-align: right;\n",
       "    }\n",
       "</style>\n",
       "<table border=\"1\" class=\"dataframe\">\n",
       "  <thead>\n",
       "    <tr style=\"text-align: right;\">\n",
       "      <th></th>\n",
       "      <th>Tmax</th>\n",
       "      <th>Tmin</th>\n",
       "      <th>Rain</th>\n",
       "      <th>Sun</th>\n",
       "    </tr>\n",
       "    <tr>\n",
       "      <th>Month</th>\n",
       "      <th></th>\n",
       "      <th></th>\n",
       "      <th></th>\n",
       "      <th></th>\n",
       "    </tr>\n",
       "  </thead>\n",
       "  <tbody>\n",
       "    <tr>\n",
       "      <th>Jan</th>\n",
       "      <td>9.7</td>\n",
       "      <td>3.8</td>\n",
       "      <td>58.0</td>\n",
       "      <td>46.5</td>\n",
       "    </tr>\n",
       "    <tr>\n",
       "      <th>Feb</th>\n",
       "      <td>6.7</td>\n",
       "      <td>0.6</td>\n",
       "      <td>29.0</td>\n",
       "      <td>92.0</td>\n",
       "    </tr>\n",
       "    <tr>\n",
       "      <th>Mar</th>\n",
       "      <td>9.8</td>\n",
       "      <td>3.0</td>\n",
       "      <td>81.2</td>\n",
       "      <td>70.3</td>\n",
       "    </tr>\n",
       "    <tr>\n",
       "      <th>Apr</th>\n",
       "      <td>15.5</td>\n",
       "      <td>7.9</td>\n",
       "      <td>65.2</td>\n",
       "      <td>113.4</td>\n",
       "    </tr>\n",
       "    <tr>\n",
       "      <th>May</th>\n",
       "      <td>20.8</td>\n",
       "      <td>9.8</td>\n",
       "      <td>58.4</td>\n",
       "      <td>248.3</td>\n",
       "    </tr>\n",
       "    <tr>\n",
       "      <th>Jun</th>\n",
       "      <td>24.2</td>\n",
       "      <td>13.1</td>\n",
       "      <td>0.4</td>\n",
       "      <td>234.5</td>\n",
       "    </tr>\n",
       "    <tr>\n",
       "      <th>Jul</th>\n",
       "      <td>28.3</td>\n",
       "      <td>16.4</td>\n",
       "      <td>14.8</td>\n",
       "      <td>272.5</td>\n",
       "    </tr>\n",
       "    <tr>\n",
       "      <th>Aug</th>\n",
       "      <td>24.5</td>\n",
       "      <td>14.5</td>\n",
       "      <td>48.2</td>\n",
       "      <td>182.1</td>\n",
       "    </tr>\n",
       "    <tr>\n",
       "      <th>Sep</th>\n",
       "      <td>20.9</td>\n",
       "      <td>11.0</td>\n",
       "      <td>29.4</td>\n",
       "      <td>195.0</td>\n",
       "    </tr>\n",
       "    <tr>\n",
       "      <th>Oct</th>\n",
       "      <td>16.5</td>\n",
       "      <td>8.5</td>\n",
       "      <td>61.0</td>\n",
       "      <td>137.0</td>\n",
       "    </tr>\n",
       "    <tr>\n",
       "      <th>Nov</th>\n",
       "      <td>12.2</td>\n",
       "      <td>5.8</td>\n",
       "      <td>73.8</td>\n",
       "      <td>72.9</td>\n",
       "    </tr>\n",
       "    <tr>\n",
       "      <th>Dec</th>\n",
       "      <td>10.7</td>\n",
       "      <td>5.2</td>\n",
       "      <td>60.6</td>\n",
       "      <td>40.3</td>\n",
       "    </tr>\n",
       "  </tbody>\n",
       "</table>\n",
       "</div>"
      ],
      "text/plain": [
       "       Tmax  Tmin  Rain    Sun\n",
       "Month                         \n",
       "Jan     9.7   3.8  58.0   46.5\n",
       "Feb     6.7   0.6  29.0   92.0\n",
       "Mar     9.8   3.0  81.2   70.3\n",
       "Apr    15.5   7.9  65.2  113.4\n",
       "May    20.8   9.8  58.4  248.3\n",
       "Jun    24.2  13.1   0.4  234.5\n",
       "Jul    28.3  16.4  14.8  272.5\n",
       "Aug    24.5  14.5  48.2  182.1\n",
       "Sep    20.9  11.0  29.4  195.0\n",
       "Oct    16.5   8.5  61.0  137.0\n",
       "Nov    12.2   5.8  73.8   72.9\n",
       "Dec    10.7   5.2  60.6   40.3"
      ]
     },
     "execution_count": 26,
     "metadata": {},
     "output_type": "execute_result"
    }
   ],
   "source": [
    "df"
   ]
  },
  {
   "cell_type": "code",
   "execution_count": 29,
   "id": "708a053b",
   "metadata": {},
   "outputs": [
    {
     "data": {
      "text/html": [
       "<div>\n",
       "<style scoped>\n",
       "    .dataframe tbody tr th:only-of-type {\n",
       "        vertical-align: middle;\n",
       "    }\n",
       "\n",
       "    .dataframe tbody tr th {\n",
       "        vertical-align: top;\n",
       "    }\n",
       "\n",
       "    .dataframe thead th {\n",
       "        text-align: right;\n",
       "    }\n",
       "</style>\n",
       "<table border=\"1\" class=\"dataframe\">\n",
       "  <thead>\n",
       "    <tr style=\"text-align: right;\">\n",
       "      <th></th>\n",
       "      <th>Tmax</th>\n",
       "      <th>Tmin</th>\n",
       "      <th>Rain</th>\n",
       "      <th>Sun</th>\n",
       "    </tr>\n",
       "    <tr>\n",
       "      <th>Month</th>\n",
       "      <th></th>\n",
       "      <th></th>\n",
       "      <th></th>\n",
       "      <th></th>\n",
       "    </tr>\n",
       "  </thead>\n",
       "  <tbody>\n",
       "    <tr>\n",
       "      <th>Jan</th>\n",
       "      <td>9.7</td>\n",
       "      <td>3.8</td>\n",
       "      <td>58.0</td>\n",
       "      <td>46.5</td>\n",
       "    </tr>\n",
       "    <tr>\n",
       "      <th>Mar</th>\n",
       "      <td>9.8</td>\n",
       "      <td>3.0</td>\n",
       "      <td>81.2</td>\n",
       "      <td>70.3</td>\n",
       "    </tr>\n",
       "    <tr>\n",
       "      <th>Apr</th>\n",
       "      <td>15.5</td>\n",
       "      <td>7.9</td>\n",
       "      <td>65.2</td>\n",
       "      <td>113.4</td>\n",
       "    </tr>\n",
       "    <tr>\n",
       "      <th>May</th>\n",
       "      <td>20.8</td>\n",
       "      <td>9.8</td>\n",
       "      <td>58.4</td>\n",
       "      <td>248.3</td>\n",
       "    </tr>\n",
       "    <tr>\n",
       "      <th>Oct</th>\n",
       "      <td>16.5</td>\n",
       "      <td>8.5</td>\n",
       "      <td>61.0</td>\n",
       "      <td>137.0</td>\n",
       "    </tr>\n",
       "    <tr>\n",
       "      <th>Nov</th>\n",
       "      <td>12.2</td>\n",
       "      <td>5.8</td>\n",
       "      <td>73.8</td>\n",
       "      <td>72.9</td>\n",
       "    </tr>\n",
       "    <tr>\n",
       "      <th>Dec</th>\n",
       "      <td>10.7</td>\n",
       "      <td>5.2</td>\n",
       "      <td>60.6</td>\n",
       "      <td>40.3</td>\n",
       "    </tr>\n",
       "  </tbody>\n",
       "</table>\n",
       "</div>"
      ],
      "text/plain": [
       "       Tmax  Tmin  Rain    Sun\n",
       "Month                         \n",
       "Jan     9.7   3.8  58.0   46.5\n",
       "Mar     9.8   3.0  81.2   70.3\n",
       "Apr    15.5   7.9  65.2  113.4\n",
       "May    20.8   9.8  58.4  248.3\n",
       "Oct    16.5   8.5  61.0  137.0\n",
       "Nov    12.2   5.8  73.8   72.9\n",
       "Dec    10.7   5.2  60.6   40.3"
      ]
     },
     "execution_count": 29,
     "metadata": {},
     "output_type": "execute_result"
    }
   ],
   "source": [
    "# Single condition : Rain greater than 50 -\n",
    "df.loc[df.Rain > 50]"
   ]
  },
  {
   "cell_type": "code",
   "execution_count": 33,
   "id": "b631122e",
   "metadata": {},
   "outputs": [
    {
     "data": {
      "text/html": [
       "<div>\n",
       "<style scoped>\n",
       "    .dataframe tbody tr th:only-of-type {\n",
       "        vertical-align: middle;\n",
       "    }\n",
       "\n",
       "    .dataframe tbody tr th {\n",
       "        vertical-align: top;\n",
       "    }\n",
       "\n",
       "    .dataframe thead th {\n",
       "        text-align: right;\n",
       "    }\n",
       "</style>\n",
       "<table border=\"1\" class=\"dataframe\">\n",
       "  <thead>\n",
       "    <tr style=\"text-align: right;\">\n",
       "      <th></th>\n",
       "      <th>Tmax</th>\n",
       "      <th>Tmin</th>\n",
       "      <th>Rain</th>\n",
       "      <th>Sun</th>\n",
       "    </tr>\n",
       "    <tr>\n",
       "      <th>Month</th>\n",
       "      <th></th>\n",
       "      <th></th>\n",
       "      <th></th>\n",
       "      <th></th>\n",
       "    </tr>\n",
       "  </thead>\n",
       "  <tbody>\n",
       "    <tr>\n",
       "      <th>Jan</th>\n",
       "      <td>9.7</td>\n",
       "      <td>3.8</td>\n",
       "      <td>58.0</td>\n",
       "      <td>46.5</td>\n",
       "    </tr>\n",
       "    <tr>\n",
       "      <th>Mar</th>\n",
       "      <td>9.8</td>\n",
       "      <td>3.0</td>\n",
       "      <td>81.2</td>\n",
       "      <td>70.3</td>\n",
       "    </tr>\n",
       "    <tr>\n",
       "      <th>Apr</th>\n",
       "      <td>15.5</td>\n",
       "      <td>7.9</td>\n",
       "      <td>65.2</td>\n",
       "      <td>113.4</td>\n",
       "    </tr>\n",
       "    <tr>\n",
       "      <th>May</th>\n",
       "      <td>20.8</td>\n",
       "      <td>9.8</td>\n",
       "      <td>58.4</td>\n",
       "      <td>248.3</td>\n",
       "    </tr>\n",
       "    <tr>\n",
       "      <th>Oct</th>\n",
       "      <td>16.5</td>\n",
       "      <td>8.5</td>\n",
       "      <td>61.0</td>\n",
       "      <td>137.0</td>\n",
       "    </tr>\n",
       "    <tr>\n",
       "      <th>Nov</th>\n",
       "      <td>12.2</td>\n",
       "      <td>5.8</td>\n",
       "      <td>73.8</td>\n",
       "      <td>72.9</td>\n",
       "    </tr>\n",
       "    <tr>\n",
       "      <th>Dec</th>\n",
       "      <td>10.7</td>\n",
       "      <td>5.2</td>\n",
       "      <td>60.6</td>\n",
       "      <td>40.3</td>\n",
       "    </tr>\n",
       "  </tbody>\n",
       "</table>\n",
       "</div>"
      ],
      "text/plain": [
       "       Tmax  Tmin  Rain    Sun\n",
       "Month                         \n",
       "Jan     9.7   3.8  58.0   46.5\n",
       "Mar     9.8   3.0  81.2   70.3\n",
       "Apr    15.5   7.9  65.2  113.4\n",
       "May    20.8   9.8  58.4  248.3\n",
       "Oct    16.5   8.5  61.0  137.0\n",
       "Nov    12.2   5.8  73.8   72.9\n",
       "Dec    10.7   5.2  60.6   40.3"
      ]
     },
     "execution_count": 33,
     "metadata": {},
     "output_type": "execute_result"
    }
   ],
   "source": [
    "# Single condition :equivalent iloc: Rain greater than 50 \n",
    "df.iloc[list(df.Rain >50)]"
   ]
  },
  {
   "cell_type": "code",
   "execution_count": 30,
   "id": "7afe82e6",
   "metadata": {},
   "outputs": [
    {
     "data": {
      "text/html": [
       "<div>\n",
       "<style scoped>\n",
       "    .dataframe tbody tr th:only-of-type {\n",
       "        vertical-align: middle;\n",
       "    }\n",
       "\n",
       "    .dataframe tbody tr th {\n",
       "        vertical-align: top;\n",
       "    }\n",
       "\n",
       "    .dataframe thead th {\n",
       "        text-align: right;\n",
       "    }\n",
       "</style>\n",
       "<table border=\"1\" class=\"dataframe\">\n",
       "  <thead>\n",
       "    <tr style=\"text-align: right;\">\n",
       "      <th></th>\n",
       "      <th>Tmax</th>\n",
       "      <th>Tmin</th>\n",
       "      <th>Rain</th>\n",
       "      <th>Sun</th>\n",
       "    </tr>\n",
       "    <tr>\n",
       "      <th>Month</th>\n",
       "      <th></th>\n",
       "      <th></th>\n",
       "      <th></th>\n",
       "      <th></th>\n",
       "    </tr>\n",
       "  </thead>\n",
       "  <tbody>\n",
       "    <tr>\n",
       "      <th>May</th>\n",
       "      <td>20.8</td>\n",
       "      <td>9.8</td>\n",
       "      <td>58.4</td>\n",
       "      <td>248.3</td>\n",
       "    </tr>\n",
       "  </tbody>\n",
       "</table>\n",
       "</div>"
      ],
      "text/plain": [
       "       Tmax  Tmin  Rain    Sun\n",
       "Month                         \n",
       "May    20.8   9.8  58.4  248.3"
      ]
     },
     "execution_count": 30,
     "metadata": {},
     "output_type": "execute_result"
    }
   ],
   "source": [
    "# Multiple conditions : Rain > 50 & Sun >= 200\n",
    "df.loc[\n",
    "    (df.Rain > 50) & (df.Sun >= 200)\n",
    "]"
   ]
  },
  {
   "cell_type": "code",
   "execution_count": 31,
   "id": "5420e5fa",
   "metadata": {},
   "outputs": [
    {
     "data": {
      "text/html": [
       "<div>\n",
       "<style scoped>\n",
       "    .dataframe tbody tr th:only-of-type {\n",
       "        vertical-align: middle;\n",
       "    }\n",
       "\n",
       "    .dataframe tbody tr th {\n",
       "        vertical-align: top;\n",
       "    }\n",
       "\n",
       "    .dataframe thead th {\n",
       "        text-align: right;\n",
       "    }\n",
       "</style>\n",
       "<table border=\"1\" class=\"dataframe\">\n",
       "  <thead>\n",
       "    <tr style=\"text-align: right;\">\n",
       "      <th></th>\n",
       "      <th>Tmax</th>\n",
       "      <th>Tmin</th>\n",
       "    </tr>\n",
       "    <tr>\n",
       "      <th>Month</th>\n",
       "      <th></th>\n",
       "      <th></th>\n",
       "    </tr>\n",
       "  </thead>\n",
       "  <tbody>\n",
       "    <tr>\n",
       "      <th>May</th>\n",
       "      <td>20.8</td>\n",
       "      <td>9.8</td>\n",
       "    </tr>\n",
       "  </tbody>\n",
       "</table>\n",
       "</div>"
      ],
      "text/plain": [
       "       Tmax  Tmin\n",
       "Month            \n",
       "May    20.8   9.8"
      ]
     },
     "execution_count": 31,
     "metadata": {},
     "output_type": "execute_result"
    }
   ],
   "source": [
    "# Multiple conditions : Rain > 50 & Sun >= 200 ; ( Display only Tmax & Tmin)\n",
    "df.loc[\n",
    "    (df.Rain > 50) & (df.Sun >= 200),\n",
    "    ['Tmax', 'Tmin']\n",
    "]"
   ]
  },
  {
   "cell_type": "code",
   "execution_count": 34,
   "id": "a73af21d",
   "metadata": {},
   "outputs": [
    {
     "data": {
      "text/html": [
       "<div>\n",
       "<style scoped>\n",
       "    .dataframe tbody tr th:only-of-type {\n",
       "        vertical-align: middle;\n",
       "    }\n",
       "\n",
       "    .dataframe tbody tr th {\n",
       "        vertical-align: top;\n",
       "    }\n",
       "\n",
       "    .dataframe thead th {\n",
       "        text-align: right;\n",
       "    }\n",
       "</style>\n",
       "<table border=\"1\" class=\"dataframe\">\n",
       "  <thead>\n",
       "    <tr style=\"text-align: right;\">\n",
       "      <th></th>\n",
       "      <th>Tmax</th>\n",
       "      <th>Tmin</th>\n",
       "      <th>Rain</th>\n",
       "      <th>Sun</th>\n",
       "    </tr>\n",
       "    <tr>\n",
       "      <th>Month</th>\n",
       "      <th></th>\n",
       "      <th></th>\n",
       "      <th></th>\n",
       "      <th></th>\n",
       "    </tr>\n",
       "  </thead>\n",
       "  <tbody>\n",
       "    <tr>\n",
       "      <th>May</th>\n",
       "      <td>20.8</td>\n",
       "      <td>9.8</td>\n",
       "      <td>58.4</td>\n",
       "      <td>248.3</td>\n",
       "    </tr>\n",
       "  </tbody>\n",
       "</table>\n",
       "</div>"
      ],
      "text/plain": [
       "       Tmax  Tmin  Rain    Sun\n",
       "Month                         \n",
       "May    20.8   9.8  58.4  248.3"
      ]
     },
     "execution_count": 34,
     "metadata": {},
     "output_type": "execute_result"
    }
   ],
   "source": [
    "# Multiple conditions : Rain > 50 & Sun >= 200\n",
    "# equivalent iloc:\n",
    "df.iloc[\n",
    "       list((df.Rain > 50) & (df.Sun >= 200)),\n",
    "    :,\n",
    "]\n"
   ]
  },
  {
   "cell_type": "code",
   "execution_count": null,
   "id": "a51422ff",
   "metadata": {},
   "outputs": [],
   "source": [
    "# ======== Class Activity ==========="
   ]
  },
  {
   "cell_type": "code",
   "execution_count": null,
   "id": "a323e22a",
   "metadata": {},
   "outputs": [],
   "source": []
  },
  {
   "cell_type": "code",
   "execution_count": null,
   "id": "3c1f8568",
   "metadata": {},
   "outputs": [],
   "source": []
  }
 ],
 "metadata": {
  "kernelspec": {
   "display_name": "Python 3 (ipykernel)",
   "language": "python",
   "name": "python3"
  },
  "language_info": {
   "codemirror_mode": {
    "name": "ipython",
    "version": 3
   },
   "file_extension": ".py",
   "mimetype": "text/x-python",
   "name": "python",
   "nbconvert_exporter": "python",
   "pygments_lexer": "ipython3",
   "version": "3.10.6"
  }
 },
 "nbformat": 4,
 "nbformat_minor": 5
}

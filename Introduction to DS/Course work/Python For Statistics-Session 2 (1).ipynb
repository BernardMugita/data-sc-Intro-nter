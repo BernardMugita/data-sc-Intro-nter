{
 "cells": [
  {
   "cell_type": "code",
   "execution_count": null,
   "id": "57c9b5db",
   "metadata": {},
   "outputs": [],
   "source": [
    "#Python For Statistics-Session 2a"
   ]
  },
  {
   "cell_type": "markdown",
   "id": "187dcf14",
   "metadata": {},
   "source": [
    "#### Python Libraries"
   ]
  },
  {
   "cell_type": "markdown",
   "id": "7173f2e4",
   "metadata": {},
   "source": [
    "#### I.Pandas"
   ]
  },
  {
   "cell_type": "code",
   "execution_count": null,
   "id": "9a8805a0",
   "metadata": {},
   "outputs": [],
   "source": [
    "\n",
    "\n",
    "# 1. Pandas is a fast, powerful,flexible and easy to use open source data analysis and manipulation tool,\n",
    "#    built on top of the Python programming language.\n",
    "# 2. It is a Python library used for working with data sets.\n",
    "​\n",
    "# 3. It has functions for analyzing, cleaning, exploring, and manipulating data.\n",
    "​\n",
    "# 4. The name \"Pandas\" has a reference to both \"Panel Data\", and \"Python Data Analysis\",\n",
    "#   and was created by Wes McKinney in 2008.\n",
    "​\n",
    "# 5.Pandas allows us to analyze big data and make conclusions based on statistical theories.\n",
    "​\n",
    "# 6.Pandas can clean messy data sets, and make them readable and relevant.\n",
    "​\n",
    "# 7.Relevant data is very important in data science.\n",
    "​"
   ]
  },
  {
   "cell_type": "code",
   "execution_count": null,
   "id": "5cea1b1e",
   "metadata": {},
   "outputs": [],
   "source": [
    "# statistics, pandas,numpy,scikit"
   ]
  },
  {
   "cell_type": "code",
   "execution_count": null,
   "id": "e9ee4687",
   "metadata": {},
   "outputs": [],
   "source": []
  },
  {
   "cell_type": "code",
   "execution_count": null,
   "id": "6388ccef",
   "metadata": {},
   "outputs": [],
   "source": [
    "#Calculating Mean,Median & Mode\n",
    "#The data variables for most numericals "
   ]
  },
  {
   "cell_type": "code",
   "execution_count": 2,
   "id": "33b941ca",
   "metadata": {},
   "outputs": [
    {
     "data": {
      "text/plain": [
       "6.777777777777778"
      ]
     },
     "execution_count": 2,
     "metadata": {},
     "output_type": "execute_result"
    }
   ],
   "source": [
    "import statistics\n",
    "x = [2,4,4,5,6,7,10,11,12]\n",
    "\n",
    "statistics.mean(x)  #Command number 2\n"
   ]
  },
  {
   "cell_type": "code",
   "execution_count": 1,
   "id": "14513fa8",
   "metadata": {},
   "outputs": [
    {
     "data": {
      "text/plain": [
       "10.6"
      ]
     },
     "execution_count": 1,
     "metadata": {},
     "output_type": "execute_result"
    }
   ],
   "source": [
    "import statistics\n",
    "z = [5,7,11,13,17]\n",
    "statistics.mean(z)"
   ]
  },
  {
   "cell_type": "code",
   "execution_count": 5,
   "id": "12a8a2ff",
   "metadata": {},
   "outputs": [
    {
     "data": {
      "text/plain": [
       "6.777777777777778"
      ]
     },
     "execution_count": 5,
     "metadata": {},
     "output_type": "execute_result"
    }
   ],
   "source": [
    "import statistics\n",
    "x = [7,4,4,5,6,10,11,12,2]\n",
    "\n",
    "statistics.mean(x)  #Command number 2a"
   ]
  },
  {
   "cell_type": "code",
   "execution_count": 4,
   "id": "e7775232",
   "metadata": {},
   "outputs": [
    {
     "data": {
      "text/plain": [
       "6.777777777777778"
      ]
     },
     "execution_count": 4,
     "metadata": {},
     "output_type": "execute_result"
    }
   ],
   "source": [
    "import statistics\n",
    "# Calculate the mean of the following :2,4,4,5,6,7,10,11,12\n",
    "x = [2,4,4,5,6,7,10,11,12]\n",
    "statistics.mean(x)"
   ]
  },
  {
   "cell_type": "code",
   "execution_count": null,
   "id": "699f4c96",
   "metadata": {},
   "outputs": [],
   "source": [
    "# Calculate the mean of the following :2,4,4,5,6,7,10,11,12"
   ]
  },
  {
   "cell_type": "code",
   "execution_count": 2,
   "id": "63750bba",
   "metadata": {},
   "outputs": [
    {
     "data": {
      "text/plain": [
       "6.777777777777778"
      ]
     },
     "execution_count": 2,
     "metadata": {},
     "output_type": "execute_result"
    }
   ],
   "source": [
    "import statistics\n",
    "a = [2,4,4,5,6,7,10,11,12]\n",
    "statistics.mean(a)"
   ]
  },
  {
   "cell_type": "code",
   "execution_count": 3,
   "id": "54b023cf",
   "metadata": {},
   "outputs": [
    {
     "data": {
      "text/plain": [
       "6"
      ]
     },
     "execution_count": 3,
     "metadata": {},
     "output_type": "execute_result"
    }
   ],
   "source": [
    "x = [2,4,4,5,6,7,10,11,12]\n",
    "\n",
    "\n",
    "statistics.median(x)  "
   ]
  },
  {
   "cell_type": "code",
   "execution_count": 6,
   "id": "75a1eb7b",
   "metadata": {},
   "outputs": [
    {
     "data": {
      "text/plain": [
       "6"
      ]
     },
     "execution_count": 6,
     "metadata": {},
     "output_type": "execute_result"
    }
   ],
   "source": [
    "x1 = [7,4,4,5,6,10,11,12,2]\n",
    "statistics.median(x1) "
   ]
  },
  {
   "cell_type": "code",
   "execution_count": 50,
   "id": "0b1a0258",
   "metadata": {},
   "outputs": [
    {
     "data": {
      "text/plain": [
       "6"
      ]
     },
     "execution_count": 50,
     "metadata": {},
     "output_type": "execute_result"
    }
   ],
   "source": [
    "import statistics\n",
    "\n",
    "x = [2,4,4,5,6,7,10,11,12]\n",
    "\n",
    "statistics.median(x) "
   ]
  },
  {
   "cell_type": "code",
   "execution_count": 51,
   "id": "4cbd29f6",
   "metadata": {},
   "outputs": [
    {
     "data": {
      "text/plain": [
       "4"
      ]
     },
     "execution_count": 51,
     "metadata": {},
     "output_type": "execute_result"
    }
   ],
   "source": [
    "import statistics\n",
    "\n",
    "x = [2,4,4,5,6,7,10,11,12]\n",
    "\n",
    "statistics.mode(x) "
   ]
  },
  {
   "cell_type": "code",
   "execution_count": 5,
   "id": "e0cd1f38",
   "metadata": {},
   "outputs": [
    {
     "data": {
      "text/plain": [
       "28"
      ]
     },
     "execution_count": 5,
     "metadata": {},
     "output_type": "execute_result"
    }
   ],
   "source": [
    "import statistics\n",
    "b = [14,23,87,32,17,14,9]\n",
    "statistics.mean(b)"
   ]
  },
  {
   "cell_type": "code",
   "execution_count": 6,
   "id": "3df5153d",
   "metadata": {},
   "outputs": [
    {
     "data": {
      "text/plain": [
       "17"
      ]
     },
     "execution_count": 6,
     "metadata": {},
     "output_type": "execute_result"
    }
   ],
   "source": [
    "import statistics\n",
    "b = [14,23,87,32,17,14,9]\n",
    "statistics.median(b)"
   ]
  },
  {
   "cell_type": "code",
   "execution_count": 7,
   "id": "278082d0",
   "metadata": {},
   "outputs": [
    {
     "data": {
      "text/plain": [
       "14"
      ]
     },
     "execution_count": 7,
     "metadata": {},
     "output_type": "execute_result"
    }
   ],
   "source": [
    "import statistics\n",
    "b = [14,23,87,32,17,14,9]\n",
    "statistics.mode(b)"
   ]
  },
  {
   "cell_type": "code",
   "execution_count": 4,
   "id": "13ebd3ed",
   "metadata": {},
   "outputs": [
    {
     "data": {
      "text/plain": [
       "4"
      ]
     },
     "execution_count": 4,
     "metadata": {},
     "output_type": "execute_result"
    }
   ],
   "source": [
    "x = [2,4,4,5,6,7,10,11,12]\n",
    "\n",
    "\n",
    "statistics.mode(x)  "
   ]
  },
  {
   "cell_type": "code",
   "execution_count": 18,
   "id": "3e039bdc",
   "metadata": {},
   "outputs": [
    {
     "data": {
      "text/plain": [
       "4"
      ]
     },
     "execution_count": 18,
     "metadata": {},
     "output_type": "execute_result"
    }
   ],
   "source": [
    "y = [2,4,12,10,6,7,5,11,4]\n",
    "statistics.mode(y) "
   ]
  },
  {
   "cell_type": "code",
   "execution_count": 28,
   "id": "aafbf345",
   "metadata": {},
   "outputs": [],
   "source": [
    "# To be covered in Week 3:\n",
    "# import pandas as pd\n",
    "# hr_data = pd.read_excel(r'C:\\Users\\user\\Desktop\\HR Data.xlsx')\n",
    "# hr_data"
   ]
  },
  {
   "cell_type": "code",
   "execution_count": 27,
   "id": "bb57698b",
   "metadata": {},
   "outputs": [],
   "source": [
    "# Mean,Median,Mode\n",
    "# hr_data.describe()"
   ]
  },
  {
   "cell_type": "code",
   "execution_count": 29,
   "id": "8d233877",
   "metadata": {},
   "outputs": [],
   "source": [
    "import pandas as  pd\n",
    "import numpy as np\n",
    "\n",
    "#df = pd.read_csv(r'C:\\Users\\user\\Desktop\\Python For Statistics\\Brain_Size.csv')\n",
    "#df"
   ]
  },
  {
   "cell_type": "code",
   "execution_count": 30,
   "id": "7257a04c",
   "metadata": {},
   "outputs": [],
   "source": [
    "#df.describe()\n"
   ]
  },
  {
   "cell_type": "code",
   "execution_count": 31,
   "id": "c4a4ba50",
   "metadata": {},
   "outputs": [],
   "source": [
    "#df.shape"
   ]
  },
  {
   "cell_type": "code",
   "execution_count": 1,
   "id": "c38860dc",
   "metadata": {},
   "outputs": [
    {
     "data": {
      "text/plain": [
       "'/home/jeromemugita/Downloads'"
      ]
     },
     "execution_count": 1,
     "metadata": {},
     "output_type": "execute_result"
    }
   ],
   "source": [
    "pwd"
   ]
  },
  {
   "cell_type": "code",
   "execution_count": null,
   "id": "21fb6f21",
   "metadata": {},
   "outputs": [],
   "source": []
  },
  {
   "cell_type": "code",
   "execution_count": 25,
   "id": "aea1f021",
   "metadata": {},
   "outputs": [],
   "source": []
  },
  {
   "cell_type": "code",
   "execution_count": null,
   "id": "14fa5e54",
   "metadata": {},
   "outputs": [],
   "source": []
  }
 ],
 "metadata": {
  "kernelspec": {
   "display_name": "Python 3 (ipykernel)",
   "language": "python",
   "name": "python3"
  },
  "language_info": {
   "codemirror_mode": {
    "name": "ipython",
    "version": 3
   },
   "file_extension": ".py",
   "mimetype": "text/x-python",
   "name": "python",
   "nbconvert_exporter": "python",
   "pygments_lexer": "ipython3",
   "version": "3.10.6"
  }
 },
 "nbformat": 4,
 "nbformat_minor": 5
}

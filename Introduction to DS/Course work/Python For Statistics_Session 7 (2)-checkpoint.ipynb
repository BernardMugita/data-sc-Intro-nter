{
 "cells": [
  {
   "cell_type": "markdown",
   "id": "63689332",
   "metadata": {},
   "source": [
    "#### Python Casting"
   ]
  },
  {
   "cell_type": "markdown",
   "id": "7d1d1e5d",
   "metadata": {},
   "source": [
    "#### Specify a Variable Type"
   ]
  },
  {
   "cell_type": "code",
   "execution_count": null,
   "id": "d23b50af",
   "metadata": {},
   "outputs": [],
   "source": [
    "# Casting in python is therefore done using constructor functions:\n",
    "\n",
    "#1.int() - constructs an integer number from an integer literal, a float literal (by removing all decimals), \n",
    "#          or a string literal (provided the string represents a whole number)\n",
    "#2.float() - constructs a float number from an integer literal,\n",
    "#          a float literal or a string literal (providing the string represents a float or an integer)\n",
    "#3. str() - constructs a string from a wide variety of data types, including strings,\n",
    "#           integer literals and float literals"
   ]
  },
  {
   "cell_type": "code",
   "execution_count": 9,
   "id": "a3a4f0e2",
   "metadata": {},
   "outputs": [
    {
     "data": {
      "text/plain": [
       "float"
      ]
     },
     "execution_count": 9,
     "metadata": {},
     "output_type": "execute_result"
    }
   ],
   "source": [
    "#Example for #1.int()\n",
    "w = 2.9\n",
    "type(w)"
   ]
  },
  {
   "cell_type": "code",
   "execution_count": 11,
   "id": "1b2e07ff",
   "metadata": {},
   "outputs": [
    {
     "data": {
      "text/plain": [
       "2"
      ]
     },
     "execution_count": 11,
     "metadata": {},
     "output_type": "execute_result"
    }
   ],
   "source": [
    "# int(w)\n",
    "w = int(2.9)\n",
    "type(w)\n",
    "w"
   ]
  },
  {
   "cell_type": "code",
   "execution_count": null,
   "id": "86ef3af5",
   "metadata": {},
   "outputs": [],
   "source": [
    "# Example 1: \n",
    "# Integers:\n",
    "\n",
    "x = int(1)   # x will be 1 # Cast into integer & remains an integer\n",
    "y = int(2.8) # y will be 2 # Cast into integer\n",
    "z = int(\"3\") # z will be 3 # Cast into integer"
   ]
  },
  {
   "cell_type": "code",
   "execution_count": 24,
   "id": "40ee833a",
   "metadata": {},
   "outputs": [
    {
     "data": {
      "text/plain": [
       "3"
      ]
     },
     "execution_count": 24,
     "metadata": {},
     "output_type": "execute_result"
    }
   ],
   "source": [
    "z  =int(\"3\")\n",
    "type(z)\n",
    "z"
   ]
  },
  {
   "cell_type": "code",
   "execution_count": 17,
   "id": "b93cd720",
   "metadata": {},
   "outputs": [
    {
     "data": {
      "text/plain": [
       "float"
      ]
     },
     "execution_count": 17,
     "metadata": {},
     "output_type": "execute_result"
    }
   ],
   "source": [
    "# change x to be a float :\n",
    "x = float(1)\n",
    "type(x)\n"
   ]
  },
  {
   "cell_type": "code",
   "execution_count": null,
   "id": "ee1eaca8",
   "metadata": {},
   "outputs": [],
   "source": [
    "# Example 2:\n",
    "# Floats:\n",
    "\n",
    "x = float(1)     # x will be 1.0  # Cast into float\n",
    "y = float(2.8)   # y will be 2.8\n",
    "z = float(\"3\")   # z will be 3.0  # Cast into float\n",
    "w = float(\"4.2\") # w will be 4.2  # Cast into float"
   ]
  },
  {
   "cell_type": "code",
   "execution_count": null,
   "id": "1532431a",
   "metadata": {},
   "outputs": [],
   "source": [
    "# Example 3:\n",
    "# Strings:\n",
    "\n",
    "x = str(\"s1\") # x will be 's1'  # remains a  string\n",
    "y = str(2)    # y will be '2'   # Cast into string\n",
    "z = str(3.0)  # z will be '3.0' # Cast into string"
   ]
  },
  {
   "cell_type": "code",
   "execution_count": 1,
   "id": "e2c56ad4",
   "metadata": {},
   "outputs": [
    {
     "data": {
      "text/plain": [
       "str"
      ]
     },
     "execution_count": 1,
     "metadata": {},
     "output_type": "execute_result"
    }
   ],
   "source": [
    "county = 'Kent'\n",
    "type('Kent')"
   ]
  },
  {
   "cell_type": "code",
   "execution_count": 2,
   "id": "d9c14c8e",
   "metadata": {},
   "outputs": [
    {
     "data": {
      "text/plain": [
       "str"
      ]
     },
     "execution_count": 2,
     "metadata": {},
     "output_type": "execute_result"
    }
   ],
   "source": [
    "county = '47'\n",
    "type('47')"
   ]
  },
  {
   "cell_type": "code",
   "execution_count": 7,
   "id": "71e5075f",
   "metadata": {},
   "outputs": [
    {
     "data": {
      "text/plain": [
       "47.0"
      ]
     },
     "execution_count": 7,
     "metadata": {},
     "output_type": "execute_result"
    }
   ],
   "source": [
    "county = float('47')\n",
    "county"
   ]
  },
  {
   "cell_type": "code",
   "execution_count": 6,
   "id": "7799d231",
   "metadata": {},
   "outputs": [
    {
     "data": {
      "text/plain": [
       "int"
      ]
     },
     "execution_count": 6,
     "metadata": {},
     "output_type": "execute_result"
    }
   ],
   "source": [
    "type(47)"
   ]
  },
  {
   "cell_type": "code",
   "execution_count": 9,
   "id": "364f35db",
   "metadata": {},
   "outputs": [
    {
     "data": {
      "text/plain": [
       "str"
      ]
     },
     "execution_count": 9,
     "metadata": {},
     "output_type": "execute_result"
    }
   ],
   "source": [
    "car = 'toyota'\n",
    "type(car)"
   ]
  },
  {
   "cell_type": "code",
   "execution_count": 28,
   "id": "396a6ca5",
   "metadata": {},
   "outputs": [],
   "source": []
  },
  {
   "cell_type": "code",
   "execution_count": null,
   "id": "fb12ffa8",
   "metadata": {},
   "outputs": [],
   "source": []
  },
  {
   "cell_type": "code",
   "execution_count": 14,
   "id": "b72e1895",
   "metadata": {},
   "outputs": [
    {
     "data": {
      "text/plain": [
       "float"
      ]
     },
     "execution_count": 14,
     "metadata": {},
     "output_type": "execute_result"
    }
   ],
   "source": [
    "car1 =float('15')\n",
    "type(car1)"
   ]
  },
  {
   "cell_type": "markdown",
   "id": "84023637",
   "metadata": {},
   "source": [
    "#### Slicing"
   ]
  },
  {
   "cell_type": "code",
   "execution_count": 18,
   "id": "896e2218",
   "metadata": {},
   "outputs": [
    {
     "name": "stdout",
     "output_type": "stream",
     "text": [
      "llo\n",
      "Hello, W\n"
     ]
    }
   ],
   "source": [
    "\n",
    "#1.You can return a range of characters by using the slice syntax.\n",
    "\n",
    "#2.Specify the start index and the end index, separated by a colon, to return a part of the string.\n",
    "\n",
    "# Example 1:\n",
    "# Get the characters from position 2 to position 5 (not included):\n",
    "\n",
    "b = \"Hello, World!\"\n",
    "print(b[2:5]) # Will print index 2 pstn upto index 4 pstn but not i.e.not print index 5 position\n",
    "print(b[0:8])"
   ]
  },
  {
   "cell_type": "code",
   "execution_count": 19,
   "id": "cff92f9d",
   "metadata": {},
   "outputs": [
    {
     "name": "stdout",
     "output_type": "stream",
     "text": [
      "Hello\n",
      "Hello, W\n"
     ]
    }
   ],
   "source": [
    "# Slice From the Start\n",
    "# By leaving out the start index, the range will start at the first character:\n",
    "\n",
    "# Example 2:\n",
    "# Get the characters from the start to position 5 (not included):\n",
    "\n",
    "b = \"Hello, World!\"\n",
    "print(b[:5])\n",
    "print(b[:8])"
   ]
  },
  {
   "cell_type": "code",
   "execution_count": null,
   "id": "c6dda40c",
   "metadata": {},
   "outputs": [],
   "source": [
    "# Slice To the End\n",
    "# By leaving out the end index, the range will go to the end:\n",
    "\n",
    "# Example 3:\n",
    "# Get the characters from position 1, and all the way to the end:\n",
    "\n",
    "b = \"Hello, World!\"\n",
    "print(b[1:])"
   ]
  },
  {
   "cell_type": "markdown",
   "id": "1bfe2c81",
   "metadata": {},
   "source": [
    "#### White board illustration on +ve and -ve numberline"
   ]
  },
  {
   "cell_type": "markdown",
   "id": "30a0b127",
   "metadata": {},
   "source": [
    "#### Negative Indexing"
   ]
  },
  {
   "cell_type": "code",
   "execution_count": null,
   "id": "e2f62586",
   "metadata": {},
   "outputs": [],
   "source": [
    "#Negative Indexing\n",
    "# We use negative indexes to start the slice from the end of the string:\n",
    "# Example 4:\n",
    "# Get the characters:\n",
    "\n",
    "# From: \"r\" in \"World!\" (position -4)\n",
    "\n",
    "# To, but not included: \"d\" in \"World!\" (position -2):\n",
    "\n",
    "b = \"Hello, World!\"\n",
    "print(b[-4:-2])\n"
   ]
  },
  {
   "cell_type": "code",
   "execution_count": null,
   "id": "69b4d939",
   "metadata": {},
   "outputs": [],
   "source": [
    "# Slicing a df\n",
    "# Also called Grouping\n",
    "# Kitchen Budget  *s5**"
   ]
  },
  {
   "cell_type": "code",
   "execution_count": 29,
   "id": "08d7397d",
   "metadata": {},
   "outputs": [],
   "source": [
    "import pandas as pd"
   ]
  },
  {
   "cell_type": "code",
   "execution_count": 33,
   "id": "67a32391",
   "metadata": {},
   "outputs": [
    {
     "data": {
      "text/html": [
       "<div>\n",
       "<style scoped>\n",
       "    .dataframe tbody tr th:only-of-type {\n",
       "        vertical-align: middle;\n",
       "    }\n",
       "\n",
       "    .dataframe tbody tr th {\n",
       "        vertical-align: top;\n",
       "    }\n",
       "\n",
       "    .dataframe thead th {\n",
       "        text-align: right;\n",
       "    }\n",
       "</style>\n",
       "<table border=\"1\" class=\"dataframe\">\n",
       "  <thead>\n",
       "    <tr style=\"text-align: right;\">\n",
       "      <th></th>\n",
       "      <th>Age(Yrs)\\n(x)</th>\n",
       "      <th>Arranging</th>\n",
       "      <th>Mean ( x̄)\\n</th>\n",
       "      <th>(x - x̄)</th>\n",
       "      <th>(x- x̄) ^2</th>\n",
       "    </tr>\n",
       "  </thead>\n",
       "  <tbody>\n",
       "    <tr>\n",
       "      <th>0</th>\n",
       "      <td>19</td>\n",
       "      <td>19</td>\n",
       "      <td>36.33</td>\n",
       "      <td>-17.33</td>\n",
       "      <td>300.3289</td>\n",
       "    </tr>\n",
       "    <tr>\n",
       "      <th>1</th>\n",
       "      <td>23</td>\n",
       "      <td>23</td>\n",
       "      <td>36.33</td>\n",
       "      <td>-13.33</td>\n",
       "      <td>177.6889</td>\n",
       "    </tr>\n",
       "    <tr>\n",
       "      <th>2</th>\n",
       "      <td>32</td>\n",
       "      <td>32</td>\n",
       "      <td>36.33</td>\n",
       "      <td>-4.33</td>\n",
       "      <td>18.7489</td>\n",
       "    </tr>\n",
       "    <tr>\n",
       "      <th>3</th>\n",
       "      <td>32</td>\n",
       "      <td>32</td>\n",
       "      <td>36.33</td>\n",
       "      <td>-4.33</td>\n",
       "      <td>18.7489</td>\n",
       "    </tr>\n",
       "    <tr>\n",
       "      <th>4</th>\n",
       "      <td>32</td>\n",
       "      <td>32</td>\n",
       "      <td>36.33</td>\n",
       "      <td>-4.33</td>\n",
       "      <td>18.7489</td>\n",
       "    </tr>\n",
       "    <tr>\n",
       "      <th>5</th>\n",
       "      <td>36</td>\n",
       "      <td>36</td>\n",
       "      <td>36.33</td>\n",
       "      <td>-0.33</td>\n",
       "      <td>0.1089</td>\n",
       "    </tr>\n",
       "    <tr>\n",
       "      <th>6</th>\n",
       "      <td>45</td>\n",
       "      <td>45</td>\n",
       "      <td>36.33</td>\n",
       "      <td>8.67</td>\n",
       "      <td>75.1689</td>\n",
       "    </tr>\n",
       "    <tr>\n",
       "      <th>7</th>\n",
       "      <td>54</td>\n",
       "      <td>54</td>\n",
       "      <td>36.33</td>\n",
       "      <td>17.67</td>\n",
       "      <td>312.2289</td>\n",
       "    </tr>\n",
       "    <tr>\n",
       "      <th>8</th>\n",
       "      <td>54</td>\n",
       "      <td>54</td>\n",
       "      <td>36.33</td>\n",
       "      <td>17.67</td>\n",
       "      <td>312.2289</td>\n",
       "    </tr>\n",
       "  </tbody>\n",
       "</table>\n",
       "</div>"
      ],
      "text/plain": [
       "   Age(Yrs)\\n(x)  Arranging  Mean ( x̄)\\n  (x - x̄)               (x- x̄) ^2\n",
       "0             19         19         36.33                 -17.33    300.3289\n",
       "1             23         23         36.33                 -13.33    177.6889\n",
       "2             32         32         36.33                  -4.33     18.7489\n",
       "3             32         32         36.33                  -4.33     18.7489\n",
       "4             32         32         36.33                  -4.33     18.7489\n",
       "5             36         36         36.33                  -0.33      0.1089\n",
       "6             45         45         36.33                   8.67     75.1689\n",
       "7             54         54         36.33                  17.67    312.2289\n",
       "8             54         54         36.33                  17.67    312.2289"
      ]
     },
     "execution_count": 33,
     "metadata": {},
     "output_type": "execute_result"
    }
   ],
   "source": [
    "salary = pd.read_excel(r'C:\\Users\\user\\Desktop\\Staff_Salary_1.xlsx', sheet_name='Sheet2')\n",
    "salary"
   ]
  },
  {
   "cell_type": "code",
   "execution_count": null,
   "id": "5ff96425",
   "metadata": {},
   "outputs": [],
   "source": []
  }
 ],
 "metadata": {
  "kernelspec": {
   "display_name": "Python 3 (ipykernel)",
   "language": "python",
   "name": "python3"
  },
  "language_info": {
   "codemirror_mode": {
    "name": "ipython",
    "version": 3
   },
   "file_extension": ".py",
   "mimetype": "text/x-python",
   "name": "python",
   "nbconvert_exporter": "python",
   "pygments_lexer": "ipython3",
   "version": "3.10.6"
  }
 },
 "nbformat": 4,
 "nbformat_minor": 5
}

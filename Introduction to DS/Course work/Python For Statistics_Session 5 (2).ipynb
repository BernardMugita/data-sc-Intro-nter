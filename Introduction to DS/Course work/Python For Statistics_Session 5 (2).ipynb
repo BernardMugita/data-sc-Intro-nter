{
 "cells": [
  {
   "cell_type": "markdown",
   "id": "4c509c3b",
   "metadata": {},
   "source": [
    "### Python  Libraries"
   ]
  },
  {
   "cell_type": "markdown",
   "id": "6d4512c5",
   "metadata": {},
   "source": [
    "#### I.Pandas"
   ]
  },
  {
   "cell_type": "code",
   "execution_count": null,
   "id": "c18e904f",
   "metadata": {},
   "outputs": [],
   "source": [
    "# 1. Pandas is a fast, powerful,flexible and easy to use open source data analysis and manipulation tool,\n",
    "#    built on top of the Python programming language.\n",
    "# 2. It is a Python library used for working with data sets.\n",
    "\n",
    "# 3. It has functions for analyzing, cleaning, exploring, and manipulating data.\n",
    "\n",
    "# 4. The name \"Pandas\" has a reference to both \"Panel Data\", and \"Python Data Analysis\",\n",
    "#   and was created by Wes McKinney in 2008.\n",
    "\n",
    "# 5.Pandas allows us to analyze big data and make conclusions based on statistical theories.\n",
    "\n",
    "# 6.Pandas can clean messy data sets, and make them readable and relevant.\n",
    "\n",
    "# 7.Relevant data is very important in data science.\n"
   ]
  },
  {
   "cell_type": "code",
   "execution_count": null,
   "id": "22ef2284",
   "metadata": {},
   "outputs": [],
   "source": []
  },
  {
   "cell_type": "code",
   "execution_count": null,
   "id": "5f815fcb",
   "metadata": {},
   "outputs": [],
   "source": [
    "# Tasks Executed By Pandas ?\n",
    "# Pandas  answers about the data :\n",
    "\n",
    "# 8.Is there a correlation between two or more columns?\n",
    "# 9. What is: \n",
    "# a.       average value ?\n",
    "# b.       Max value?\n",
    "# c.       Min value?\n",
    "\n",
    "#10.Pandas is able to delete rows that are not relevant,\n",
    "#   or contains wrong values, like empty or NULL values.\n",
    "#  This is called cleaning the data.\n",
    "\n"
   ]
  },
  {
   "cell_type": "code",
   "execution_count": 1,
   "id": "3488a9c5",
   "metadata": {},
   "outputs": [
    {
     "name": "stdout",
     "output_type": "stream",
     "text": [
      "1.2.4\n"
     ]
    }
   ],
   "source": [
    "import pandas as pd\n",
    "\n",
    "print(pd.__version__)"
   ]
  },
  {
   "cell_type": "code",
   "execution_count": null,
   "id": "3aa270f4",
   "metadata": {},
   "outputs": [],
   "source": [
    "#  How to install pandas \n",
    "#  pip install pandas"
   ]
  },
  {
   "cell_type": "code",
   "execution_count": 4,
   "id": "59153394",
   "metadata": {},
   "outputs": [
    {
     "name": "stdout",
     "output_type": "stream",
     "text": [
      "  Students  Marks\n",
      "0      Ann     93\n",
      "1    Betty     97\n",
      "2    Carol     92\n"
     ]
    }
   ],
   "source": [
    "# Example :\n",
    "# Lets create a pandas dataframe                 dict = {key:value}\n",
    "import pandas as pd\n",
    "\n",
    "mytest = {'Students': [\"Ann\", \"Betty\", \"Carol\"],'Marks': [93, 97, 92] }\n",
    "#  this is a dictionary data type called 'mytest'        \n",
    "# mytest={key:value}      \n",
    "# mytest[key]=[Students,Marks]\n",
    "# mytest[value] = [Ann,Betty,Caro,93,97,92]\n",
    "exam = pd.DataFrame(mytest)\n",
    "\n",
    "print(exam)"
   ]
  },
  {
   "cell_type": "code",
   "execution_count": null,
   "id": "48abbd00",
   "metadata": {},
   "outputs": [],
   "source": []
  },
  {
   "cell_type": "markdown",
   "id": "2d1d1a87",
   "metadata": {},
   "source": [
    "### Assignment 1"
   ]
  },
  {
   "cell_type": "code",
   "execution_count": null,
   "id": "6791406b",
   "metadata": {},
   "outputs": [],
   "source": [
    "#1.Create a variable named county and assign the value Kent to it.\n",
    "\n",
    "#2.Create a variable named x and assign the value 105 to it.\n",
    "\n",
    "#3.Display the sum of 45 + 56, using two variables: x and y.\n",
    "\n",
    "#4.Create a variable called z, assign x + y to it, and display the result.\n",
    "\n",
    "#5.Correct the error  in the variable name:  1my-last_name = \"Pius\"\n",
    "\n",
    "#6.Assign the same value (\"Egg\") to all three variables (x,y,z) in one code line.\n",
    "\n",
    "#7.What data type is x from the following code ?  x = 5.7"
   ]
  },
  {
   "cell_type": "markdown",
   "id": "70ce17f1",
   "metadata": {},
   "source": [
    "#### Solutions To Assignment 1"
   ]
  },
  {
   "cell_type": "code",
   "execution_count": 37,
   "id": "ad2c0717",
   "metadata": {},
   "outputs": [],
   "source": [
    "#1.Create a variable named county and assign the value Kent to it.\n",
    "county = 'Kent'"
   ]
  },
  {
   "cell_type": "code",
   "execution_count": 38,
   "id": "df156425",
   "metadata": {},
   "outputs": [],
   "source": [
    "#2.Create a variable named x and assign the value 105 to it.\n",
    "x = 105"
   ]
  },
  {
   "cell_type": "code",
   "execution_count": 2,
   "id": "1f61b0c4",
   "metadata": {},
   "outputs": [
    {
     "name": "stdout",
     "output_type": "stream",
     "text": [
      "101\n"
     ]
    }
   ],
   "source": [
    "x = 45\n",
    "y = 56\n",
    "z = (x+y)\n",
    "print(z)"
   ]
  },
  {
   "cell_type": "code",
   "execution_count": 3,
   "id": "4d810415",
   "metadata": {},
   "outputs": [],
   "source": [
    "x = y = z = 'Egg'"
   ]
  },
  {
   "cell_type": "code",
   "execution_count": null,
   "id": "191aa274",
   "metadata": {},
   "outputs": [],
   "source": [
    "# Example:\n",
    "x = 40054\n",
    "print('Facility Code is :', +x)     # text is 'Facility Code is'  and variable is 'x'\n",
    "\n",
    "# Example :\n",
    "y = 'great'\n",
    "print('Python is '+y)"
   ]
  },
  {
   "cell_type": "code",
   "execution_count": 4,
   "id": "a0fda7e0",
   "metadata": {},
   "outputs": [
    {
     "name": "stdout",
     "output_type": "stream",
     "text": [
      "The students are 15\n"
     ]
    }
   ],
   "source": [
    "y = 15\n",
    "print('The students are', +y)"
   ]
  },
  {
   "cell_type": "code",
   "execution_count": 17,
   "id": "8bf9087e",
   "metadata": {},
   "outputs": [
    {
     "name": "stdout",
     "output_type": "stream",
     "text": [
      "x is 40054\n"
     ]
    }
   ],
   "source": [
    "# Example:\n",
    "def x():\n",
    "    print('x is 40054')\n",
    "#print('Facility Code is :', +x)     # text is 'Facility Code is'  and variable is 'x'\n",
    "\n",
    "x()"
   ]
  },
  {
   "cell_type": "markdown",
   "id": "7948c4b6",
   "metadata": {},
   "source": [
    "#### Function"
   ]
  },
  {
   "cell_type": "code",
   "execution_count": null,
   "id": "57780a30",
   "metadata": {},
   "outputs": [],
   "source": [
    "# A function is a block of code which only runs when it is called.\n",
    "\n",
    "# You can pass data, known as parameters, into a function.\n",
    "\n",
    "# A function can return data as a result."
   ]
  },
  {
   "cell_type": "markdown",
   "id": "b7c1cf04",
   "metadata": {},
   "source": [
    "#### Calling a Function\n"
   ]
  },
  {
   "cell_type": "code",
   "execution_count": null,
   "id": "2333769f",
   "metadata": {},
   "outputs": [],
   "source": [
    "# To call a function, use the function name followed by parenthesis:"
   ]
  },
  {
   "cell_type": "code",
   "execution_count": 3,
   "id": "2f2adb45",
   "metadata": {},
   "outputs": [
    {
     "name": "stdout",
     "output_type": "stream",
     "text": [
      "x\n"
     ]
    }
   ],
   "source": [
    "# Function\n",
    "def x():           # Name of Function is x ;\n",
    "    print('x')     # Prints x\n",
    "x()                # Call it or invoke it;how x()"
   ]
  },
  {
   "cell_type": "code",
   "execution_count": 4,
   "id": "eec91489",
   "metadata": {},
   "outputs": [
    {
     "name": "stdout",
     "output_type": "stream",
     "text": [
      "The sum is: 3\n",
      "The sub is: -1\n"
     ]
    }
   ],
   "source": [
    "def sum(): \n",
    "    a = 1\n",
    "    b = 2\n",
    "    c = a + b   \n",
    "    print(\"The sum is:\", c) \n",
    "    \n",
    "def sub():\n",
    "    a = 1\n",
    "    b = 2\n",
    "    d = a - b    \n",
    "    print(\"The sub is:\", d)  \n",
    "   \n",
    "\n",
    "  \n",
    "sum()  # function calling  \n",
    "sub()  "
   ]
  },
  {
   "cell_type": "code",
   "execution_count": 7,
   "id": "6d270781",
   "metadata": {},
   "outputs": [],
   "source": [
    "def sum():\n",
    "    x = 5\n",
    "    y = 7\n",
    "    z = x + y\n",
    "    print('The sum is', z)"
   ]
  },
  {
   "cell_type": "code",
   "execution_count": 29,
   "id": "fdfc470c",
   "metadata": {},
   "outputs": [
    {
     "name": "stdout",
     "output_type": "stream",
     "text": [
      "The sum is: 3\n"
     ]
    }
   ],
   "source": [
    "def sum(): \n",
    "    a = 1\n",
    "    b = 2\n",
    "    c = a + b   \n",
    "    print(\"The sum is:\", c) \n",
    "sum()"
   ]
  },
  {
   "cell_type": "code",
   "execution_count": 9,
   "id": "7bd12fe1",
   "metadata": {},
   "outputs": [
    {
     "name": "stdout",
     "output_type": "stream",
     "text": [
      "zahra ppp\n"
     ]
    }
   ],
   "source": [
    "# Function which returns my names:\n",
    "def my_names():\n",
    "    fname= \"zahra\"\n",
    "    lname = \"ppp\"\n",
    "    print(fname +\" \"+ lname)\n",
    "my_names()"
   ]
  },
  {
   "cell_type": "code",
   "execution_count": 10,
   "id": "75dd9057",
   "metadata": {},
   "outputs": [
    {
     "name": "stdout",
     "output_type": "stream",
     "text": [
      "UK soccer\n"
     ]
    }
   ],
   "source": [
    "# Function which returns my details :\n",
    "def manutd():\n",
    "    location = \"UK\"\n",
    "    sport = \"soccer\"\n",
    "    print(location +\" \" + sport)\n",
    "manutd()"
   ]
  },
  {
   "cell_type": "markdown",
   "id": "3928cf27",
   "metadata": {},
   "source": [
    "#### Arguments"
   ]
  },
  {
   "cell_type": "code",
   "execution_count": null,
   "id": "fe08a794",
   "metadata": {},
   "outputs": [],
   "source": [
    "# Information can be passed into functions as arguments.\n",
    "# Arguments are specified after the function name, inside the parentheses.\n",
    "# You can add as many arguments as you want, just separate them with a comma.\n",
    "# Arguments are often shortened to args in Python documentations."
   ]
  },
  {
   "cell_type": "code",
   "execution_count": null,
   "id": "26693f13",
   "metadata": {},
   "outputs": [],
   "source": [
    "# Example :\n"
   ]
  },
  {
   "cell_type": "code",
   "execution_count": 2,
   "id": "2a43740c",
   "metadata": {},
   "outputs": [
    {
     "data": {
      "text/plain": [
       "4.924428900898052"
      ]
     },
     "execution_count": 2,
     "metadata": {},
     "output_type": "execute_result"
    }
   ],
   "source": [
    "24.25 ** 0.5"
   ]
  },
  {
   "cell_type": "code",
   "execution_count": null,
   "id": "bac165d3",
   "metadata": {},
   "outputs": [],
   "source": []
  },
  {
   "cell_type": "code",
   "execution_count": null,
   "id": "e06b89f0",
   "metadata": {},
   "outputs": [],
   "source": []
  },
  {
   "cell_type": "code",
   "execution_count": null,
   "id": "fda280a4",
   "metadata": {},
   "outputs": [],
   "source": []
  }
 ],
 "metadata": {
  "kernelspec": {
   "display_name": "Python 3 (ipykernel)",
   "language": "python",
   "name": "python3"
  },
  "language_info": {
   "codemirror_mode": {
    "name": "ipython",
    "version": 3
   },
   "file_extension": ".py",
   "mimetype": "text/x-python",
   "name": "python",
   "nbconvert_exporter": "python",
   "pygments_lexer": "ipython3",
   "version": "3.10.6"
  }
 },
 "nbformat": 4,
 "nbformat_minor": 5
}

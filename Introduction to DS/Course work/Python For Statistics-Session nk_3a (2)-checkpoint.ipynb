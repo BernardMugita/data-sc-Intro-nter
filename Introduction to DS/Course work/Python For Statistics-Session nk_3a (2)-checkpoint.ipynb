{
 "cells": [
  {
   "cell_type": "markdown",
   "id": "ec572f56",
   "metadata": {},
   "source": [
    "#### Python For Statistics-Session nk_3a"
   ]
  },
  {
   "cell_type": "markdown",
   "id": "eb0dfb3b",
   "metadata": {},
   "source": [
    "#### Python Libraries"
   ]
  },
  {
   "cell_type": "code",
   "execution_count": null,
   "id": "aaccd674",
   "metadata": {},
   "outputs": [],
   "source": [
    "# Definition :\n",
    "# A Python library is a collection of related modules which contains bundles of code that can be used\n",
    "# repeatedly in different programs. \n",
    "# This  makes Python Programming simpler and convenient for the programmer.\n",
    "# Since there is no need to repeat the same code again for different programs."
   ]
  },
  {
   "cell_type": "markdown",
   "id": "488a130a",
   "metadata": {},
   "source": [
    "#### I.Pandas"
   ]
  },
  {
   "cell_type": "code",
   "execution_count": null,
   "id": "92c060d0",
   "metadata": {},
   "outputs": [],
   "source": [
    "# 1. Pandas is a fast, powerful,flexible and easy to use open source data analysis and manipulation tool,\n",
    "#    built on top of the Python programming language.\n",
    "# 2. It is a Python library used for working with data sets.\n",
    "\n",
    "# 3. It has functions for analyzing, cleaning, exploring, and manipulating data.\n",
    "\n",
    "# 4. The name \"Pandas\" has a reference to both \"Panel Data\", and \"Python Data Analysis\",\n",
    "#   and was created by Wes McKinney in 2008.\n",
    "\n",
    "# 5.Pandas allows us to analyze big data and make conclusions based on statistical theories.\n",
    "\n",
    "# 6.Pandas can clean messy data sets, and make them readable and relevant.\n",
    "\n",
    "# 7.Relevant data is very important in data science.\n"
   ]
  },
  {
   "cell_type": "code",
   "execution_count": null,
   "id": "2043c029",
   "metadata": {},
   "outputs": [],
   "source": [
    "# Tasks Executed By Pandas ?\n",
    "# Pandas  answers about the data :\n",
    "\n",
    "# 8.Is there a correlation between two or more columns?\n",
    "# 9. What is: \n",
    "# a.       average value ?\n",
    "# b.       Max value?\n",
    "# c.       Min value?\n",
    "\n",
    "#10.Pandas is able to delete rows that are not relevant,\n",
    "#   or contains wrong values, like empty or NULL values.\n",
    "#  This is called cleaning the data.\n"
   ]
  },
  {
   "cell_type": "code",
   "execution_count": null,
   "id": "09b6d716",
   "metadata": {},
   "outputs": [],
   "source": [
    "#  How to install pandas \n",
    "#  pip install pandas"
   ]
  },
  {
   "cell_type": "code",
   "execution_count": null,
   "id": "c76563d4",
   "metadata": {},
   "outputs": [],
   "source": [
    "import pandas \n",
    "import pandas as pd  # most used form"
   ]
  },
  {
   "cell_type": "code",
   "execution_count": null,
   "id": "6388ccef",
   "metadata": {},
   "outputs": [],
   "source": [
    "# Calculating Mean,Median & Mode\n",
    "#The data variables for most numericals "
   ]
  },
  {
   "cell_type": "code",
   "execution_count": 1,
   "id": "33b941ca",
   "metadata": {},
   "outputs": [
    {
     "data": {
      "text/plain": [
       "6.777777777777778"
      ]
     },
     "execution_count": 1,
     "metadata": {},
     "output_type": "execute_result"
    }
   ],
   "source": [
    "import statistics\n",
    "x = [2,4,4,5,6,7,10,11,12]\n",
    "\n",
    "statistics.mean(x)  #Command number 2\n"
   ]
  },
  {
   "cell_type": "code",
   "execution_count": 2,
   "id": "54b023cf",
   "metadata": {},
   "outputs": [
    {
     "data": {
      "text/plain": [
       "6"
      ]
     },
     "execution_count": 2,
     "metadata": {},
     "output_type": "execute_result"
    }
   ],
   "source": [
    "x = [2,4,4,5,6,7,10,11,12]\n",
    "\n",
    "\n",
    "statistics.median(x)  "
   ]
  },
  {
   "cell_type": "code",
   "execution_count": 3,
   "id": "4cbd29f6",
   "metadata": {},
   "outputs": [
    {
     "data": {
      "text/plain": [
       "4"
      ]
     },
     "execution_count": 3,
     "metadata": {},
     "output_type": "execute_result"
    }
   ],
   "source": [
    "import statistics\n",
    "\n",
    "x = [2,4,4,5,6,7,10,11,12]\n",
    "\n",
    "statistics.mode(x) "
   ]
  },
  {
   "cell_type": "code",
   "execution_count": null,
   "id": "93885d15",
   "metadata": {},
   "outputs": [],
   "source": [
    "import pandas as pd  # most used form\n",
    "mytest = {'Students': [\"Ann\", \"Betty\", \"Carol\"],'Marks': [93, 97, 92] }\n"
   ]
  },
  {
   "cell_type": "code",
   "execution_count": 2,
   "id": "cabe639e",
   "metadata": {},
   "outputs": [
    {
     "name": "stdout",
     "output_type": "stream",
     "text": [
      "  Students  Marks\n",
      "0      Ann     93\n",
      "1    Betty     97\n",
      "2    Carol     92\n"
     ]
    }
   ],
   "source": [
    "# Example :\n",
    "# Lets create a pandas dataframe                 dict = {key:value}\n",
    "import pandas as pd\n",
    "\n",
    "mytest = {'Students': [\"Ann\", \"Betty\", \"Carol\"],'Marks': [93, 97, 92] }\n",
    "#  this is a dictionary data type called 'mytest'        \n",
    "# mytest={key:value}      \n",
    "# mytest[key]=[Students,Marks]\n",
    "# mytest[value] = [Ann,Betty,Caro,93,97,92]\n",
    "exam = pd.DataFrame(mytest)\n",
    "\n",
    "print(exam)\n"
   ]
  },
  {
   "cell_type": "code",
   "execution_count": null,
   "id": "c12230c6",
   "metadata": {},
   "outputs": [],
   "source": [
    "    #################################"
   ]
  },
  {
   "cell_type": "markdown",
   "id": "89afba91",
   "metadata": {},
   "source": [
    "#### Reading Data onto the  Jupyter Notebook"
   ]
  },
  {
   "cell_type": "code",
   "execution_count": 6,
   "id": "3442ad5d",
   "metadata": {},
   "outputs": [
    {
     "data": {
      "text/html": [
       "<div>\n",
       "<style scoped>\n",
       "    .dataframe tbody tr th:only-of-type {\n",
       "        vertical-align: middle;\n",
       "    }\n",
       "\n",
       "    .dataframe tbody tr th {\n",
       "        vertical-align: top;\n",
       "    }\n",
       "\n",
       "    .dataframe thead th {\n",
       "        text-align: right;\n",
       "    }\n",
       "</style>\n",
       "<table border=\"1\" class=\"dataframe\">\n",
       "  <thead>\n",
       "    <tr style=\"text-align: right;\">\n",
       "      <th></th>\n",
       "      <th>SUBJECT_ID</th>\n",
       "      <th>AGE</th>\n",
       "      <th>SEX</th>\n",
       "      <th>HEAD_SIZE</th>\n",
       "      <th>BRAIN_VOLUME</th>\n",
       "    </tr>\n",
       "  </thead>\n",
       "  <tbody>\n",
       "    <tr>\n",
       "      <th>0</th>\n",
       "      <td>SUBJECT_0001</td>\n",
       "      <td>26</td>\n",
       "      <td>F</td>\n",
       "      <td>57.177086</td>\n",
       "      <td>1276.014</td>\n",
       "    </tr>\n",
       "    <tr>\n",
       "      <th>1</th>\n",
       "      <td>SUBJECT_0002</td>\n",
       "      <td>35</td>\n",
       "      <td>F</td>\n",
       "      <td>58.739561</td>\n",
       "      <td>1265.146</td>\n",
       "    </tr>\n",
       "    <tr>\n",
       "      <th>2</th>\n",
       "      <td>SUBJECT_0003</td>\n",
       "      <td>26</td>\n",
       "      <td>F</td>\n",
       "      <td>51.848277</td>\n",
       "      <td>1206.201</td>\n",
       "    </tr>\n",
       "    <tr>\n",
       "      <th>3</th>\n",
       "      <td>SUBJECT_0004</td>\n",
       "      <td>50</td>\n",
       "      <td>F</td>\n",
       "      <td>49.905138</td>\n",
       "      <td>1045.086</td>\n",
       "    </tr>\n",
       "    <tr>\n",
       "      <th>4</th>\n",
       "      <td>SUBJECT_0005</td>\n",
       "      <td>54</td>\n",
       "      <td>F</td>\n",
       "      <td>49.858813</td>\n",
       "      <td>1055.700</td>\n",
       "    </tr>\n",
       "    <tr>\n",
       "      <th>...</th>\n",
       "      <td>...</td>\n",
       "      <td>...</td>\n",
       "      <td>...</td>\n",
       "      <td>...</td>\n",
       "      <td>...</td>\n",
       "    </tr>\n",
       "    <tr>\n",
       "      <th>95</th>\n",
       "      <td>SUBJECT_0096</td>\n",
       "      <td>25</td>\n",
       "      <td>M</td>\n",
       "      <td>57.053944</td>\n",
       "      <td>1327.486</td>\n",
       "    </tr>\n",
       "    <tr>\n",
       "      <th>96</th>\n",
       "      <td>SUBJECT_0097</td>\n",
       "      <td>32</td>\n",
       "      <td>M</td>\n",
       "      <td>65.879427</td>\n",
       "      <td>1355.366</td>\n",
       "    </tr>\n",
       "    <tr>\n",
       "      <th>97</th>\n",
       "      <td>SUBJECT_0098</td>\n",
       "      <td>62</td>\n",
       "      <td>M</td>\n",
       "      <td>59.806948</td>\n",
       "      <td>1129.832</td>\n",
       "    </tr>\n",
       "    <tr>\n",
       "      <th>98</th>\n",
       "      <td>SUBJECT_0099</td>\n",
       "      <td>28</td>\n",
       "      <td>M</td>\n",
       "      <td>60.154818</td>\n",
       "      <td>1286.297</td>\n",
       "    </tr>\n",
       "    <tr>\n",
       "      <th>99</th>\n",
       "      <td>SUBJECT_0100</td>\n",
       "      <td>29</td>\n",
       "      <td>M</td>\n",
       "      <td>63.274557</td>\n",
       "      <td>1337.046</td>\n",
       "    </tr>\n",
       "  </tbody>\n",
       "</table>\n",
       "<p>100 rows × 5 columns</p>\n",
       "</div>"
      ],
      "text/plain": [
       "      SUBJECT_ID  AGE SEX  HEAD_SIZE  BRAIN_VOLUME\n",
       "0   SUBJECT_0001   26   F  57.177086      1276.014\n",
       "1   SUBJECT_0002   35   F  58.739561      1265.146\n",
       "2   SUBJECT_0003   26   F  51.848277      1206.201\n",
       "3   SUBJECT_0004   50   F  49.905138      1045.086\n",
       "4   SUBJECT_0005   54   F  49.858813      1055.700\n",
       "..           ...  ...  ..        ...           ...\n",
       "95  SUBJECT_0096   25   M  57.053944      1327.486\n",
       "96  SUBJECT_0097   32   M  65.879427      1355.366\n",
       "97  SUBJECT_0098   62   M  59.806948      1129.832\n",
       "98  SUBJECT_0099   28   M  60.154818      1286.297\n",
       "99  SUBJECT_0100   29   M  63.274557      1337.046\n",
       "\n",
       "[100 rows x 5 columns]"
      ]
     },
     "execution_count": 6,
     "metadata": {},
     "output_type": "execute_result"
    }
   ],
   "source": [
    "#1. import the relevant libraries\n",
    "import pandas as pd \n",
    "\n",
    "#2.read the data onto the notebook\n",
    "df = pd.read_csv(r'C:\\Users\\user\\Documents\\Python For Statistics\\Wk 1\\Brain_Size.csv')\n",
    "df"
   ]
  },
  {
   "cell_type": "code",
   "execution_count": null,
   "id": "6275b4d0",
   "metadata": {},
   "outputs": [],
   "source": []
  },
  {
   "cell_type": "code",
   "execution_count": 6,
   "id": "8d233877",
   "metadata": {},
   "outputs": [
    {
     "data": {
      "text/html": [
       "<div>\n",
       "<style scoped>\n",
       "    .dataframe tbody tr th:only-of-type {\n",
       "        vertical-align: middle;\n",
       "    }\n",
       "\n",
       "    .dataframe tbody tr th {\n",
       "        vertical-align: top;\n",
       "    }\n",
       "\n",
       "    .dataframe thead th {\n",
       "        text-align: right;\n",
       "    }\n",
       "</style>\n",
       "<table border=\"1\" class=\"dataframe\">\n",
       "  <thead>\n",
       "    <tr style=\"text-align: right;\">\n",
       "      <th></th>\n",
       "      <th>SUBJECT_ID</th>\n",
       "      <th>AGE</th>\n",
       "      <th>SEX</th>\n",
       "      <th>HEAD_SIZE</th>\n",
       "      <th>BRAIN_VOLUME</th>\n",
       "    </tr>\n",
       "  </thead>\n",
       "  <tbody>\n",
       "    <tr>\n",
       "      <th>0</th>\n",
       "      <td>SUBJECT_0001</td>\n",
       "      <td>26</td>\n",
       "      <td>F</td>\n",
       "      <td>57.177086</td>\n",
       "      <td>1276.014</td>\n",
       "    </tr>\n",
       "    <tr>\n",
       "      <th>1</th>\n",
       "      <td>SUBJECT_0002</td>\n",
       "      <td>35</td>\n",
       "      <td>F</td>\n",
       "      <td>58.739561</td>\n",
       "      <td>1265.146</td>\n",
       "    </tr>\n",
       "    <tr>\n",
       "      <th>2</th>\n",
       "      <td>SUBJECT_0003</td>\n",
       "      <td>26</td>\n",
       "      <td>F</td>\n",
       "      <td>51.848277</td>\n",
       "      <td>1206.201</td>\n",
       "    </tr>\n",
       "    <tr>\n",
       "      <th>3</th>\n",
       "      <td>SUBJECT_0004</td>\n",
       "      <td>50</td>\n",
       "      <td>F</td>\n",
       "      <td>49.905138</td>\n",
       "      <td>1045.086</td>\n",
       "    </tr>\n",
       "    <tr>\n",
       "      <th>4</th>\n",
       "      <td>SUBJECT_0005</td>\n",
       "      <td>54</td>\n",
       "      <td>F</td>\n",
       "      <td>49.858813</td>\n",
       "      <td>1055.700</td>\n",
       "    </tr>\n",
       "    <tr>\n",
       "      <th>...</th>\n",
       "      <td>...</td>\n",
       "      <td>...</td>\n",
       "      <td>...</td>\n",
       "      <td>...</td>\n",
       "      <td>...</td>\n",
       "    </tr>\n",
       "    <tr>\n",
       "      <th>95</th>\n",
       "      <td>SUBJECT_0096</td>\n",
       "      <td>25</td>\n",
       "      <td>M</td>\n",
       "      <td>57.053944</td>\n",
       "      <td>1327.486</td>\n",
       "    </tr>\n",
       "    <tr>\n",
       "      <th>96</th>\n",
       "      <td>SUBJECT_0097</td>\n",
       "      <td>32</td>\n",
       "      <td>M</td>\n",
       "      <td>65.879427</td>\n",
       "      <td>1355.366</td>\n",
       "    </tr>\n",
       "    <tr>\n",
       "      <th>97</th>\n",
       "      <td>SUBJECT_0098</td>\n",
       "      <td>62</td>\n",
       "      <td>M</td>\n",
       "      <td>59.806948</td>\n",
       "      <td>1129.832</td>\n",
       "    </tr>\n",
       "    <tr>\n",
       "      <th>98</th>\n",
       "      <td>SUBJECT_0099</td>\n",
       "      <td>28</td>\n",
       "      <td>M</td>\n",
       "      <td>60.154818</td>\n",
       "      <td>1286.297</td>\n",
       "    </tr>\n",
       "    <tr>\n",
       "      <th>99</th>\n",
       "      <td>SUBJECT_0100</td>\n",
       "      <td>29</td>\n",
       "      <td>M</td>\n",
       "      <td>63.274557</td>\n",
       "      <td>1337.046</td>\n",
       "    </tr>\n",
       "  </tbody>\n",
       "</table>\n",
       "<p>100 rows × 5 columns</p>\n",
       "</div>"
      ],
      "text/plain": [
       "      SUBJECT_ID  AGE SEX  HEAD_SIZE  BRAIN_VOLUME\n",
       "0   SUBJECT_0001   26   F  57.177086      1276.014\n",
       "1   SUBJECT_0002   35   F  58.739561      1265.146\n",
       "2   SUBJECT_0003   26   F  51.848277      1206.201\n",
       "3   SUBJECT_0004   50   F  49.905138      1045.086\n",
       "4   SUBJECT_0005   54   F  49.858813      1055.700\n",
       "..           ...  ...  ..        ...           ...\n",
       "95  SUBJECT_0096   25   M  57.053944      1327.486\n",
       "96  SUBJECT_0097   32   M  65.879427      1355.366\n",
       "97  SUBJECT_0098   62   M  59.806948      1129.832\n",
       "98  SUBJECT_0099   28   M  60.154818      1286.297\n",
       "99  SUBJECT_0100   29   M  63.274557      1337.046\n",
       "\n",
       "[100 rows x 5 columns]"
      ]
     },
     "execution_count": 6,
     "metadata": {},
     "output_type": "execute_result"
    }
   ],
   "source": [
    "import pandas as  pd\n",
    "import numpy as np\n",
    "\n",
    "df = pd.read_csv(r'C:\\Users\\user\\Desktop\\Python For Statistics\\Brain_Size.csv')\n",
    "df"
   ]
  },
  {
   "cell_type": "code",
   "execution_count": 55,
   "id": "7257a04c",
   "metadata": {},
   "outputs": [
    {
     "data": {
      "text/html": [
       "<div>\n",
       "<style scoped>\n",
       "    .dataframe tbody tr th:only-of-type {\n",
       "        vertical-align: middle;\n",
       "    }\n",
       "\n",
       "    .dataframe tbody tr th {\n",
       "        vertical-align: top;\n",
       "    }\n",
       "\n",
       "    .dataframe thead th {\n",
       "        text-align: right;\n",
       "    }\n",
       "</style>\n",
       "<table border=\"1\" class=\"dataframe\">\n",
       "  <thead>\n",
       "    <tr style=\"text-align: right;\">\n",
       "      <th></th>\n",
       "      <th>AGE</th>\n",
       "      <th>HEAD_SIZE</th>\n",
       "      <th>BRAIN_VOLUME</th>\n",
       "    </tr>\n",
       "  </thead>\n",
       "  <tbody>\n",
       "    <tr>\n",
       "      <th>count</th>\n",
       "      <td>100.000000</td>\n",
       "      <td>100.000000</td>\n",
       "      <td>100.000000</td>\n",
       "    </tr>\n",
       "    <tr>\n",
       "      <th>mean</th>\n",
       "      <td>38.150000</td>\n",
       "      <td>57.640143</td>\n",
       "      <td>1218.499930</td>\n",
       "    </tr>\n",
       "    <tr>\n",
       "      <th>std</th>\n",
       "      <td>12.196518</td>\n",
       "      <td>7.081406</td>\n",
       "      <td>124.764051</td>\n",
       "    </tr>\n",
       "    <tr>\n",
       "      <th>min</th>\n",
       "      <td>20.000000</td>\n",
       "      <td>43.658139</td>\n",
       "      <td>941.225000</td>\n",
       "    </tr>\n",
       "    <tr>\n",
       "      <th>25%</th>\n",
       "      <td>29.000000</td>\n",
       "      <td>51.791378</td>\n",
       "      <td>1126.044250</td>\n",
       "    </tr>\n",
       "    <tr>\n",
       "      <th>50%</th>\n",
       "      <td>34.500000</td>\n",
       "      <td>58.542904</td>\n",
       "      <td>1217.718500</td>\n",
       "    </tr>\n",
       "    <tr>\n",
       "      <th>75%</th>\n",
       "      <td>46.500000</td>\n",
       "      <td>63.314010</td>\n",
       "      <td>1316.885500</td>\n",
       "    </tr>\n",
       "    <tr>\n",
       "      <th>max</th>\n",
       "      <td>69.000000</td>\n",
       "      <td>71.017566</td>\n",
       "      <td>1502.971000</td>\n",
       "    </tr>\n",
       "  </tbody>\n",
       "</table>\n",
       "</div>"
      ],
      "text/plain": [
       "              AGE   HEAD_SIZE  BRAIN_VOLUME\n",
       "count  100.000000  100.000000    100.000000\n",
       "mean    38.150000   57.640143   1218.499930\n",
       "std     12.196518    7.081406    124.764051\n",
       "min     20.000000   43.658139    941.225000\n",
       "25%     29.000000   51.791378   1126.044250\n",
       "50%     34.500000   58.542904   1217.718500\n",
       "75%     46.500000   63.314010   1316.885500\n",
       "max     69.000000   71.017566   1502.971000"
      ]
     },
     "execution_count": 55,
     "metadata": {},
     "output_type": "execute_result"
    }
   ],
   "source": [
    "df.describe()\n"
   ]
  },
  {
   "cell_type": "code",
   "execution_count": 56,
   "id": "c4a4ba50",
   "metadata": {},
   "outputs": [
    {
     "data": {
      "text/plain": [
       "(100, 5)"
      ]
     },
     "execution_count": 56,
     "metadata": {},
     "output_type": "execute_result"
    }
   ],
   "source": [
    "df.shape"
   ]
  },
  {
   "cell_type": "code",
   "execution_count": null,
   "id": "c38860dc",
   "metadata": {},
   "outputs": [],
   "source": []
  },
  {
   "cell_type": "code",
   "execution_count": null,
   "id": "21fb6f21",
   "metadata": {},
   "outputs": [],
   "source": []
  },
  {
   "cell_type": "code",
   "execution_count": 25,
   "id": "aea1f021",
   "metadata": {},
   "outputs": [],
   "source": []
  },
  {
   "cell_type": "code",
   "execution_count": null,
   "id": "14fa5e54",
   "metadata": {},
   "outputs": [],
   "source": []
  }
 ],
 "metadata": {
  "kernelspec": {
   "display_name": "Python 3 (ipykernel)",
   "language": "python",
   "name": "python3"
  },
  "language_info": {
   "codemirror_mode": {
    "name": "ipython",
    "version": 3
   },
   "file_extension": ".py",
   "mimetype": "text/x-python",
   "name": "python",
   "nbconvert_exporter": "python",
   "pygments_lexer": "ipython3",
   "version": "3.10.6"
  }
 },
 "nbformat": 4,
 "nbformat_minor": 5
}

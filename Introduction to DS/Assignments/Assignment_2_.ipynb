{
 "cells": [
  {
   "cell_type": "markdown",
   "id": "d6841c92",
   "metadata": {
    "id": "d6841c92"
   },
   "source": [
    "#### Assignment 2"
   ]
  },
  {
   "cell_type": "code",
   "execution_count": null,
   "id": "7826d7ff",
   "metadata": {
    "id": "7826d7ff"
   },
   "outputs": [],
   "source": [
    "# Due by Monday 8th May,2023 at  1300HRS (EAT)."
   ]
  },
  {
   "cell_type": "code",
   "execution_count": null,
   "id": "c25fbf31",
   "metadata": {
    "id": "c25fbf31"
   },
   "outputs": [],
   "source": [
    "#1. Visit the following URL :  https://finance.yahoo.com/ ;\n",
    "#   and download the historical monthly prices for TSLA stock for the period : 01 Jan to 31 Dec 2022.\n",
    "\n",
    "\n",
    "#2. Import the CSV downloaded file onto your Jupyter Notebook.\n",
    "\n",
    "# Answer the following questions:\n",
    "\n",
    "# a. Display the number of rows & columns\n",
    "\n",
    "# b. Display the basic statistics such as : Count,Mean,std deviation, Q1,Median,Q3,max & min.\n",
    "\n",
    "# c. Make 'Date' the index column\n",
    "\n",
    "#3. Plot a graph of :\n",
    "\n",
    "# a. High and low prices   (y axis = High,Low)\n",
    "\n",
    "# b. Open and Close prices (y axis = Open,Close)"
   ]
  },
  {
   "cell_type": "code",
   "execution_count": 2,
   "id": "967c026c",
   "metadata": {
    "id": "967c026c"
   },
   "outputs": [
    {
     "name": "stdout",
     "output_type": "stream",
     "text": [
      "Defaulting to user installation because normal site-packages is not writeable\n",
      "Collecting matplotlib\n",
      "  Downloading matplotlib-3.7.1-cp310-cp310-manylinux_2_17_x86_64.manylinux2014_x86_64.whl (11.6 MB)\n",
      "\u001b[2K     \u001b[38;2;114;156;31m━━━━━━━━━━━━━━━━━━━━━━━━━━━━━━━━━━━━━━━━\u001b[0m \u001b[32m11.6/11.6 MB\u001b[0m \u001b[31m1.2 MB/s\u001b[0m eta \u001b[36m0:00:00\u001b[0mm eta \u001b[36m0:00:01\u001b[0m[36m0:00:01\u001b[0mm\n",
      "\u001b[?25hRequirement already satisfied: python-dateutil>=2.7 in /home/jeromemugita/.local/lib/python3.10/site-packages (from matplotlib) (2.8.2)\n",
      "Collecting fonttools>=4.22.0\n",
      "  Downloading fonttools-4.39.3-py3-none-any.whl (1.0 MB)\n",
      "\u001b[2K     \u001b[38;2;114;156;31m━━━━━━━━━━━━━━━━━━━━━━━━━━━━━━━━━━━━━━━━\u001b[0m \u001b[32m1.0/1.0 MB\u001b[0m \u001b[31m550.9 kB/s\u001b[0m eta \u001b[36m0:00:00\u001b[0meta \u001b[36m0:00:01\u001b[0m[36m0:00:01\u001b[0m0m\n",
      "\u001b[?25hRequirement already satisfied: numpy>=1.20 in /home/jeromemugita/.local/lib/python3.10/site-packages (from matplotlib) (1.24.3)\n",
      "Collecting cycler>=0.10\n",
      "  Downloading cycler-0.11.0-py3-none-any.whl (6.4 kB)\n",
      "Collecting contourpy>=1.0.1\n",
      "  Downloading contourpy-1.0.7-cp310-cp310-manylinux_2_17_x86_64.manylinux2014_x86_64.whl (300 kB)\n",
      "\u001b[2K     \u001b[38;2;114;156;31m━━━━━━━━━━━━━━━━━━━━━━━━━━━━━━━━━━━━━\u001b[0m \u001b[32m300.3/300.3 KB\u001b[0m \u001b[31m508.7 kB/s\u001b[0m eta \u001b[36m0:00:00\u001b[0mm eta \u001b[36m0:00:01\u001b[0m[36m0:00:01\u001b[0m\n",
      "\u001b[?25hRequirement already satisfied: pillow>=6.2.0 in /usr/lib/python3/dist-packages (from matplotlib) (9.0.1)\n",
      "Requirement already satisfied: packaging>=20.0 in /home/jeromemugita/.local/lib/python3.10/site-packages (from matplotlib) (23.1)\n",
      "Collecting kiwisolver>=1.0.1\n",
      "  Downloading kiwisolver-1.4.4-cp310-cp310-manylinux_2_12_x86_64.manylinux2010_x86_64.whl (1.6 MB)\n",
      "\u001b[2K     \u001b[38;2;114;156;31m━━━━━━━━━━━━━━━━━━━━━━━━━━━━━━━━━━━━━━━━\u001b[0m \u001b[32m1.6/1.6 MB\u001b[0m \u001b[31m894.2 kB/s\u001b[0m eta \u001b[36m0:00:00\u001b[0meta \u001b[36m0:00:01\u001b[0m[36m0:00:01\u001b[0m\n",
      "\u001b[?25hRequirement already satisfied: pyparsing>=2.3.1 in /usr/lib/python3/dist-packages (from matplotlib) (2.4.7)\n",
      "Requirement already satisfied: six>=1.5 in /usr/lib/python3/dist-packages (from python-dateutil>=2.7->matplotlib) (1.16.0)\n",
      "Installing collected packages: kiwisolver, fonttools, cycler, contourpy, matplotlib\n",
      "Successfully installed contourpy-1.0.7 cycler-0.11.0 fonttools-4.39.3 kiwisolver-1.4.4 matplotlib-3.7.1\n"
     ]
    }
   ],
   "source": [
    "!pip install matplotlib"
   ]
  },
  {
   "cell_type": "code",
   "execution_count": 20,
   "id": "32f72607",
   "metadata": {
    "id": "32f72607"
   },
   "outputs": [
    {
     "name": "stdout",
     "output_type": "stream",
     "text": [
      "(12, 7)\n"
     ]
    },
    {
     "data": {
      "text/html": [
       "<div>\n",
       "<style scoped>\n",
       "    .dataframe tbody tr th:only-of-type {\n",
       "        vertical-align: middle;\n",
       "    }\n",
       "\n",
       "    .dataframe tbody tr th {\n",
       "        vertical-align: top;\n",
       "    }\n",
       "\n",
       "    .dataframe thead th {\n",
       "        text-align: right;\n",
       "    }\n",
       "</style>\n",
       "<table border=\"1\" class=\"dataframe\">\n",
       "  <thead>\n",
       "    <tr style=\"text-align: right;\">\n",
       "      <th></th>\n",
       "      <th>Open</th>\n",
       "      <th>High</th>\n",
       "      <th>Low</th>\n",
       "      <th>Close</th>\n",
       "      <th>Adj Close</th>\n",
       "      <th>Volume</th>\n",
       "    </tr>\n",
       "  </thead>\n",
       "  <tbody>\n",
       "    <tr>\n",
       "      <th>count</th>\n",
       "      <td>12.000000</td>\n",
       "      <td>12.000000</td>\n",
       "      <td>12.000000</td>\n",
       "      <td>12.000000</td>\n",
       "      <td>12.000000</td>\n",
       "      <td>1.200000e+01</td>\n",
       "    </tr>\n",
       "    <tr>\n",
       "      <th>mean</th>\n",
       "      <td>280.810557</td>\n",
       "      <td>306.482220</td>\n",
       "      <td>221.855555</td>\n",
       "      <td>259.374441</td>\n",
       "      <td>259.374441</td>\n",
       "      <td>1.818418e+09</td>\n",
       "    </tr>\n",
       "    <tr>\n",
       "      <th>std</th>\n",
       "      <td>53.838019</td>\n",
       "      <td>60.673061</td>\n",
       "      <td>49.221464</td>\n",
       "      <td>61.342791</td>\n",
       "      <td>61.342791</td>\n",
       "      <td>4.168627e+08</td>\n",
       "    </tr>\n",
       "    <tr>\n",
       "      <th>min</th>\n",
       "      <td>197.080002</td>\n",
       "      <td>198.919998</td>\n",
       "      <td>108.239998</td>\n",
       "      <td>123.180000</td>\n",
       "      <td>123.180000</td>\n",
       "      <td>1.299271e+09</td>\n",
       "    </tr>\n",
       "    <tr>\n",
       "      <th>25%</th>\n",
       "      <td>247.302502</td>\n",
       "      <td>262.532493</td>\n",
       "      <td>204.790005</td>\n",
       "      <td>226.773327</td>\n",
       "      <td>226.773327</td>\n",
       "      <td>1.651687e+09</td>\n",
       "    </tr>\n",
       "    <tr>\n",
       "      <th>50%</th>\n",
       "      <td>279.751664</td>\n",
       "      <td>314.233322</td>\n",
       "      <td>224.750000</td>\n",
       "      <td>270.429993</td>\n",
       "      <td>270.429993</td>\n",
       "      <td>1.740074e+09</td>\n",
       "    </tr>\n",
       "    <tr>\n",
       "      <th>75%</th>\n",
       "      <td>303.891670</td>\n",
       "      <td>331.772499</td>\n",
       "      <td>262.853332</td>\n",
       "      <td>291.977493</td>\n",
       "      <td>291.977493</td>\n",
       "      <td>1.924060e+09</td>\n",
       "    </tr>\n",
       "    <tr>\n",
       "      <th>max</th>\n",
       "      <td>382.583344</td>\n",
       "      <td>402.666656</td>\n",
       "      <td>273.899994</td>\n",
       "      <td>359.200012</td>\n",
       "      <td>359.200012</td>\n",
       "      <td>2.944248e+09</td>\n",
       "    </tr>\n",
       "  </tbody>\n",
       "</table>\n",
       "</div>"
      ],
      "text/plain": [
       "             Open        High         Low       Close   Adj Close   \n",
       "count   12.000000   12.000000   12.000000   12.000000   12.000000  \\\n",
       "mean   280.810557  306.482220  221.855555  259.374441  259.374441   \n",
       "std     53.838019   60.673061   49.221464   61.342791   61.342791   \n",
       "min    197.080002  198.919998  108.239998  123.180000  123.180000   \n",
       "25%    247.302502  262.532493  204.790005  226.773327  226.773327   \n",
       "50%    279.751664  314.233322  224.750000  270.429993  270.429993   \n",
       "75%    303.891670  331.772499  262.853332  291.977493  291.977493   \n",
       "max    382.583344  402.666656  273.899994  359.200012  359.200012   \n",
       "\n",
       "             Volume  \n",
       "count  1.200000e+01  \n",
       "mean   1.818418e+09  \n",
       "std    4.168627e+08  \n",
       "min    1.299271e+09  \n",
       "25%    1.651687e+09  \n",
       "50%    1.740074e+09  \n",
       "75%    1.924060e+09  \n",
       "max    2.944248e+09  "
      ]
     },
     "execution_count": 20,
     "metadata": {},
     "output_type": "execute_result"
    }
   ],
   "source": [
    "import pandas as pd;\n",
    "import matplotlib.pyplot as plt\n",
    "\n",
    "tsla_stock = pd.read_csv(r'/home/jeromemugita/Downloads/TSLA.csv')\n",
    "\n",
    "print(tsla_stock.shape)\n",
    "\n",
    "tsla_stock.describe()"
   ]
  },
  {
   "cell_type": "code",
   "execution_count": 18,
   "id": "67861e2e",
   "metadata": {
    "id": "67861e2e"
   },
   "outputs": [
    {
     "data": {
      "text/html": [
       "<div>\n",
       "<style scoped>\n",
       "    .dataframe tbody tr th:only-of-type {\n",
       "        vertical-align: middle;\n",
       "    }\n",
       "\n",
       "    .dataframe tbody tr th {\n",
       "        vertical-align: top;\n",
       "    }\n",
       "\n",
       "    .dataframe thead th {\n",
       "        text-align: right;\n",
       "    }\n",
       "</style>\n",
       "<table border=\"1\" class=\"dataframe\">\n",
       "  <thead>\n",
       "    <tr style=\"text-align: right;\">\n",
       "      <th></th>\n",
       "      <th>Date</th>\n",
       "      <th>Open</th>\n",
       "      <th>High</th>\n",
       "      <th>Low</th>\n",
       "      <th>Close</th>\n",
       "      <th>Adj Close</th>\n",
       "      <th>Volume</th>\n",
       "    </tr>\n",
       "  </thead>\n",
       "  <tbody>\n",
       "    <tr>\n",
       "      <th>0</th>\n",
       "      <td>2022-01-01</td>\n",
       "      <td>382.583344</td>\n",
       "      <td>402.666656</td>\n",
       "      <td>264.003326</td>\n",
       "      <td>312.239990</td>\n",
       "      <td>312.239990</td>\n",
       "      <td>1916006400</td>\n",
       "    </tr>\n",
       "    <tr>\n",
       "      <th>1</th>\n",
       "      <td>2022-02-01</td>\n",
       "      <td>311.736664</td>\n",
       "      <td>315.923340</td>\n",
       "      <td>233.333328</td>\n",
       "      <td>290.143341</td>\n",
       "      <td>290.143341</td>\n",
       "      <td>1391126700</td>\n",
       "    </tr>\n",
       "    <tr>\n",
       "      <th>2</th>\n",
       "      <td>2022-03-01</td>\n",
       "      <td>289.893341</td>\n",
       "      <td>371.589996</td>\n",
       "      <td>252.013336</td>\n",
       "      <td>359.200012</td>\n",
       "      <td>359.200012</td>\n",
       "      <td>1729272900</td>\n",
       "    </tr>\n",
       "    <tr>\n",
       "      <th>3</th>\n",
       "      <td>2022-04-01</td>\n",
       "      <td>360.383331</td>\n",
       "      <td>384.290009</td>\n",
       "      <td>273.899994</td>\n",
       "      <td>290.253326</td>\n",
       "      <td>290.253326</td>\n",
       "      <td>1520959800</td>\n",
       "    </tr>\n",
       "    <tr>\n",
       "      <th>4</th>\n",
       "      <td>2022-05-01</td>\n",
       "      <td>286.923340</td>\n",
       "      <td>318.500000</td>\n",
       "      <td>206.856674</td>\n",
       "      <td>252.753326</td>\n",
       "      <td>252.753326</td>\n",
       "      <td>1948221600</td>\n",
       "    </tr>\n",
       "  </tbody>\n",
       "</table>\n",
       "</div>"
      ],
      "text/plain": [
       "         Date        Open        High         Low       Close   Adj Close   \n",
       "0  2022-01-01  382.583344  402.666656  264.003326  312.239990  312.239990  \\\n",
       "1  2022-02-01  311.736664  315.923340  233.333328  290.143341  290.143341   \n",
       "2  2022-03-01  289.893341  371.589996  252.013336  359.200012  359.200012   \n",
       "3  2022-04-01  360.383331  384.290009  273.899994  290.253326  290.253326   \n",
       "4  2022-05-01  286.923340  318.500000  206.856674  252.753326  252.753326   \n",
       "\n",
       "       Volume  \n",
       "0  1916006400  \n",
       "1  1391126700  \n",
       "2  1729272900  \n",
       "3  1520959800  \n",
       "4  1948221600  "
      ]
     },
     "execution_count": 18,
     "metadata": {},
     "output_type": "execute_result"
    }
   ],
   "source": [
    "tsla_stock.set_index(\"Date\" )\n",
    "\n",
    "tsla_stock.head()"
   ]
  },
  {
   "cell_type": "code",
   "execution_count": 22,
   "id": "05b939b1",
   "metadata": {
    "id": "05b939b1"
   },
   "outputs": [
    {
     "data": {
      "image/png": "[encoded data removed]",
      "text/plain": [
       "<Figure size 640x480 with 1 Axes>"
      ]
     },
     "metadata": {},
     "output_type": "display_data"
    }
   ],
   "source": [
    "tsla_stock.plot(x = \"High\", y = \"Low\", kind = \"bar\")\n",
    "\n",
    "plt.show()"
   ]
  },
  {
   "cell_type": "code",
   "execution_count": 25,
   "id": "45276c48",
   "metadata": {},
   "outputs": [
    {
     "data": {
      "image/png": "[encoded data removed]",
      "text/plain": [
       "<Figure size 640x480 with 1 Axes>"
      ]
     },
     "metadata": {},
     "output_type": "display_data"
    }
   ],
   "source": [
    "tsla_stock.plot(x = \"Open\", y = \"Close\", kind = \"bar\")\n",
    "\n",
    "plt.show()"
   ]
  },
  {
   "cell_type": "code",
   "execution_count": null,
   "id": "4f57aa7b",
   "metadata": {},
   "outputs": [],
   "source": []
  }
 ],
 "metadata": {
  "colab": {
   "provenance": []
  },
  "kernelspec": {
   "display_name": "Python 3 (ipykernel)",
   "language": "python",
   "name": "python3"
  },
  "language_info": {
   "codemirror_mode": {
    "name": "ipython",
    "version": 3
   },
   "file_extension": ".py",
   "mimetype": "text/x-python",
   "name": "python",
   "nbconvert_exporter": "python",
   "pygments_lexer": "ipython3",
   "version": "3.10.6"
  }
 },
 "nbformat": 4,
 "nbformat_minor": 5
}

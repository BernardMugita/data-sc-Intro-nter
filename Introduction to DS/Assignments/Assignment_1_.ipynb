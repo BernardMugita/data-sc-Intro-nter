{
 "cells": [
  {
   "cell_type": "markdown",
   "id": "d6841c92",
   "metadata": {
    "id": "d6841c92"
   },
   "source": [
    "#### Assignment 1"
   ]
  },
  {
   "cell_type": "code",
   "execution_count": null,
   "id": "7826d7ff",
   "metadata": {
    "id": "7826d7ff"
   },
   "outputs": [],
   "source": [
    "# Due by Sunday 30th April,2023 at  1000HRS (EAT)."
   ]
  },
  {
   "cell_type": "code",
   "execution_count": 26,
   "id": "c25fbf31",
   "metadata": {
    "id": "c25fbf31"
   },
   "outputs": [],
   "source": [
    "#1. Visit the following URL and download the historical prices for AAPL stock:\n",
    "\n",
    "#    https://finance.yahoo.com/\n",
    "\n",
    "\n",
    "#2. Import the CSV downloaded file onto your Jupyter Notebook.\n",
    "\n",
    "# Answer the following questions:\n",
    "\n",
    "# 3. Display the number of rows & columns\n",
    "\n",
    "# 4. Display the basic statistics such as : Count,Mean,std deviation, Q1,Median,Q3,max & min.\n",
    "  "
   ]
  },
  {
   "cell_type": "code",
   "execution_count": 3,
   "id": "967c026c",
   "metadata": {
    "id": "967c026c"
   },
   "outputs": [
    {
     "name": "stdout",
     "output_type": "stream",
     "text": [
      "Defaulting to user installation because normal site-packages is not writeable\n",
      "Collecting pandas\n",
      "  Downloading pandas-2.0.1-cp310-cp310-manylinux_2_17_x86_64.manylinux2014_x86_64.whl (12.3 MB)\n",
      "\u001b[2K     \u001b[38;2;114;156;31m━━━━━━━━━━━━━━━━━━━━━━━━━━━━━━━━━━━━━━━━\u001b[0m \u001b[32m12.3/12.3 MB\u001b[0m \u001b[31m1.1 MB/s\u001b[0m eta \u001b[36m0:00:00\u001b[0mm eta \u001b[36m0:00:01\u001b[0m[36m0:00:01\u001b[0mm\n",
      "\u001b[?25hRequirement already satisfied: python-dateutil>=2.8.2 in /home/jeromemugita/.local/lib/python3.10/site-packages (from pandas) (2.8.2)\n",
      "Requirement already satisfied: pytz>=2020.1 in /usr/lib/python3/dist-packages (from pandas) (2022.1)\n",
      "Collecting tzdata>=2022.1\n",
      "  Downloading tzdata-2023.3-py2.py3-none-any.whl (341 kB)\n",
      "\u001b[2K     \u001b[38;2;114;156;31m━━━━━━━━━━━━━━━━━━━━━━━━━━━━━━━━━━━━━\u001b[0m \u001b[32m341.8/341.8 KB\u001b[0m \u001b[31m229.6 kB/s\u001b[0m eta \u001b[36m0:00:00\u001b[0mm eta \u001b[36m0:00:01\u001b[0m0:01\u001b[0m:01\u001b[0m\n",
      "\u001b[?25hCollecting numpy>=1.21.0\n",
      "  Downloading numpy-1.24.3-cp310-cp310-manylinux_2_17_x86_64.manylinux2014_x86_64.whl (17.3 MB)\n",
      "\u001b[2K     \u001b[38;2;114;156;31m━━━━━━━━━━━━━━━━━━━━━━━━━━━━━━━━━━━━━━━\u001b[0m \u001b[32m17.3/17.3 MB\u001b[0m \u001b[31m683.7 kB/s\u001b[0m eta \u001b[36m0:00:00\u001b[0mm eta \u001b[36m0:00:01\u001b[0m[36m0:00:01\u001b[0m\n",
      "\u001b[?25hRequirement already satisfied: six>=1.5 in /usr/lib/python3/dist-packages (from python-dateutil>=2.8.2->pandas) (1.16.0)\n",
      "Installing collected packages: tzdata, numpy, pandas\n",
      "Successfully installed numpy-1.24.3 pandas-2.0.1 tzdata-2023.3\n"
     ]
    }
   ],
   "source": [
    "!pip install pandas"
   ]
  },
  {
   "cell_type": "code",
   "execution_count": 8,
   "id": "32f72607",
   "metadata": {
    "id": "32f72607"
   },
   "outputs": [
    {
     "data": {
      "text/plain": [
       "'/home/jeromemugita/Downloads'"
      ]
     },
     "execution_count": 8,
     "metadata": {},
     "output_type": "execute_result"
    }
   ],
   "source": [
    "pwd"
   ]
  },
  {
   "cell_type": "code",
   "execution_count": 23,
   "id": "67861e2e",
   "metadata": {
    "id": "67861e2e"
   },
   "outputs": [
    {
     "name": "stdout",
     "output_type": "stream",
     "text": [
      "(250, 7)\n",
      "             Open        High         Low       Close   Adj Close   \n",
      "count  250.000000  250.000000  250.000000  250.000000  250.000000  \\\n",
      "mean   149.488760  151.487040  147.751520  149.730040  149.385359   \n",
      "std     11.002347   10.826504   11.246116   11.094573   11.128741   \n",
      "min    126.010002  127.769997  124.169998  125.019997  124.829399   \n",
      "25%    142.099998  143.722496  139.924995  142.457497  141.965424   \n",
      "50%    148.864998  150.889999  147.200004  149.295006  148.892677   \n",
      "75%    156.597499  158.015003  154.247498  156.872494  156.319740   \n",
      "max    173.750000  176.149994  173.119995  174.550003  173.995270   \n",
      "\n",
      "             Volume  \n",
      "count  2.500000e+02  \n",
      "mean   7.798173e+07  \n",
      "std    2.439045e+07  \n",
      "min    3.519590e+07  \n",
      "25%    6.250145e+07  \n",
      "50%    7.352530e+07  \n",
      "75%    8.770552e+07  \n",
      "max    1.826020e+08  \n"
     ]
    }
   ],
   "source": [
    "import pandas as pd;\n",
    "import numpy as np;\n",
    "\n",
    "historical_data = pd.read_csv(r\"/home/jeromemugita/Downloads/AAPL.csv\");"
   ]
  },
  {
   "cell_type": "code",
   "execution_count": 28,
   "id": "05b939b1",
   "metadata": {
    "id": "05b939b1"
   },
   "outputs": [
    {
     "data": {
      "text/plain": [
       "(250, 7)"
      ]
     },
     "execution_count": 28,
     "metadata": {},
     "output_type": "execute_result"
    }
   ],
   "source": [
    "historical_data.shape"
   ]
  },
  {
   "cell_type": "code",
   "execution_count": 27,
   "id": "911775dd",
   "metadata": {},
   "outputs": [
    {
     "data": {
      "text/html": [
       "<div>\n",
       "<style scoped>\n",
       "    .dataframe tbody tr th:only-of-type {\n",
       "        vertical-align: middle;\n",
       "    }\n",
       "\n",
       "    .dataframe tbody tr th {\n",
       "        vertical-align: top;\n",
       "    }\n",
       "\n",
       "    .dataframe thead th {\n",
       "        text-align: right;\n",
       "    }\n",
       "</style>\n",
       "<table border=\"1\" class=\"dataframe\">\n",
       "  <thead>\n",
       "    <tr style=\"text-align: right;\">\n",
       "      <th></th>\n",
       "      <th>Open</th>\n",
       "      <th>High</th>\n",
       "      <th>Low</th>\n",
       "      <th>Close</th>\n",
       "      <th>Adj Close</th>\n",
       "      <th>Volume</th>\n",
       "    </tr>\n",
       "  </thead>\n",
       "  <tbody>\n",
       "    <tr>\n",
       "      <th>count</th>\n",
       "      <td>250.000000</td>\n",
       "      <td>250.000000</td>\n",
       "      <td>250.000000</td>\n",
       "      <td>250.000000</td>\n",
       "      <td>250.000000</td>\n",
       "      <td>2.500000e+02</td>\n",
       "    </tr>\n",
       "    <tr>\n",
       "      <th>mean</th>\n",
       "      <td>149.488760</td>\n",
       "      <td>151.487040</td>\n",
       "      <td>147.751520</td>\n",
       "      <td>149.730040</td>\n",
       "      <td>149.385359</td>\n",
       "      <td>7.798173e+07</td>\n",
       "    </tr>\n",
       "    <tr>\n",
       "      <th>std</th>\n",
       "      <td>11.002347</td>\n",
       "      <td>10.826504</td>\n",
       "      <td>11.246116</td>\n",
       "      <td>11.094573</td>\n",
       "      <td>11.128741</td>\n",
       "      <td>2.439045e+07</td>\n",
       "    </tr>\n",
       "    <tr>\n",
       "      <th>min</th>\n",
       "      <td>126.010002</td>\n",
       "      <td>127.769997</td>\n",
       "      <td>124.169998</td>\n",
       "      <td>125.019997</td>\n",
       "      <td>124.829399</td>\n",
       "      <td>3.519590e+07</td>\n",
       "    </tr>\n",
       "    <tr>\n",
       "      <th>25%</th>\n",
       "      <td>142.099998</td>\n",
       "      <td>143.722496</td>\n",
       "      <td>139.924995</td>\n",
       "      <td>142.457497</td>\n",
       "      <td>141.965424</td>\n",
       "      <td>6.250145e+07</td>\n",
       "    </tr>\n",
       "    <tr>\n",
       "      <th>50%</th>\n",
       "      <td>148.864998</td>\n",
       "      <td>150.889999</td>\n",
       "      <td>147.200004</td>\n",
       "      <td>149.295006</td>\n",
       "      <td>148.892677</td>\n",
       "      <td>7.352530e+07</td>\n",
       "    </tr>\n",
       "    <tr>\n",
       "      <th>75%</th>\n",
       "      <td>156.597499</td>\n",
       "      <td>158.015003</td>\n",
       "      <td>154.247498</td>\n",
       "      <td>156.872494</td>\n",
       "      <td>156.319740</td>\n",
       "      <td>8.770552e+07</td>\n",
       "    </tr>\n",
       "    <tr>\n",
       "      <th>max</th>\n",
       "      <td>173.750000</td>\n",
       "      <td>176.149994</td>\n",
       "      <td>173.119995</td>\n",
       "      <td>174.550003</td>\n",
       "      <td>173.995270</td>\n",
       "      <td>1.826020e+08</td>\n",
       "    </tr>\n",
       "  </tbody>\n",
       "</table>\n",
       "</div>"
      ],
      "text/plain": [
       "             Open        High         Low       Close   Adj Close   \n",
       "count  250.000000  250.000000  250.000000  250.000000  250.000000  \\\n",
       "mean   149.488760  151.487040  147.751520  149.730040  149.385359   \n",
       "std     11.002347   10.826504   11.246116   11.094573   11.128741   \n",
       "min    126.010002  127.769997  124.169998  125.019997  124.829399   \n",
       "25%    142.099998  143.722496  139.924995  142.457497  141.965424   \n",
       "50%    148.864998  150.889999  147.200004  149.295006  148.892677   \n",
       "75%    156.597499  158.015003  154.247498  156.872494  156.319740   \n",
       "max    173.750000  176.149994  173.119995  174.550003  173.995270   \n",
       "\n",
       "             Volume  \n",
       "count  2.500000e+02  \n",
       "mean   7.798173e+07  \n",
       "std    2.439045e+07  \n",
       "min    3.519590e+07  \n",
       "25%    6.250145e+07  \n",
       "50%    7.352530e+07  \n",
       "75%    8.770552e+07  \n",
       "max    1.826020e+08  "
      ]
     },
     "execution_count": 27,
     "metadata": {},
     "output_type": "execute_result"
    }
   ],
   "source": [
    "historical_data.describe()"
   ]
  },
  {
   "cell_type": "code",
   "execution_count": null,
   "id": "9740e835",
   "metadata": {},
   "outputs": [],
   "source": []
  }
 ],
 "metadata": {
  "colab": {
   "provenance": []
  },
  "kernelspec": {
   "display_name": "Python 3 (ipykernel)",
   "language": "python",
   "name": "python3"
  },
  "language_info": {
   "codemirror_mode": {
    "name": "ipython",
    "version": 3
   },
   "file_extension": ".py",
   "mimetype": "text/x-python",
   "name": "python",
   "nbconvert_exporter": "python",
   "pygments_lexer": "ipython3",
   "version": "3.10.6"
  }
 },
 "nbformat": 4,
 "nbformat_minor": 5
}

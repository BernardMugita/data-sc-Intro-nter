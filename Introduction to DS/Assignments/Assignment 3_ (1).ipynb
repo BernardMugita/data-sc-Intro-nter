{
 "cells": [
  {
   "cell_type": "markdown",
   "id": "2d7e1cf7",
   "metadata": {},
   "source": [
    "#### Assignment 3_"
   ]
  },
  {
   "cell_type": "markdown",
   "id": "ca6b255d",
   "metadata": {},
   "source": [
    "#### Statement of Problem:"
   ]
  },
  {
   "cell_type": "code",
   "execution_count": 11,
   "id": "7b7ff2a9",
   "metadata": {},
   "outputs": [],
   "source": [
    "# Using the 'Boston' dataset provided, please answer the following questions;\n",
    "\n",
    "# showing clearly the methodology employed to arrive at each answer:"
   ]
  },
  {
   "cell_type": "code",
   "execution_count": 2,
   "id": "2e6e9599",
   "metadata": {},
   "outputs": [],
   "source": [
    "# importing the necessary libraries \n",
    "import pandas as pd;\n",
    "import matplotlib.pyplot as plt;\n",
    "import numpy as np;"
   ]
  },
  {
   "cell_type": "code",
   "execution_count": 3,
   "id": "14779624",
   "metadata": {},
   "outputs": [],
   "source": [
    "# importing the csv file onto our file:\n",
    "boston_data = pd.read_csv(r'/home/jeromemugita/Downloads/Boston - Boston.csv')"
   ]
  },
  {
   "cell_type": "code",
   "execution_count": 4,
   "id": "ca91f3dd",
   "metadata": {},
   "outputs": [],
   "source": [
    "df = boston_data.copy()"
   ]
  },
  {
   "cell_type": "code",
   "execution_count": null,
   "id": "cef5bc48",
   "metadata": {},
   "outputs": [],
   "source": [
    "# 1. What type of file is this dataset ?"
   ]
  },
  {
   "cell_type": "markdown",
   "id": "ac29e664",
   "metadata": {},
   "source": [
    "##### the file we are using is a .csv (comma separated values) file"
   ]
  },
  {
   "cell_type": "code",
   "execution_count": 6,
   "id": "3dc0b654",
   "metadata": {},
   "outputs": [
    {
     "data": {
      "text/plain": [
       "(506, 15)"
      ]
     },
     "execution_count": 6,
     "metadata": {},
     "output_type": "execute_result"
    }
   ],
   "source": [
    "# 2. How many rows and columns does it consist of ?\n",
    "\n",
    "df.shape"
   ]
  },
  {
   "cell_type": "markdown",
   "id": "f3fa6221",
   "metadata": {},
   "source": [
    "##### here we see that the .shape attribute returns a data model with 506 rows and 15 colums"
   ]
  },
  {
   "cell_type": "code",
   "execution_count": 10,
   "id": "7bb1830a",
   "metadata": {},
   "outputs": [
    {
     "data": {
      "text/plain": [
       "43.8"
      ]
     },
     "execution_count": 10,
     "metadata": {},
     "output_type": "execute_result"
    }
   ],
   "source": [
    "# 3.Calculate the Interquartile Range \n",
    "\n",
    "interQR = np.quantile(df, 0.75) - np.quantile(df, 0.25)\n",
    "interQR"
   ]
  },
  {
   "cell_type": "markdown",
   "id": "80a22d58",
   "metadata": {},
   "source": [
    "##### here we find that the inter-quantile range for our dataset is 43.8"
   ]
  },
  {
   "cell_type": "code",
   "execution_count": 13,
   "id": "f3732b77",
   "metadata": {},
   "outputs": [
    {
     "data": {
      "text/plain": [
       "Unnamed: 0    146.213884\n",
       "crim            8.601545\n",
       "zn             23.322453\n",
       "indus           6.860353\n",
       "chas            0.253994\n",
       "nox             0.115878\n",
       "rm              0.702617\n",
       "age            28.148861\n",
       "dis             2.105710\n",
       "rad             8.707259\n",
       "tax           168.537116\n",
       "ptratio         2.164946\n",
       "black          91.294864\n",
       "lstat           7.141062\n",
       "medv            9.197104\n",
       "dtype: float64"
      ]
     },
     "execution_count": 13,
     "metadata": {},
     "output_type": "execute_result"
    }
   ],
   "source": [
    "# 4. What is the Standard deviation ?\n",
    "\n",
    "np.sqrt(np.var(df, ddof=1))"
   ]
  },
  {
   "cell_type": "markdown",
   "id": "b8647464",
   "metadata": {},
   "source": [
    "##### we can see that the results show the standard deviations for each of our dataset's columns"
   ]
  },
  {
   "cell_type": "code",
   "execution_count": 18,
   "id": "f433b2b2",
   "metadata": {},
   "outputs": [
    {
     "data": {
      "text/html": [
       "<div>\n",
       "<style scoped>\n",
       "    .dataframe tbody tr th:only-of-type {\n",
       "        vertical-align: middle;\n",
       "    }\n",
       "\n",
       "    .dataframe tbody tr th {\n",
       "        vertical-align: top;\n",
       "    }\n",
       "\n",
       "    .dataframe thead th {\n",
       "        text-align: right;\n",
       "    }\n",
       "</style>\n",
       "<table border=\"1\" class=\"dataframe\">\n",
       "  <thead>\n",
       "    <tr style=\"text-align: right;\">\n",
       "      <th></th>\n",
       "      <th>Unnamed: 0</th>\n",
       "      <th>crim</th>\n",
       "      <th>zn</th>\n",
       "      <th>indus</th>\n",
       "      <th>chas</th>\n",
       "      <th>nox</th>\n",
       "      <th>rm</th>\n",
       "      <th>age</th>\n",
       "      <th>dis</th>\n",
       "      <th>rad</th>\n",
       "      <th>tax</th>\n",
       "      <th>ptratio</th>\n",
       "      <th>black</th>\n",
       "      <th>lstat</th>\n",
       "      <th>medv</th>\n",
       "    </tr>\n",
       "  </thead>\n",
       "  <tbody>\n",
       "    <tr>\n",
       "      <th>mean</th>\n",
       "      <td>253.5</td>\n",
       "      <td>3.613524</td>\n",
       "      <td>11.363636</td>\n",
       "      <td>11.136779</td>\n",
       "      <td>0.06917</td>\n",
       "      <td>0.554695</td>\n",
       "      <td>6.284634</td>\n",
       "      <td>68.574901</td>\n",
       "      <td>3.795043</td>\n",
       "      <td>9.549407</td>\n",
       "      <td>408.237154</td>\n",
       "      <td>18.455534</td>\n",
       "      <td>356.674032</td>\n",
       "      <td>12.653063</td>\n",
       "      <td>22.532806</td>\n",
       "    </tr>\n",
       "    <tr>\n",
       "      <th>median</th>\n",
       "      <td>253.5</td>\n",
       "      <td>0.256510</td>\n",
       "      <td>0.000000</td>\n",
       "      <td>9.690000</td>\n",
       "      <td>0.00000</td>\n",
       "      <td>0.538000</td>\n",
       "      <td>6.208500</td>\n",
       "      <td>77.500000</td>\n",
       "      <td>3.207450</td>\n",
       "      <td>5.000000</td>\n",
       "      <td>330.000000</td>\n",
       "      <td>19.050000</td>\n",
       "      <td>391.440000</td>\n",
       "      <td>11.360000</td>\n",
       "      <td>21.200000</td>\n",
       "    </tr>\n",
       "    <tr>\n",
       "      <th>max</th>\n",
       "      <td>506.0</td>\n",
       "      <td>88.976200</td>\n",
       "      <td>100.000000</td>\n",
       "      <td>27.740000</td>\n",
       "      <td>1.00000</td>\n",
       "      <td>0.871000</td>\n",
       "      <td>8.780000</td>\n",
       "      <td>100.000000</td>\n",
       "      <td>12.126500</td>\n",
       "      <td>24.000000</td>\n",
       "      <td>711.000000</td>\n",
       "      <td>22.000000</td>\n",
       "      <td>396.900000</td>\n",
       "      <td>37.970000</td>\n",
       "      <td>50.000000</td>\n",
       "    </tr>\n",
       "  </tbody>\n",
       "</table>\n",
       "</div>"
      ],
      "text/plain": [
       "        Unnamed: 0       crim          zn      indus     chas       nox   \n",
       "mean         253.5   3.613524   11.363636  11.136779  0.06917  0.554695  \\\n",
       "median       253.5   0.256510    0.000000   9.690000  0.00000  0.538000   \n",
       "max          506.0  88.976200  100.000000  27.740000  1.00000  0.871000   \n",
       "\n",
       "              rm         age        dis        rad         tax    ptratio   \n",
       "mean    6.284634   68.574901   3.795043   9.549407  408.237154  18.455534  \\\n",
       "median  6.208500   77.500000   3.207450   5.000000  330.000000  19.050000   \n",
       "max     8.780000  100.000000  12.126500  24.000000  711.000000  22.000000   \n",
       "\n",
       "             black      lstat       medv  \n",
       "mean    356.674032  12.653063  22.532806  \n",
       "median  391.440000  11.360000  21.200000  \n",
       "max     396.900000  37.970000  50.000000  "
      ]
     },
     "execution_count": 18,
     "metadata": {},
     "output_type": "execute_result"
    }
   ],
   "source": [
    "# 5. What is the mean,median and mode values ?\n",
    "df.agg([np.mean, np.median, max])"
   ]
  },
  {
   "cell_type": "markdown",
   "id": "2e568df6",
   "metadata": {},
   "source": [
    "##### the solution above contains data representing the mean, median and the mode (max - most responses for each column). "
   ]
  },
  {
   "cell_type": "code",
   "execution_count": 15,
   "id": "543d6adf",
   "metadata": {},
   "outputs": [
    {
     "data": {
      "text/plain": [
       "Unnamed: 0      int64\n",
       "crim          float64\n",
       "zn            float64\n",
       "indus         float64\n",
       "chas            int64\n",
       "nox           float64\n",
       "rm            float64\n",
       "age           float64\n",
       "dis           float64\n",
       "rad             int64\n",
       "tax             int64\n",
       "ptratio       float64\n",
       "black         float64\n",
       "lstat         float64\n",
       "medv          float64\n",
       "dtype: object"
      ]
     },
     "execution_count": 15,
     "metadata": {},
     "output_type": "execute_result"
    }
   ],
   "source": [
    "# 6. List the various data types in the data set.\n",
    "\n",
    "df.dtypes"
   ]
  },
  {
   "cell_type": "markdown",
   "id": "9684c96f",
   "metadata": {},
   "source": [
    "##### the result above shows the different datatypes for our different column entries. "
   ]
  },
  {
   "cell_type": "code",
   "execution_count": null,
   "id": "6c802a44",
   "metadata": {},
   "outputs": [],
   "source": []
  },
  {
   "cell_type": "code",
   "execution_count": null,
   "id": "7da72bd9",
   "metadata": {},
   "outputs": [],
   "source": []
  },
  {
   "cell_type": "code",
   "execution_count": null,
   "id": "848aa534",
   "metadata": {},
   "outputs": [],
   "source": []
  },
  {
   "cell_type": "code",
   "execution_count": null,
   "id": "b7b6e46b",
   "metadata": {},
   "outputs": [],
   "source": []
  }
 ],
 "metadata": {
  "kernelspec": {
   "display_name": "Python 3 (ipykernel)",
   "language": "python",
   "name": "python3"
  },
  "language_info": {
   "codemirror_mode": {
    "name": "ipython",
    "version": 3
   },
   "file_extension": ".py",
   "mimetype": "text/x-python",
   "name": "python",
   "nbconvert_exporter": "python",
   "pygments_lexer": "ipython3",
   "version": "3.10.6"
  }
 },
 "nbformat": 4,
 "nbformat_minor": 5
}

{
 "cells": [
  {
   "cell_type": "markdown",
   "id": "bb02e2be",
   "metadata": {},
   "source": [
    "#### 10.0 Confusion Matrix "
   ]
  },
  {
   "cell_type": "markdown",
   "id": "ae370b7a",
   "metadata": {},
   "source": [
    "#### Confusion Matrix"
   ]
  },
  {
   "cell_type": "raw",
   "id": "405cb239",
   "metadata": {},
   "source": [
    "1. Used in classification problems to assess where errors in the model were made.\n",
    "2. The rows represent the actual classes the outcomes should have been. \n",
    "3. The columns represent the predictions  made.\n"
   ]
  },
  {
   "cell_type": "code",
   "execution_count": 1,
   "id": "76a9e404",
   "metadata": {},
   "outputs": [],
   "source": [
    "# Example 1 : Confusion Matrix\n",
    "#i. Let's  create a datasetby assigning actualclass and predicted values :\n",
    "actual = numpy.random.binomial(1, 0.9, size = 1000)    # (rows represent actual classes)\n",
    "predicted = numpy.random.binomial(1, 0.9, size = 1000) # (columns represent the predicted)"
   ]
  },
  {
   "cell_type": "code",
   "execution_count": 9,
   "id": "28c1fc6f",
   "metadata": {},
   "outputs": [],
   "source": [
    "#ii. Import relevant libraries:\n",
    "\n",
    "import numpy                         # (For creating random actual and predicted variables)\n",
    "from sklearn import metrics          # (For confusion matrix)\n",
    "import matplotlib.pyplot as plt      # ( For plotting)"
   ]
  },
  {
   "cell_type": "code",
   "execution_count": 6,
   "id": "309a827d",
   "metadata": {},
   "outputs": [],
   "source": [
    "#iii. Confusion Matrix :\n",
    "confusion_matrix = metrics.confusion_matrix(actual, predicted)"
   ]
  },
  {
   "cell_type": "code",
   "execution_count": 7,
   "id": "f782e21e",
   "metadata": {},
   "outputs": [],
   "source": [
    "#iv. Visual display of the confusion matrix in a table form:\n",
    "cm_display = metrics.ConfusionMatrixDisplay(confusion_matrix = \n",
    "                                            confusion_matrix, display_labels = [False, True])"
   ]
  },
  {
   "cell_type": "code",
   "execution_count": 10,
   "id": "34cc3506",
   "metadata": {},
   "outputs": [
    {
     "data": {
      "image/png": "[encoded data removed]",
      "text/plain": [
       "<Figure size 432x288 with 2 Axes>"
      ]
     },
     "metadata": {
      "needs_background": "light"
     },
     "output_type": "display_data"
    }
   ],
   "source": [
    "#v. Display plot :\n",
    "cm_display.plot()\n",
    "plt.show()"
   ]
  },
  {
   "cell_type": "code",
   "execution_count": null,
   "id": "f3f18bc6",
   "metadata": {},
   "outputs": [],
   "source": [
    "# Entire Example 1: steps i to v -\n",
    "import matplotlib.pyplot as plt\n",
    "import numpy\n",
    "from sklearn import metrics\n",
    "\n",
    "actual = numpy.random.binomial(1,.9,size = 1000)\n",
    "predicted = numpy.random.binomial(1,.9,size = 1000)\n",
    "\n",
    "confusion_matrix = metrics.confusion_matrix(actual, predicted)\n",
    "\n",
    "cm_display = metrics.ConfusionMatrixDisplay(confusion_matrix =\n",
    "                                            confusion_matrix, display_labels = [False, True])\n",
    "\n",
    "cm_display.plot()\n",
    "plt.show()"
   ]
  },
  {
   "cell_type": "code",
   "execution_count": null,
   "id": "fb504c00",
   "metadata": {},
   "outputs": [],
   "source": []
  }
 ],
 "metadata": {
  "kernelspec": {
   "display_name": "Python 3",
   "language": "python",
   "name": "python3"
  },
  "language_info": {
   "codemirror_mode": {
    "name": "ipython",
    "version": 3
   },
   "file_extension": ".py",
   "mimetype": "text/x-python",
   "name": "python",
   "nbconvert_exporter": "python",
   "pygments_lexer": "ipython3",
   "version": "3.8.8"
  }
 },
 "nbformat": 4,
 "nbformat_minor": 5
}

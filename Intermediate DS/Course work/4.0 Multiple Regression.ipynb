{
 "cells": [
  {
   "cell_type": "markdown",
   "id": "07032a81",
   "metadata": {},
   "source": [
    "#### 4.0 Multiple  Regression"
   ]
  },
  {
   "cell_type": "raw",
   "id": "70dd2e86",
   "metadata": {},
   "source": [
    "Similar to linear regression, but with more than one independent value,\n",
    "implying that that we try to predict a value based on two or more variables."
   ]
  },
  {
   "cell_type": "code",
   "execution_count": 3,
   "id": "a094e648",
   "metadata": {},
   "outputs": [],
   "source": [
    "import warnings, math\n",
    "with warnings.catch_warnings():\n",
    "    warnings.simplefilter('ignore')"
   ]
  },
  {
   "cell_type": "code",
   "execution_count": 4,
   "id": "abcce1ee",
   "metadata": {},
   "outputs": [
    {
     "data": {
      "text/html": [
       "<div>\n",
       "<style scoped>\n",
       "    .dataframe tbody tr th:only-of-type {\n",
       "        vertical-align: middle;\n",
       "    }\n",
       "\n",
       "    .dataframe tbody tr th {\n",
       "        vertical-align: top;\n",
       "    }\n",
       "\n",
       "    .dataframe thead th {\n",
       "        text-align: right;\n",
       "    }\n",
       "</style>\n",
       "<table border=\"1\" class=\"dataframe\">\n",
       "  <thead>\n",
       "    <tr style=\"text-align: right;\">\n",
       "      <th></th>\n",
       "      <th>Car</th>\n",
       "      <th>Model</th>\n",
       "      <th>Volume</th>\n",
       "      <th>Weight</th>\n",
       "      <th>CO2</th>\n",
       "    </tr>\n",
       "  </thead>\n",
       "  <tbody>\n",
       "    <tr>\n",
       "      <th>31</th>\n",
       "      <td>Volvo</td>\n",
       "      <td>XC70</td>\n",
       "      <td>2000</td>\n",
       "      <td>1746</td>\n",
       "      <td>117</td>\n",
       "    </tr>\n",
       "    <tr>\n",
       "      <th>32</th>\n",
       "      <td>Ford</td>\n",
       "      <td>B-Max</td>\n",
       "      <td>1600</td>\n",
       "      <td>1235</td>\n",
       "      <td>104</td>\n",
       "    </tr>\n",
       "    <tr>\n",
       "      <th>33</th>\n",
       "      <td>BMW</td>\n",
       "      <td>216</td>\n",
       "      <td>1600</td>\n",
       "      <td>1390</td>\n",
       "      <td>108</td>\n",
       "    </tr>\n",
       "    <tr>\n",
       "      <th>34</th>\n",
       "      <td>Opel</td>\n",
       "      <td>Zafira</td>\n",
       "      <td>1600</td>\n",
       "      <td>1405</td>\n",
       "      <td>109</td>\n",
       "    </tr>\n",
       "    <tr>\n",
       "      <th>35</th>\n",
       "      <td>Mercedes</td>\n",
       "      <td>SLK</td>\n",
       "      <td>2500</td>\n",
       "      <td>1395</td>\n",
       "      <td>120</td>\n",
       "    </tr>\n",
       "  </tbody>\n",
       "</table>\n",
       "</div>"
      ],
      "text/plain": [
       "         Car   Model  Volume  Weight  CO2\n",
       "31     Volvo    XC70    2000    1746  117\n",
       "32      Ford   B-Max    1600    1235  104\n",
       "33       BMW     216    1600    1390  108\n",
       "34      Opel  Zafira    1600    1405  109\n",
       "35  Mercedes     SLK    2500    1395  120"
      ]
     },
     "execution_count": 4,
     "metadata": {},
     "output_type": "execute_result"
    }
   ],
   "source": [
    "# Example 1: To Predict CO2 Emissions\n",
    "import pandas as pd\n",
    "\n",
    "cars_data = pd.read_csv(r'C:\\Users\\user\\Downloads\\cars_data.csv')\n",
    "cars_data.tail()"
   ]
  },
  {
   "cell_type": "code",
   "execution_count": 5,
   "id": "068c77cb",
   "metadata": {},
   "outputs": [],
   "source": [
    "df = cars_data.copy()"
   ]
  },
  {
   "cell_type": "code",
   "execution_count": 6,
   "id": "97236617",
   "metadata": {},
   "outputs": [
    {
     "data": {
      "text/html": [
       "<div>\n",
       "<style scoped>\n",
       "    .dataframe tbody tr th:only-of-type {\n",
       "        vertical-align: middle;\n",
       "    }\n",
       "\n",
       "    .dataframe tbody tr th {\n",
       "        vertical-align: top;\n",
       "    }\n",
       "\n",
       "    .dataframe thead th {\n",
       "        text-align: right;\n",
       "    }\n",
       "</style>\n",
       "<table border=\"1\" class=\"dataframe\">\n",
       "  <thead>\n",
       "    <tr style=\"text-align: right;\">\n",
       "      <th></th>\n",
       "      <th>Car</th>\n",
       "      <th>Model</th>\n",
       "      <th>Volume</th>\n",
       "      <th>Weight</th>\n",
       "      <th>CO2</th>\n",
       "    </tr>\n",
       "  </thead>\n",
       "  <tbody>\n",
       "    <tr>\n",
       "      <th>31</th>\n",
       "      <td>Volvo</td>\n",
       "      <td>XC70</td>\n",
       "      <td>2000</td>\n",
       "      <td>1746</td>\n",
       "      <td>117</td>\n",
       "    </tr>\n",
       "    <tr>\n",
       "      <th>32</th>\n",
       "      <td>Ford</td>\n",
       "      <td>B-Max</td>\n",
       "      <td>1600</td>\n",
       "      <td>1235</td>\n",
       "      <td>104</td>\n",
       "    </tr>\n",
       "    <tr>\n",
       "      <th>33</th>\n",
       "      <td>BMW</td>\n",
       "      <td>216</td>\n",
       "      <td>1600</td>\n",
       "      <td>1390</td>\n",
       "      <td>108</td>\n",
       "    </tr>\n",
       "    <tr>\n",
       "      <th>34</th>\n",
       "      <td>Opel</td>\n",
       "      <td>Zafira</td>\n",
       "      <td>1600</td>\n",
       "      <td>1405</td>\n",
       "      <td>109</td>\n",
       "    </tr>\n",
       "    <tr>\n",
       "      <th>35</th>\n",
       "      <td>Mercedes</td>\n",
       "      <td>SLK</td>\n",
       "      <td>2500</td>\n",
       "      <td>1395</td>\n",
       "      <td>120</td>\n",
       "    </tr>\n",
       "  </tbody>\n",
       "</table>\n",
       "</div>"
      ],
      "text/plain": [
       "         Car   Model  Volume  Weight  CO2\n",
       "31     Volvo    XC70    2000    1746  117\n",
       "32      Ford   B-Max    1600    1235  104\n",
       "33       BMW     216    1600    1390  108\n",
       "34      Opel  Zafira    1600    1405  109\n",
       "35  Mercedes     SLK    2500    1395  120"
      ]
     },
     "execution_count": 6,
     "metadata": {},
     "output_type": "execute_result"
    }
   ],
   "source": [
    "df.tail()"
   ]
  },
  {
   "cell_type": "code",
   "execution_count": 7,
   "id": "fa8ac609",
   "metadata": {},
   "outputs": [],
   "source": [
    "# Choose the independent values and assign variable X.\n",
    "\n",
    "# Choose  the dependent values and assign variable y.\n",
    "\n",
    "X = df[['Weight', 'Volume']]\n",
    "\n",
    "y = df['CO2']"
   ]
  },
  {
   "cell_type": "code",
   "execution_count": 8,
   "id": "236e4f63",
   "metadata": {},
   "outputs": [],
   "source": [
    "# import relevant library:\n",
    "\n",
    "from sklearn import linear_model"
   ]
  },
  {
   "cell_type": "code",
   "execution_count": 9,
   "id": "87f1e60e",
   "metadata": {},
   "outputs": [],
   "source": [
    "# We then use the LinearRegression() method to create a linear regression object:\n",
    "\n",
    "regr = linear_model.LinearRegression()\n",
    "\n"
   ]
  },
  {
   "cell_type": "code",
   "execution_count": 10,
   "id": "8cb31342",
   "metadata": {},
   "outputs": [
    {
     "data": {
      "text/html": [
       "<style>#sk-container-id-1 {color: black;background-color: white;}#sk-container-id-1 pre{padding: 0;}#sk-container-id-1 div.sk-toggleable {background-color: white;}#sk-container-id-1 label.sk-toggleable__label {cursor: pointer;display: block;width: 100%;margin-bottom: 0;padding: 0.3em;box-sizing: border-box;text-align: center;}#sk-container-id-1 label.sk-toggleable__label-arrow:before {content: \"▸\";float: left;margin-right: 0.25em;color: #696969;}#sk-container-id-1 label.sk-toggleable__label-arrow:hover:before {color: black;}#sk-container-id-1 div.sk-estimator:hover label.sk-toggleable__label-arrow:before {color: black;}#sk-container-id-1 div.sk-toggleable__content {max-height: 0;max-width: 0;overflow: hidden;text-align: left;background-color: #f0f8ff;}#sk-container-id-1 div.sk-toggleable__content pre {margin: 0.2em;color: black;border-radius: 0.25em;background-color: #f0f8ff;}#sk-container-id-1 input.sk-toggleable__control:checked~div.sk-toggleable__content {max-height: 200px;max-width: 100%;overflow: auto;}#sk-container-id-1 input.sk-toggleable__control:checked~label.sk-toggleable__label-arrow:before {content: \"▾\";}#sk-container-id-1 div.sk-estimator input.sk-toggleable__control:checked~label.sk-toggleable__label {background-color: #d4ebff;}#sk-container-id-1 div.sk-label input.sk-toggleable__control:checked~label.sk-toggleable__label {background-color: #d4ebff;}#sk-container-id-1 input.sk-hidden--visually {border: 0;clip: rect(1px 1px 1px 1px);clip: rect(1px, 1px, 1px, 1px);height: 1px;margin: -1px;overflow: hidden;padding: 0;position: absolute;width: 1px;}#sk-container-id-1 div.sk-estimator {font-family: monospace;background-color: #f0f8ff;border: 1px dotted black;border-radius: 0.25em;box-sizing: border-box;margin-bottom: 0.5em;}#sk-container-id-1 div.sk-estimator:hover {background-color: #d4ebff;}#sk-container-id-1 div.sk-parallel-item::after {content: \"\";width: 100%;border-bottom: 1px solid gray;flex-grow: 1;}#sk-container-id-1 div.sk-label:hover label.sk-toggleable__label {background-color: #d4ebff;}#sk-container-id-1 div.sk-serial::before {content: \"\";position: absolute;border-left: 1px solid gray;box-sizing: border-box;top: 0;bottom: 0;left: 50%;z-index: 0;}#sk-container-id-1 div.sk-serial {display: flex;flex-direction: column;align-items: center;background-color: white;padding-right: 0.2em;padding-left: 0.2em;position: relative;}#sk-container-id-1 div.sk-item {position: relative;z-index: 1;}#sk-container-id-1 div.sk-parallel {display: flex;align-items: stretch;justify-content: center;background-color: white;position: relative;}#sk-container-id-1 div.sk-item::before, #sk-container-id-1 div.sk-parallel-item::before {content: \"\";position: absolute;border-left: 1px solid gray;box-sizing: border-box;top: 0;bottom: 0;left: 50%;z-index: -1;}#sk-container-id-1 div.sk-parallel-item {display: flex;flex-direction: column;z-index: 1;position: relative;background-color: white;}#sk-container-id-1 div.sk-parallel-item:first-child::after {align-self: flex-end;width: 50%;}#sk-container-id-1 div.sk-parallel-item:last-child::after {align-self: flex-start;width: 50%;}#sk-container-id-1 div.sk-parallel-item:only-child::after {width: 0;}#sk-container-id-1 div.sk-dashed-wrapped {border: 1px dashed gray;margin: 0 0.4em 0.5em 0.4em;box-sizing: border-box;padding-bottom: 0.4em;background-color: white;}#sk-container-id-1 div.sk-label label {font-family: monospace;font-weight: bold;display: inline-block;line-height: 1.2em;}#sk-container-id-1 div.sk-label-container {text-align: center;}#sk-container-id-1 div.sk-container {/* jupyter's `normalize.less` sets `[hidden] { display: none; }` but bootstrap.min.css set `[hidden] { display: none !important; }` so we also need the `!important` here to be able to override the default hidden behavior on the sphinx rendered scikit-learn.org. See: https://github.com/scikit-learn/scikit-learn/issues/21755 */display: inline-block !important;position: relative;}#sk-container-id-1 div.sk-text-repr-fallback {display: none;}</style><div id=\"sk-container-id-1\" class=\"sk-top-container\"><div class=\"sk-text-repr-fallback\"><pre>LinearRegression()</pre><b>In a Jupyter environment, please rerun this cell to show the HTML representation or trust the notebook. <br />On GitHub, the HTML representation is unable to render, please try loading this page with nbviewer.org.</b></div><div class=\"sk-container\" hidden><div class=\"sk-item\"><div class=\"sk-estimator sk-toggleable\"><input class=\"sk-toggleable__control sk-hidden--visually\" id=\"sk-estimator-id-1\" type=\"checkbox\" checked><label for=\"sk-estimator-id-1\" class=\"sk-toggleable__label sk-toggleable__label-arrow\">LinearRegression</label><div class=\"sk-toggleable__content\"><pre>LinearRegression()</pre></div></div></div></div></div>"
      ],
      "text/plain": [
       "LinearRegression()"
      ]
     },
     "execution_count": 10,
     "metadata": {},
     "output_type": "execute_result"
    }
   ],
   "source": [
    "# This linear regression object has a method called fit();\n",
    "# This method takes the independent and dependent values as parameters,\n",
    "# and fills the regression object with data that describes the relationship:\n",
    "\n",
    "regr.fit(X, y)"
   ]
  },
  {
   "cell_type": "code",
   "execution_count": 11,
   "id": "1181de2c",
   "metadata": {},
   "outputs": [
    {
     "name": "stderr",
     "output_type": "stream",
     "text": [
      "C:\\Users\\user\\anaconda3_a\\lib\\site-packages\\sklearn\\base.py:439: UserWarning: X does not have valid feature names, but LinearRegression was fitted with feature names\n",
      "  warnings.warn(\n"
     ]
    }
   ],
   "source": [
    "# We are ready to do the prediction:-\n",
    "\n",
    "# Predict the CO2 emission of a car where the weight is 2300kg,\n",
    "# and the volume is 1300cm3:\n",
    "\n",
    "predict_CO2 = regr.predict([[2300, 1300]])\n"
   ]
  },
  {
   "cell_type": "code",
   "execution_count": 12,
   "id": "28f28d06",
   "metadata": {},
   "outputs": [
    {
     "name": "stdout",
     "output_type": "stream",
     "text": [
      "[107.2087328]\n"
     ]
    }
   ],
   "source": [
    "print(predict_CO2)"
   ]
  },
  {
   "cell_type": "code",
   "execution_count": 13,
   "id": "4b2a9430",
   "metadata": {},
   "outputs": [
    {
     "name": "stdout",
     "output_type": "stream",
     "text": [
      "[107.2087328]\n"
     ]
    },
    {
     "name": "stderr",
     "output_type": "stream",
     "text": [
      "C:\\Users\\user\\anaconda3_a\\lib\\site-packages\\sklearn\\base.py:439: UserWarning: X does not have valid feature names, but LinearRegression was fitted with feature names\n",
      "  warnings.warn(\n"
     ]
    }
   ],
   "source": [
    "# Example 1 : Putting it all together \n",
    "# Statement of Problem :\n",
    "#Predict the CO2 emission of a car whose weight is 2300kg, and volume is 1300cm3:\n",
    "\n",
    "import pandas\n",
    "from sklearn import linear_model\n",
    "\n",
    "df = pd.read_csv(r'C:\\Users\\user\\Downloads\\cars_data.csv')\n",
    "\n",
    "X = df[['Weight', 'Volume']]\n",
    "y = df['CO2']\n",
    "\n",
    "regr = linear_model.LinearRegression()\n",
    "regr.fit(X, y)\n",
    "\n",
    "#predict the CO2 emission of a car where the weight is 2300kg, and the volume is 1300cm3:\n",
    "predict_CO2 = regr.predict([[2300, 1300]])\n",
    "\n",
    "print(predict_CO2)"
   ]
  },
  {
   "cell_type": "markdown",
   "id": "52ee8797",
   "metadata": {},
   "source": [
    "##### Conclusion :"
   ]
  },
  {
   "cell_type": "raw",
   "id": "66a741d3",
   "metadata": {},
   "source": [
    "A car with 1.3 liter engine, and a weight of 2300 kg,will emit \n",
    "approximately 107 grams of CO2 for every kilometer it drives."
   ]
  },
  {
   "cell_type": "code",
   "execution_count": null,
   "id": "bf344911",
   "metadata": {},
   "outputs": [],
   "source": []
  },
  {
   "cell_type": "code",
   "execution_count": null,
   "id": "ad0f6cfd",
   "metadata": {},
   "outputs": [],
   "source": []
  },
  {
   "cell_type": "markdown",
   "id": "999acc75",
   "metadata": {},
   "source": [
    "##### Coefficient"
   ]
  },
  {
   "cell_type": "code",
   "execution_count": 16,
   "id": "35a979a6",
   "metadata": {},
   "outputs": [],
   "source": [
    "The coefficient is a factor that describes the relationship with an unknown variable.\n",
    "\n",
    "Example:\n",
    "If x is a variable, then 2x is x two times.\n",
    "x is the unknown variable, and the number 2 is the coefficient.\n",
    "\n",
    "In this case, we can ask for the coefficient value of weight against CO2,\n",
    "and for volume against CO2.\n",
    "The answer(s) we get tells us what would happen if we increase,or decrease, one of the independent values."
   ]
  },
  {
   "cell_type": "code",
   "execution_count": null,
   "id": "fac70685",
   "metadata": {},
   "outputs": [],
   "source": []
  }
 ],
 "metadata": {
  "kernelspec": {
   "display_name": "Python 3",
   "language": "python",
   "name": "python3"
  },
  "language_info": {
   "codemirror_mode": {
    "name": "ipython",
    "version": 3
   },
   "file_extension": ".py",
   "mimetype": "text/x-python",
   "name": "python",
   "nbconvert_exporter": "python",
   "pygments_lexer": "ipython3",
   "version": "3.8.8"
  }
 },
 "nbformat": 4,
 "nbformat_minor": 5
}

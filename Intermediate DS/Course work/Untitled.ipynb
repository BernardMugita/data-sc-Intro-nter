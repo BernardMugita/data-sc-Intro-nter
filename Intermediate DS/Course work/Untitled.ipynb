{
 "cells": [
  {
   "cell_type": "code",
   "execution_count": 102,
   "id": "469b0349",
   "metadata": {},
   "outputs": [],
   "source": [
    "import pandas as pd;\n",
    "import matplotlib.pyplot as plt;\n",
    "import numpy as np;"
   ]
  },
  {
   "cell_type": "code",
   "execution_count": 8,
   "id": "52bf7835",
   "metadata": {},
   "outputs": [
    {
     "name": "stdout",
     "output_type": "stream",
     "text": [
      "Defaulting to user installation because normal site-packages is not writeable\n",
      "Collecting openpyxl\n",
      "  Downloading openpyxl-3.1.2-py2.py3-none-any.whl (249 kB)\n",
      "\u001b[2K     \u001b[38;2;114;156;31m━━━━━━━━━━━━━━━━━━━━━━━━━━━━━━━━━━━━━\u001b[0m \u001b[32m250.0/250.0 KB\u001b[0m \u001b[31m125.8 kB/s\u001b[0m eta \u001b[36m0:00:00\u001b[0m[36m0:00:01\u001b[0mm eta \u001b[36m0:00:01\u001b[0m\n",
      "\u001b[?25hCollecting et-xmlfile\n",
      "  Downloading et_xmlfile-1.1.0-py3-none-any.whl (4.7 kB)\n",
      "Installing collected packages: et-xmlfile, openpyxl\n",
      "Successfully installed et-xmlfile-1.1.0 openpyxl-3.1.2\n"
     ]
    }
   ],
   "source": [
    "#pip install openpyxl;"
   ]
  },
  {
   "cell_type": "code",
   "execution_count": 10,
   "id": "421b1c56",
   "metadata": {},
   "outputs": [],
   "source": [
    "transaction_data = pd.read_excel(r'/home/jeromemugita/Downloads/QVI_transaction_data.xlsx', sheet_name = 'in')"
   ]
  },
  {
   "cell_type": "code",
   "execution_count": 11,
   "id": "d5c99afd",
   "metadata": {},
   "outputs": [
    {
     "data": {
      "text/html": [
       "<div>\n",
       "<style scoped>\n",
       "    .dataframe tbody tr th:only-of-type {\n",
       "        vertical-align: middle;\n",
       "    }\n",
       "\n",
       "    .dataframe tbody tr th {\n",
       "        vertical-align: top;\n",
       "    }\n",
       "\n",
       "    .dataframe thead th {\n",
       "        text-align: right;\n",
       "    }\n",
       "</style>\n",
       "<table border=\"1\" class=\"dataframe\">\n",
       "  <thead>\n",
       "    <tr style=\"text-align: right;\">\n",
       "      <th></th>\n",
       "      <th>DATE</th>\n",
       "      <th>STORE_NBR</th>\n",
       "      <th>LYLTY_CARD_NBR</th>\n",
       "      <th>TXN_ID</th>\n",
       "      <th>PROD_NBR</th>\n",
       "      <th>PROD_NAME</th>\n",
       "      <th>PROD_QTY</th>\n",
       "      <th>TOT_SALES</th>\n",
       "    </tr>\n",
       "  </thead>\n",
       "  <tbody>\n",
       "    <tr>\n",
       "      <th>0</th>\n",
       "      <td>43390</td>\n",
       "      <td>1</td>\n",
       "      <td>1000</td>\n",
       "      <td>1</td>\n",
       "      <td>5</td>\n",
       "      <td>Natural Chip        Compny SeaSalt175g</td>\n",
       "      <td>2</td>\n",
       "      <td>6.0</td>\n",
       "    </tr>\n",
       "    <tr>\n",
       "      <th>1</th>\n",
       "      <td>43599</td>\n",
       "      <td>1</td>\n",
       "      <td>1307</td>\n",
       "      <td>348</td>\n",
       "      <td>66</td>\n",
       "      <td>CCs Nacho Cheese    175g</td>\n",
       "      <td>3</td>\n",
       "      <td>6.3</td>\n",
       "    </tr>\n",
       "    <tr>\n",
       "      <th>2</th>\n",
       "      <td>43605</td>\n",
       "      <td>1</td>\n",
       "      <td>1343</td>\n",
       "      <td>383</td>\n",
       "      <td>61</td>\n",
       "      <td>Smiths Crinkle Cut  Chips Chicken 170g</td>\n",
       "      <td>2</td>\n",
       "      <td>2.9</td>\n",
       "    </tr>\n",
       "    <tr>\n",
       "      <th>3</th>\n",
       "      <td>43329</td>\n",
       "      <td>2</td>\n",
       "      <td>2373</td>\n",
       "      <td>974</td>\n",
       "      <td>69</td>\n",
       "      <td>Smiths Chip Thinly  S/Cream&amp;Onion 175g</td>\n",
       "      <td>5</td>\n",
       "      <td>15.0</td>\n",
       "    </tr>\n",
       "    <tr>\n",
       "      <th>4</th>\n",
       "      <td>43330</td>\n",
       "      <td>2</td>\n",
       "      <td>2426</td>\n",
       "      <td>1038</td>\n",
       "      <td>108</td>\n",
       "      <td>Kettle Tortilla ChpsHny&amp;Jlpno Chili 150g</td>\n",
       "      <td>3</td>\n",
       "      <td>13.8</td>\n",
       "    </tr>\n",
       "    <tr>\n",
       "      <th>...</th>\n",
       "      <td>...</td>\n",
       "      <td>...</td>\n",
       "      <td>...</td>\n",
       "      <td>...</td>\n",
       "      <td>...</td>\n",
       "      <td>...</td>\n",
       "      <td>...</td>\n",
       "      <td>...</td>\n",
       "    </tr>\n",
       "    <tr>\n",
       "      <th>264831</th>\n",
       "      <td>43533</td>\n",
       "      <td>272</td>\n",
       "      <td>272319</td>\n",
       "      <td>270088</td>\n",
       "      <td>89</td>\n",
       "      <td>Kettle Sweet Chilli And Sour Cream 175g</td>\n",
       "      <td>2</td>\n",
       "      <td>10.8</td>\n",
       "    </tr>\n",
       "    <tr>\n",
       "      <th>264832</th>\n",
       "      <td>43325</td>\n",
       "      <td>272</td>\n",
       "      <td>272358</td>\n",
       "      <td>270154</td>\n",
       "      <td>74</td>\n",
       "      <td>Tostitos Splash Of  Lime 175g</td>\n",
       "      <td>1</td>\n",
       "      <td>4.4</td>\n",
       "    </tr>\n",
       "    <tr>\n",
       "      <th>264833</th>\n",
       "      <td>43410</td>\n",
       "      <td>272</td>\n",
       "      <td>272379</td>\n",
       "      <td>270187</td>\n",
       "      <td>51</td>\n",
       "      <td>Doritos Mexicana    170g</td>\n",
       "      <td>2</td>\n",
       "      <td>8.8</td>\n",
       "    </tr>\n",
       "    <tr>\n",
       "      <th>264834</th>\n",
       "      <td>43461</td>\n",
       "      <td>272</td>\n",
       "      <td>272379</td>\n",
       "      <td>270188</td>\n",
       "      <td>42</td>\n",
       "      <td>Doritos Corn Chip Mexican Jalapeno 150g</td>\n",
       "      <td>2</td>\n",
       "      <td>7.8</td>\n",
       "    </tr>\n",
       "    <tr>\n",
       "      <th>264835</th>\n",
       "      <td>43365</td>\n",
       "      <td>272</td>\n",
       "      <td>272380</td>\n",
       "      <td>270189</td>\n",
       "      <td>74</td>\n",
       "      <td>Tostitos Splash Of  Lime 175g</td>\n",
       "      <td>2</td>\n",
       "      <td>8.8</td>\n",
       "    </tr>\n",
       "  </tbody>\n",
       "</table>\n",
       "<p>264836 rows × 8 columns</p>\n",
       "</div>"
      ],
      "text/plain": [
       "         DATE  STORE_NBR  LYLTY_CARD_NBR  TXN_ID  PROD_NBR   \n",
       "0       43390          1            1000       1         5  \\\n",
       "1       43599          1            1307     348        66   \n",
       "2       43605          1            1343     383        61   \n",
       "3       43329          2            2373     974        69   \n",
       "4       43330          2            2426    1038       108   \n",
       "...       ...        ...             ...     ...       ...   \n",
       "264831  43533        272          272319  270088        89   \n",
       "264832  43325        272          272358  270154        74   \n",
       "264833  43410        272          272379  270187        51   \n",
       "264834  43461        272          272379  270188        42   \n",
       "264835  43365        272          272380  270189        74   \n",
       "\n",
       "                                       PROD_NAME  PROD_QTY  TOT_SALES  \n",
       "0         Natural Chip        Compny SeaSalt175g         2        6.0  \n",
       "1                       CCs Nacho Cheese    175g         3        6.3  \n",
       "2         Smiths Crinkle Cut  Chips Chicken 170g         2        2.9  \n",
       "3         Smiths Chip Thinly  S/Cream&Onion 175g         5       15.0  \n",
       "4       Kettle Tortilla ChpsHny&Jlpno Chili 150g         3       13.8  \n",
       "...                                          ...       ...        ...  \n",
       "264831   Kettle Sweet Chilli And Sour Cream 175g         2       10.8  \n",
       "264832             Tostitos Splash Of  Lime 175g         1        4.4  \n",
       "264833                  Doritos Mexicana    170g         2        8.8  \n",
       "264834   Doritos Corn Chip Mexican Jalapeno 150g         2        7.8  \n",
       "264835             Tostitos Splash Of  Lime 175g         2        8.8  \n",
       "\n",
       "[264836 rows x 8 columns]"
      ]
     },
     "execution_count": 11,
     "metadata": {},
     "output_type": "execute_result"
    }
   ],
   "source": [
    "transaction_data"
   ]
  },
  {
   "cell_type": "code",
   "execution_count": 24,
   "id": "557a1b9b",
   "metadata": {},
   "outputs": [
    {
     "data": {
      "text/plain": [
       "(264836, 8)"
      ]
     },
     "execution_count": 24,
     "metadata": {},
     "output_type": "execute_result"
    }
   ],
   "source": [
    "transaction_data.shape"
   ]
  },
  {
   "cell_type": "code",
   "execution_count": 36,
   "id": "db2d3f79",
   "metadata": {},
   "outputs": [
    {
     "name": "stdout",
     "output_type": "stream",
     "text": [
      "<class 'pandas.core.frame.DataFrame'>\n",
      "RangeIndex: 264836 entries, 0 to 264835\n",
      "Data columns (total 8 columns):\n",
      " #   Column          Non-Null Count   Dtype  \n",
      "---  ------          --------------   -----  \n",
      " 0   DATE            264836 non-null  int64  \n",
      " 1   STORE_NBR       264836 non-null  int64  \n",
      " 2   LYLTY_CARD_NBR  264836 non-null  int64  \n",
      " 3   TXN_ID          264836 non-null  int64  \n",
      " 4   PROD_NBR        264836 non-null  int64  \n",
      " 5   PROD_NAME       264836 non-null  object \n",
      " 6   PROD_QTY        264836 non-null  int64  \n",
      " 7   TOT_SALES       264836 non-null  float64\n",
      "dtypes: float64(1), int64(6), object(1)\n",
      "memory usage: 16.2+ MB\n"
     ]
    }
   ],
   "source": [
    "transaction_data.info()"
   ]
  },
  {
   "cell_type": "code",
   "execution_count": 16,
   "id": "53629c9d",
   "metadata": {},
   "outputs": [
    {
     "data": {
      "text/html": [
       "<div>\n",
       "<style scoped>\n",
       "    .dataframe tbody tr th:only-of-type {\n",
       "        vertical-align: middle;\n",
       "    }\n",
       "\n",
       "    .dataframe tbody tr th {\n",
       "        vertical-align: top;\n",
       "    }\n",
       "\n",
       "    .dataframe thead th {\n",
       "        text-align: right;\n",
       "    }\n",
       "</style>\n",
       "<table border=\"1\" class=\"dataframe\">\n",
       "  <thead>\n",
       "    <tr style=\"text-align: right;\">\n",
       "      <th></th>\n",
       "      <th>DATE</th>\n",
       "      <th>STORE_NBR</th>\n",
       "      <th>LYLTY_CARD_NBR</th>\n",
       "      <th>TXN_ID</th>\n",
       "      <th>PROD_NBR</th>\n",
       "      <th>PROD_QTY</th>\n",
       "      <th>TOT_SALES</th>\n",
       "    </tr>\n",
       "  </thead>\n",
       "  <tbody>\n",
       "    <tr>\n",
       "      <th>count</th>\n",
       "      <td>264836.000000</td>\n",
       "      <td>264836.00000</td>\n",
       "      <td>2.648360e+05</td>\n",
       "      <td>2.648360e+05</td>\n",
       "      <td>264836.000000</td>\n",
       "      <td>264836.000000</td>\n",
       "      <td>264836.000000</td>\n",
       "    </tr>\n",
       "    <tr>\n",
       "      <th>mean</th>\n",
       "      <td>43464.036260</td>\n",
       "      <td>135.08011</td>\n",
       "      <td>1.355495e+05</td>\n",
       "      <td>1.351583e+05</td>\n",
       "      <td>56.583157</td>\n",
       "      <td>1.907309</td>\n",
       "      <td>7.304200</td>\n",
       "    </tr>\n",
       "    <tr>\n",
       "      <th>std</th>\n",
       "      <td>105.389282</td>\n",
       "      <td>76.78418</td>\n",
       "      <td>8.057998e+04</td>\n",
       "      <td>7.813303e+04</td>\n",
       "      <td>32.826638</td>\n",
       "      <td>0.643654</td>\n",
       "      <td>3.083226</td>\n",
       "    </tr>\n",
       "    <tr>\n",
       "      <th>min</th>\n",
       "      <td>43282.000000</td>\n",
       "      <td>1.00000</td>\n",
       "      <td>1.000000e+03</td>\n",
       "      <td>1.000000e+00</td>\n",
       "      <td>1.000000</td>\n",
       "      <td>1.000000</td>\n",
       "      <td>1.500000</td>\n",
       "    </tr>\n",
       "    <tr>\n",
       "      <th>25%</th>\n",
       "      <td>43373.000000</td>\n",
       "      <td>70.00000</td>\n",
       "      <td>7.002100e+04</td>\n",
       "      <td>6.760150e+04</td>\n",
       "      <td>28.000000</td>\n",
       "      <td>2.000000</td>\n",
       "      <td>5.400000</td>\n",
       "    </tr>\n",
       "    <tr>\n",
       "      <th>50%</th>\n",
       "      <td>43464.000000</td>\n",
       "      <td>130.00000</td>\n",
       "      <td>1.303575e+05</td>\n",
       "      <td>1.351375e+05</td>\n",
       "      <td>56.000000</td>\n",
       "      <td>2.000000</td>\n",
       "      <td>7.400000</td>\n",
       "    </tr>\n",
       "    <tr>\n",
       "      <th>75%</th>\n",
       "      <td>43555.000000</td>\n",
       "      <td>203.00000</td>\n",
       "      <td>2.030942e+05</td>\n",
       "      <td>2.027012e+05</td>\n",
       "      <td>85.000000</td>\n",
       "      <td>2.000000</td>\n",
       "      <td>9.200000</td>\n",
       "    </tr>\n",
       "    <tr>\n",
       "      <th>max</th>\n",
       "      <td>43646.000000</td>\n",
       "      <td>272.00000</td>\n",
       "      <td>2.373711e+06</td>\n",
       "      <td>2.415841e+06</td>\n",
       "      <td>114.000000</td>\n",
       "      <td>200.000000</td>\n",
       "      <td>650.000000</td>\n",
       "    </tr>\n",
       "  </tbody>\n",
       "</table>\n",
       "</div>"
      ],
      "text/plain": [
       "                DATE     STORE_NBR  LYLTY_CARD_NBR        TXN_ID   \n",
       "count  264836.000000  264836.00000    2.648360e+05  2.648360e+05  \\\n",
       "mean    43464.036260     135.08011    1.355495e+05  1.351583e+05   \n",
       "std       105.389282      76.78418    8.057998e+04  7.813303e+04   \n",
       "min     43282.000000       1.00000    1.000000e+03  1.000000e+00   \n",
       "25%     43373.000000      70.00000    7.002100e+04  6.760150e+04   \n",
       "50%     43464.000000     130.00000    1.303575e+05  1.351375e+05   \n",
       "75%     43555.000000     203.00000    2.030942e+05  2.027012e+05   \n",
       "max     43646.000000     272.00000    2.373711e+06  2.415841e+06   \n",
       "\n",
       "            PROD_NBR       PROD_QTY      TOT_SALES  \n",
       "count  264836.000000  264836.000000  264836.000000  \n",
       "mean       56.583157       1.907309       7.304200  \n",
       "std        32.826638       0.643654       3.083226  \n",
       "min         1.000000       1.000000       1.500000  \n",
       "25%        28.000000       2.000000       5.400000  \n",
       "50%        56.000000       2.000000       7.400000  \n",
       "75%        85.000000       2.000000       9.200000  \n",
       "max       114.000000     200.000000     650.000000  "
      ]
     },
     "execution_count": 16,
     "metadata": {},
     "output_type": "execute_result"
    }
   ],
   "source": [
    "transaction_data.describe()"
   ]
  },
  {
   "cell_type": "code",
   "execution_count": 19,
   "id": "cb41e8f0",
   "metadata": {},
   "outputs": [
    {
     "data": {
      "text/html": [
       "<div>\n",
       "<style scoped>\n",
       "    .dataframe tbody tr th:only-of-type {\n",
       "        vertical-align: middle;\n",
       "    }\n",
       "\n",
       "    .dataframe tbody tr th {\n",
       "        vertical-align: top;\n",
       "    }\n",
       "\n",
       "    .dataframe thead th {\n",
       "        text-align: right;\n",
       "    }\n",
       "</style>\n",
       "<table border=\"1\" class=\"dataframe\">\n",
       "  <thead>\n",
       "    <tr style=\"text-align: right;\">\n",
       "      <th></th>\n",
       "      <th>DATE</th>\n",
       "      <th>STORE_NBR</th>\n",
       "      <th>LYLTY_CARD_NBR</th>\n",
       "      <th>TXN_ID</th>\n",
       "      <th>PROD_NBR</th>\n",
       "      <th>PROD_NAME</th>\n",
       "      <th>PROD_QTY</th>\n",
       "      <th>TOT_SALES</th>\n",
       "    </tr>\n",
       "  </thead>\n",
       "  <tbody>\n",
       "    <tr>\n",
       "      <th>0</th>\n",
       "      <td>False</td>\n",
       "      <td>False</td>\n",
       "      <td>False</td>\n",
       "      <td>False</td>\n",
       "      <td>False</td>\n",
       "      <td>False</td>\n",
       "      <td>False</td>\n",
       "      <td>False</td>\n",
       "    </tr>\n",
       "    <tr>\n",
       "      <th>1</th>\n",
       "      <td>False</td>\n",
       "      <td>False</td>\n",
       "      <td>False</td>\n",
       "      <td>False</td>\n",
       "      <td>False</td>\n",
       "      <td>False</td>\n",
       "      <td>False</td>\n",
       "      <td>False</td>\n",
       "    </tr>\n",
       "    <tr>\n",
       "      <th>2</th>\n",
       "      <td>False</td>\n",
       "      <td>False</td>\n",
       "      <td>False</td>\n",
       "      <td>False</td>\n",
       "      <td>False</td>\n",
       "      <td>False</td>\n",
       "      <td>False</td>\n",
       "      <td>False</td>\n",
       "    </tr>\n",
       "    <tr>\n",
       "      <th>3</th>\n",
       "      <td>False</td>\n",
       "      <td>False</td>\n",
       "      <td>False</td>\n",
       "      <td>False</td>\n",
       "      <td>False</td>\n",
       "      <td>False</td>\n",
       "      <td>False</td>\n",
       "      <td>False</td>\n",
       "    </tr>\n",
       "    <tr>\n",
       "      <th>4</th>\n",
       "      <td>False</td>\n",
       "      <td>False</td>\n",
       "      <td>False</td>\n",
       "      <td>False</td>\n",
       "      <td>False</td>\n",
       "      <td>False</td>\n",
       "      <td>False</td>\n",
       "      <td>False</td>\n",
       "    </tr>\n",
       "    <tr>\n",
       "      <th>...</th>\n",
       "      <td>...</td>\n",
       "      <td>...</td>\n",
       "      <td>...</td>\n",
       "      <td>...</td>\n",
       "      <td>...</td>\n",
       "      <td>...</td>\n",
       "      <td>...</td>\n",
       "      <td>...</td>\n",
       "    </tr>\n",
       "    <tr>\n",
       "      <th>264831</th>\n",
       "      <td>False</td>\n",
       "      <td>False</td>\n",
       "      <td>False</td>\n",
       "      <td>False</td>\n",
       "      <td>False</td>\n",
       "      <td>False</td>\n",
       "      <td>False</td>\n",
       "      <td>False</td>\n",
       "    </tr>\n",
       "    <tr>\n",
       "      <th>264832</th>\n",
       "      <td>False</td>\n",
       "      <td>False</td>\n",
       "      <td>False</td>\n",
       "      <td>False</td>\n",
       "      <td>False</td>\n",
       "      <td>False</td>\n",
       "      <td>False</td>\n",
       "      <td>False</td>\n",
       "    </tr>\n",
       "    <tr>\n",
       "      <th>264833</th>\n",
       "      <td>False</td>\n",
       "      <td>False</td>\n",
       "      <td>False</td>\n",
       "      <td>False</td>\n",
       "      <td>False</td>\n",
       "      <td>False</td>\n",
       "      <td>False</td>\n",
       "      <td>False</td>\n",
       "    </tr>\n",
       "    <tr>\n",
       "      <th>264834</th>\n",
       "      <td>False</td>\n",
       "      <td>False</td>\n",
       "      <td>False</td>\n",
       "      <td>False</td>\n",
       "      <td>False</td>\n",
       "      <td>False</td>\n",
       "      <td>False</td>\n",
       "      <td>False</td>\n",
       "    </tr>\n",
       "    <tr>\n",
       "      <th>264835</th>\n",
       "      <td>False</td>\n",
       "      <td>False</td>\n",
       "      <td>False</td>\n",
       "      <td>False</td>\n",
       "      <td>False</td>\n",
       "      <td>False</td>\n",
       "      <td>False</td>\n",
       "      <td>False</td>\n",
       "    </tr>\n",
       "  </tbody>\n",
       "</table>\n",
       "<p>264836 rows × 8 columns</p>\n",
       "</div>"
      ],
      "text/plain": [
       "         DATE  STORE_NBR  LYLTY_CARD_NBR  TXN_ID  PROD_NBR  PROD_NAME   \n",
       "0       False      False           False   False     False      False  \\\n",
       "1       False      False           False   False     False      False   \n",
       "2       False      False           False   False     False      False   \n",
       "3       False      False           False   False     False      False   \n",
       "4       False      False           False   False     False      False   \n",
       "...       ...        ...             ...     ...       ...        ...   \n",
       "264831  False      False           False   False     False      False   \n",
       "264832  False      False           False   False     False      False   \n",
       "264833  False      False           False   False     False      False   \n",
       "264834  False      False           False   False     False      False   \n",
       "264835  False      False           False   False     False      False   \n",
       "\n",
       "        PROD_QTY  TOT_SALES  \n",
       "0          False      False  \n",
       "1          False      False  \n",
       "2          False      False  \n",
       "3          False      False  \n",
       "4          False      False  \n",
       "...          ...        ...  \n",
       "264831     False      False  \n",
       "264832     False      False  \n",
       "264833     False      False  \n",
       "264834     False      False  \n",
       "264835     False      False  \n",
       "\n",
       "[264836 rows x 8 columns]"
      ]
     },
     "execution_count": 19,
     "metadata": {},
     "output_type": "execute_result"
    }
   ],
   "source": [
    "transaction_data.isna()"
   ]
  },
  {
   "cell_type": "code",
   "execution_count": 20,
   "id": "2b9a8bc3",
   "metadata": {},
   "outputs": [
    {
     "data": {
      "text/plain": [
       "DATE              False\n",
       "STORE_NBR         False\n",
       "LYLTY_CARD_NBR    False\n",
       "TXN_ID            False\n",
       "PROD_NBR          False\n",
       "PROD_NAME         False\n",
       "PROD_QTY          False\n",
       "TOT_SALES         False\n",
       "dtype: bool"
      ]
     },
     "execution_count": 20,
     "metadata": {},
     "output_type": "execute_result"
    }
   ],
   "source": [
    "transaction_data.isna().any()"
   ]
  },
  {
   "cell_type": "code",
   "execution_count": 21,
   "id": "4e1d65f5",
   "metadata": {},
   "outputs": [
    {
     "data": {
      "text/plain": [
       "DATE              0\n",
       "STORE_NBR         0\n",
       "LYLTY_CARD_NBR    0\n",
       "TXN_ID            0\n",
       "PROD_NBR          0\n",
       "PROD_NAME         0\n",
       "PROD_QTY          0\n",
       "TOT_SALES         0\n",
       "dtype: int64"
      ]
     },
     "execution_count": 21,
     "metadata": {},
     "output_type": "execute_result"
    }
   ],
   "source": [
    "transaction_data.isna().sum()"
   ]
  },
  {
   "cell_type": "code",
   "execution_count": 30,
   "id": "abf2f5a1",
   "metadata": {},
   "outputs": [
    {
     "data": {
      "text/html": [
       "<div>\n",
       "<style scoped>\n",
       "    .dataframe tbody tr th:only-of-type {\n",
       "        vertical-align: middle;\n",
       "    }\n",
       "\n",
       "    .dataframe tbody tr th {\n",
       "        vertical-align: top;\n",
       "    }\n",
       "\n",
       "    .dataframe thead th {\n",
       "        text-align: right;\n",
       "    }\n",
       "</style>\n",
       "<table border=\"1\" class=\"dataframe\">\n",
       "  <thead>\n",
       "    <tr style=\"text-align: right;\">\n",
       "      <th></th>\n",
       "      <th>DATE</th>\n",
       "      <th>STORE_NBR</th>\n",
       "      <th>LYLTY_CARD_NBR</th>\n",
       "      <th>TXN_ID</th>\n",
       "      <th>PROD_NBR</th>\n",
       "      <th>PROD_NAME</th>\n",
       "      <th>PROD_QTY</th>\n",
       "      <th>TOT_SALES</th>\n",
       "    </tr>\n",
       "  </thead>\n",
       "  <tbody>\n",
       "    <tr>\n",
       "      <th>0</th>\n",
       "      <td>43390</td>\n",
       "      <td>1</td>\n",
       "      <td>1000</td>\n",
       "      <td>1</td>\n",
       "      <td>5</td>\n",
       "      <td>Natural Chip        Compny SeaSalt175g</td>\n",
       "      <td>2</td>\n",
       "      <td>6.0</td>\n",
       "    </tr>\n",
       "    <tr>\n",
       "      <th>1</th>\n",
       "      <td>43599</td>\n",
       "      <td>1</td>\n",
       "      <td>1307</td>\n",
       "      <td>348</td>\n",
       "      <td>66</td>\n",
       "      <td>CCs Nacho Cheese    175g</td>\n",
       "      <td>3</td>\n",
       "      <td>6.3</td>\n",
       "    </tr>\n",
       "    <tr>\n",
       "      <th>2</th>\n",
       "      <td>43605</td>\n",
       "      <td>1</td>\n",
       "      <td>1343</td>\n",
       "      <td>383</td>\n",
       "      <td>61</td>\n",
       "      <td>Smiths Crinkle Cut  Chips Chicken 170g</td>\n",
       "      <td>2</td>\n",
       "      <td>2.9</td>\n",
       "    </tr>\n",
       "    <tr>\n",
       "      <th>3</th>\n",
       "      <td>43329</td>\n",
       "      <td>2</td>\n",
       "      <td>2373</td>\n",
       "      <td>974</td>\n",
       "      <td>69</td>\n",
       "      <td>Smiths Chip Thinly  S/Cream&amp;Onion 175g</td>\n",
       "      <td>5</td>\n",
       "      <td>15.0</td>\n",
       "    </tr>\n",
       "    <tr>\n",
       "      <th>4</th>\n",
       "      <td>43330</td>\n",
       "      <td>2</td>\n",
       "      <td>2426</td>\n",
       "      <td>1038</td>\n",
       "      <td>108</td>\n",
       "      <td>Kettle Tortilla ChpsHny&amp;Jlpno Chili 150g</td>\n",
       "      <td>3</td>\n",
       "      <td>13.8</td>\n",
       "    </tr>\n",
       "  </tbody>\n",
       "</table>\n",
       "</div>"
      ],
      "text/plain": [
       "    DATE  STORE_NBR  LYLTY_CARD_NBR  TXN_ID  PROD_NBR   \n",
       "0  43390          1            1000       1         5  \\\n",
       "1  43599          1            1307     348        66   \n",
       "2  43605          1            1343     383        61   \n",
       "3  43329          2            2373     974        69   \n",
       "4  43330          2            2426    1038       108   \n",
       "\n",
       "                                  PROD_NAME  PROD_QTY  TOT_SALES  \n",
       "0    Natural Chip        Compny SeaSalt175g         2        6.0  \n",
       "1                  CCs Nacho Cheese    175g         3        6.3  \n",
       "2    Smiths Crinkle Cut  Chips Chicken 170g         2        2.9  \n",
       "3    Smiths Chip Thinly  S/Cream&Onion 175g         5       15.0  \n",
       "4  Kettle Tortilla ChpsHny&Jlpno Chili 150g         3       13.8  "
      ]
     },
     "execution_count": 30,
     "metadata": {},
     "output_type": "execute_result"
    }
   ],
   "source": [
    "transaction_data.head()"
   ]
  },
  {
   "cell_type": "code",
   "execution_count": 134,
   "id": "5d799bc4",
   "metadata": {},
   "outputs": [
    {
     "data": {
      "text/html": [
       "<div>\n",
       "<style scoped>\n",
       "    .dataframe tbody tr th:only-of-type {\n",
       "        vertical-align: middle;\n",
       "    }\n",
       "\n",
       "    .dataframe tbody tr th {\n",
       "        vertical-align: top;\n",
       "    }\n",
       "\n",
       "    .dataframe thead th {\n",
       "        text-align: right;\n",
       "    }\n",
       "</style>\n",
       "<table border=\"1\" class=\"dataframe\">\n",
       "  <thead>\n",
       "    <tr style=\"text-align: right;\">\n",
       "      <th></th>\n",
       "      <th>STORE_NBR</th>\n",
       "      <th>LYLTY_CARD_NBR</th>\n",
       "      <th>TXN_ID</th>\n",
       "      <th>PROD_NBR</th>\n",
       "      <th>PROD_NAME</th>\n",
       "      <th>PROD_QTY</th>\n",
       "      <th>TOT_SALES</th>\n",
       "    </tr>\n",
       "    <tr>\n",
       "      <th>DATE</th>\n",
       "      <th></th>\n",
       "      <th></th>\n",
       "      <th></th>\n",
       "      <th></th>\n",
       "      <th></th>\n",
       "      <th></th>\n",
       "      <th></th>\n",
       "    </tr>\n",
       "  </thead>\n",
       "  <tbody>\n",
       "    <tr>\n",
       "      <th>43390</th>\n",
       "      <td>1</td>\n",
       "      <td>1000</td>\n",
       "      <td>1</td>\n",
       "      <td>5</td>\n",
       "      <td>Natural Chip        Compny SeaSalt175g</td>\n",
       "      <td>2</td>\n",
       "      <td>6.0</td>\n",
       "    </tr>\n",
       "    <tr>\n",
       "      <th>43599</th>\n",
       "      <td>1</td>\n",
       "      <td>1307</td>\n",
       "      <td>348</td>\n",
       "      <td>66</td>\n",
       "      <td>CCs Nacho Cheese    175g</td>\n",
       "      <td>3</td>\n",
       "      <td>6.3</td>\n",
       "    </tr>\n",
       "    <tr>\n",
       "      <th>43605</th>\n",
       "      <td>1</td>\n",
       "      <td>1343</td>\n",
       "      <td>383</td>\n",
       "      <td>61</td>\n",
       "      <td>Smiths Crinkle Cut  Chips Chicken 170g</td>\n",
       "      <td>2</td>\n",
       "      <td>2.9</td>\n",
       "    </tr>\n",
       "    <tr>\n",
       "      <th>43329</th>\n",
       "      <td>2</td>\n",
       "      <td>2373</td>\n",
       "      <td>974</td>\n",
       "      <td>69</td>\n",
       "      <td>Smiths Chip Thinly  S/Cream&amp;Onion 175g</td>\n",
       "      <td>5</td>\n",
       "      <td>15.0</td>\n",
       "    </tr>\n",
       "    <tr>\n",
       "      <th>43330</th>\n",
       "      <td>2</td>\n",
       "      <td>2426</td>\n",
       "      <td>1038</td>\n",
       "      <td>108</td>\n",
       "      <td>Kettle Tortilla ChpsHny&amp;Jlpno Chili 150g</td>\n",
       "      <td>3</td>\n",
       "      <td>13.8</td>\n",
       "    </tr>\n",
       "  </tbody>\n",
       "</table>\n",
       "</div>"
      ],
      "text/plain": [
       "       STORE_NBR  LYLTY_CARD_NBR  TXN_ID  PROD_NBR   \n",
       "DATE                                                 \n",
       "43390          1            1000       1         5  \\\n",
       "43599          1            1307     348        66   \n",
       "43605          1            1343     383        61   \n",
       "43329          2            2373     974        69   \n",
       "43330          2            2426    1038       108   \n",
       "\n",
       "                                      PROD_NAME  PROD_QTY  TOT_SALES  \n",
       "DATE                                                                  \n",
       "43390    Natural Chip        Compny SeaSalt175g         2        6.0  \n",
       "43599                  CCs Nacho Cheese    175g         3        6.3  \n",
       "43605    Smiths Crinkle Cut  Chips Chicken 170g         2        2.9  \n",
       "43329    Smiths Chip Thinly  S/Cream&Onion 175g         5       15.0  \n",
       "43330  Kettle Tortilla ChpsHny&Jlpno Chili 150g         3       13.8  "
      ]
     },
     "execution_count": 134,
     "metadata": {},
     "output_type": "execute_result"
    }
   ],
   "source": [
    "indexed_transactions = transaction_data.set_index('DATE')\n",
    "indexed_transactions.head()"
   ]
  },
  {
   "cell_type": "code",
   "execution_count": null,
   "id": "1a189e73",
   "metadata": {},
   "outputs": [],
   "source": []
  },
  {
   "cell_type": "code",
   "execution_count": 61,
   "id": "98dc3fdd",
   "metadata": {},
   "outputs": [],
   "source": [
    "duplicated_stores = store_sales.duplicated()"
   ]
  },
  {
   "cell_type": "code",
   "execution_count": 60,
   "id": "963881a4",
   "metadata": {},
   "outputs": [
    {
     "name": "stdout",
     "output_type": "stream",
     "text": [
      "<class 'pandas.core.series.Series'>\n",
      "Index: 264836 entries, 43390 to 43365\n",
      "Series name: None\n",
      "Non-Null Count   Dtype\n",
      "--------------   -----\n",
      "264836 non-null  bool \n",
      "dtypes: bool(1)\n",
      "memory usage: 2.3 MB\n"
     ]
    }
   ],
   "source": [
    "duplicated_stores.info()"
   ]
  },
  {
   "cell_type": "code",
   "execution_count": 62,
   "id": "a30b3cf9",
   "metadata": {},
   "outputs": [
    {
     "data": {
      "text/html": [
       "<div>\n",
       "<style scoped>\n",
       "    .dataframe tbody tr th:only-of-type {\n",
       "        vertical-align: middle;\n",
       "    }\n",
       "\n",
       "    .dataframe tbody tr th {\n",
       "        vertical-align: top;\n",
       "    }\n",
       "\n",
       "    .dataframe thead th {\n",
       "        text-align: right;\n",
       "    }\n",
       "</style>\n",
       "<table border=\"1\" class=\"dataframe\">\n",
       "  <thead>\n",
       "    <tr style=\"text-align: right;\">\n",
       "      <th></th>\n",
       "      <th>STORE_NBR</th>\n",
       "      <th>TOT_SALES</th>\n",
       "    </tr>\n",
       "    <tr>\n",
       "      <th>DATE</th>\n",
       "      <th></th>\n",
       "      <th></th>\n",
       "    </tr>\n",
       "  </thead>\n",
       "  <tbody>\n",
       "    <tr>\n",
       "      <th>43601</th>\n",
       "      <td>55</td>\n",
       "      <td>3.0</td>\n",
       "    </tr>\n",
       "    <tr>\n",
       "      <th>43604</th>\n",
       "      <td>119</td>\n",
       "      <td>5.4</td>\n",
       "    </tr>\n",
       "    <tr>\n",
       "      <th>43603</th>\n",
       "      <td>212</td>\n",
       "      <td>3.7</td>\n",
       "    </tr>\n",
       "    <tr>\n",
       "      <th>43543</th>\n",
       "      <td>1</td>\n",
       "      <td>2.9</td>\n",
       "    </tr>\n",
       "    <tr>\n",
       "      <th>43429</th>\n",
       "      <td>1</td>\n",
       "      <td>3.8</td>\n",
       "    </tr>\n",
       "    <tr>\n",
       "      <th>...</th>\n",
       "      <td>...</td>\n",
       "      <td>...</td>\n",
       "    </tr>\n",
       "    <tr>\n",
       "      <th>43533</th>\n",
       "      <td>272</td>\n",
       "      <td>10.8</td>\n",
       "    </tr>\n",
       "    <tr>\n",
       "      <th>43325</th>\n",
       "      <td>272</td>\n",
       "      <td>4.4</td>\n",
       "    </tr>\n",
       "    <tr>\n",
       "      <th>43410</th>\n",
       "      <td>272</td>\n",
       "      <td>8.8</td>\n",
       "    </tr>\n",
       "    <tr>\n",
       "      <th>43461</th>\n",
       "      <td>272</td>\n",
       "      <td>7.8</td>\n",
       "    </tr>\n",
       "    <tr>\n",
       "      <th>43365</th>\n",
       "      <td>272</td>\n",
       "      <td>8.8</td>\n",
       "    </tr>\n",
       "  </tbody>\n",
       "</table>\n",
       "<p>254705 rows × 2 columns</p>\n",
       "</div>"
      ],
      "text/plain": [
       "       STORE_NBR  TOT_SALES\n",
       "DATE                       \n",
       "43601         55        3.0\n",
       "43604        119        5.4\n",
       "43603        212        3.7\n",
       "43543          1        2.9\n",
       "43429          1        3.8\n",
       "...          ...        ...\n",
       "43533        272       10.8\n",
       "43325        272        4.4\n",
       "43410        272        8.8\n",
       "43461        272        7.8\n",
       "43365        272        8.8\n",
       "\n",
       "[254705 rows x 2 columns]"
      ]
     },
     "execution_count": 62,
     "metadata": {},
     "output_type": "execute_result"
    }
   ],
   "source": [
    "store_sales[duplicated_stores]"
   ]
  },
  {
   "cell_type": "code",
   "execution_count": 69,
   "id": "fbf6ae87",
   "metadata": {},
   "outputs": [
    {
     "data": {
      "text/plain": [
       "(10131, 2)"
      ]
     },
     "execution_count": 69,
     "metadata": {},
     "output_type": "execute_result"
    }
   ],
   "source": [
    "cleaned_store_data = store_sales.drop_duplicates()\n",
    "\n",
    "#when we check for the dataframe shape we realize that the duplicate values have been dropped.\n",
    "cleaned_store_data.sort_values('TOT_SALES', ascending=False).shape"
   ]
  },
  {
   "cell_type": "code",
   "execution_count": 87,
   "id": "7d8d3d2f",
   "metadata": {},
   "outputs": [
    {
     "data": {
      "text/html": [
       "<div>\n",
       "<style scoped>\n",
       "    .dataframe tbody tr th:only-of-type {\n",
       "        vertical-align: middle;\n",
       "    }\n",
       "\n",
       "    .dataframe tbody tr th {\n",
       "        vertical-align: top;\n",
       "    }\n",
       "\n",
       "    .dataframe thead th {\n",
       "        text-align: right;\n",
       "    }\n",
       "</style>\n",
       "<table border=\"1\" class=\"dataframe\">\n",
       "  <thead>\n",
       "    <tr style=\"text-align: right;\">\n",
       "      <th></th>\n",
       "      <th>STORE_NBR</th>\n",
       "      <th>TOT_SALES</th>\n",
       "    </tr>\n",
       "    <tr>\n",
       "      <th>DATE</th>\n",
       "      <th></th>\n",
       "      <th></th>\n",
       "    </tr>\n",
       "  </thead>\n",
       "  <tbody>\n",
       "    <tr>\n",
       "      <th>43331</th>\n",
       "      <td>226</td>\n",
       "      <td>650.0</td>\n",
       "    </tr>\n",
       "    <tr>\n",
       "      <th>43604</th>\n",
       "      <td>194</td>\n",
       "      <td>29.5</td>\n",
       "    </tr>\n",
       "    <tr>\n",
       "      <th>43599</th>\n",
       "      <td>190</td>\n",
       "      <td>29.5</td>\n",
       "    </tr>\n",
       "    <tr>\n",
       "      <th>43605</th>\n",
       "      <td>118</td>\n",
       "      <td>29.5</td>\n",
       "    </tr>\n",
       "    <tr>\n",
       "      <th>43327</th>\n",
       "      <td>94</td>\n",
       "      <td>29.5</td>\n",
       "    </tr>\n",
       "    <tr>\n",
       "      <th>...</th>\n",
       "      <td>...</td>\n",
       "      <td>...</td>\n",
       "    </tr>\n",
       "    <tr>\n",
       "      <th>43599</th>\n",
       "      <td>13</td>\n",
       "      <td>1.5</td>\n",
       "    </tr>\n",
       "    <tr>\n",
       "      <th>43590</th>\n",
       "      <td>9</td>\n",
       "      <td>1.5</td>\n",
       "    </tr>\n",
       "    <tr>\n",
       "      <th>43332</th>\n",
       "      <td>6</td>\n",
       "      <td>1.5</td>\n",
       "    </tr>\n",
       "    <tr>\n",
       "      <th>43474</th>\n",
       "      <td>2</td>\n",
       "      <td>1.5</td>\n",
       "    </tr>\n",
       "    <tr>\n",
       "      <th>43446</th>\n",
       "      <td>1</td>\n",
       "      <td>1.5</td>\n",
       "    </tr>\n",
       "  </tbody>\n",
       "</table>\n",
       "<p>10131 rows × 2 columns</p>\n",
       "</div>"
      ],
      "text/plain": [
       "       STORE_NBR  TOT_SALES\n",
       "DATE                       \n",
       "43331        226      650.0\n",
       "43604        194       29.5\n",
       "43599        190       29.5\n",
       "43605        118       29.5\n",
       "43327         94       29.5\n",
       "...          ...        ...\n",
       "43599         13        1.5\n",
       "43590          9        1.5\n",
       "43332          6        1.5\n",
       "43474          2        1.5\n",
       "43446          1        1.5\n",
       "\n",
       "[10131 rows x 2 columns]"
      ]
     },
     "execution_count": 87,
     "metadata": {},
     "output_type": "execute_result"
    }
   ],
   "source": [
    "transaction_data_dataFrame = cleaned_store_data.sort_values(['TOT_SALES', 'STORE_NBR'], ascending=False)\n",
    "transaction_data_dataFrame"
   ]
  },
  {
   "cell_type": "code",
   "execution_count": 101,
   "id": "da086e5d",
   "metadata": {},
   "outputs": [
    {
     "data": {
      "text/html": [
       "<div>\n",
       "<style scoped>\n",
       "    .dataframe tbody tr th:only-of-type {\n",
       "        vertical-align: middle;\n",
       "    }\n",
       "\n",
       "    .dataframe tbody tr th {\n",
       "        vertical-align: top;\n",
       "    }\n",
       "\n",
       "    .dataframe thead th {\n",
       "        text-align: right;\n",
       "    }\n",
       "</style>\n",
       "<table border=\"1\" class=\"dataframe\">\n",
       "  <thead>\n",
       "    <tr style=\"text-align: right;\">\n",
       "      <th></th>\n",
       "      <th>STORE_NBR</th>\n",
       "      <th>TOT_SALES</th>\n",
       "    </tr>\n",
       "  </thead>\n",
       "  <tbody>\n",
       "    <tr>\n",
       "      <th>count</th>\n",
       "      <td>10131.000000</td>\n",
       "      <td>10131.000000</td>\n",
       "    </tr>\n",
       "    <tr>\n",
       "      <th>mean</th>\n",
       "      <td>136.404402</td>\n",
       "      <td>7.033121</td>\n",
       "    </tr>\n",
       "    <tr>\n",
       "      <th>std</th>\n",
       "      <td>78.198822</td>\n",
       "      <td>7.754128</td>\n",
       "    </tr>\n",
       "    <tr>\n",
       "      <th>min</th>\n",
       "      <td>1.000000</td>\n",
       "      <td>1.500000</td>\n",
       "    </tr>\n",
       "    <tr>\n",
       "      <th>25%</th>\n",
       "      <td>69.000000</td>\n",
       "      <td>3.800000</td>\n",
       "    </tr>\n",
       "    <tr>\n",
       "      <th>50%</th>\n",
       "      <td>135.000000</td>\n",
       "      <td>5.800000</td>\n",
       "    </tr>\n",
       "    <tr>\n",
       "      <th>75%</th>\n",
       "      <td>203.000000</td>\n",
       "      <td>8.800000</td>\n",
       "    </tr>\n",
       "    <tr>\n",
       "      <th>max</th>\n",
       "      <td>272.000000</td>\n",
       "      <td>650.000000</td>\n",
       "    </tr>\n",
       "  </tbody>\n",
       "</table>\n",
       "</div>"
      ],
      "text/plain": [
       "          STORE_NBR     TOT_SALES\n",
       "count  10131.000000  10131.000000\n",
       "mean     136.404402      7.033121\n",
       "std       78.198822      7.754128\n",
       "min        1.000000      1.500000\n",
       "25%       69.000000      3.800000\n",
       "50%      135.000000      5.800000\n",
       "75%      203.000000      8.800000\n",
       "max      272.000000    650.000000"
      ]
     },
     "execution_count": 101,
     "metadata": {},
     "output_type": "execute_result"
    }
   ],
   "source": [
    "transaction_data_dataFrame.describe()"
   ]
  },
  {
   "cell_type": "code",
   "execution_count": 105,
   "id": "79ce8a01",
   "metadata": {},
   "outputs": [],
   "source": [
    "transaction_data_dataFrame['TOTAL_SALES'] = np.random.normal(7.033121, 7.754128, 10131)"
   ]
  },
  {
   "cell_type": "code",
   "execution_count": 86,
   "id": "0a6067ec",
   "metadata": {},
   "outputs": [
    {
     "data": {
      "image/png": "[encoded data removed]",
      "text/plain": [
       "<Figure size 640x480 with 1 Axes>"
      ]
     },
     "metadata": {},
     "output_type": "display_data"
    }
   ],
   "source": [
    "transaction_data_dataFrame.plot(x = \"STORE_NBR\", y = \"TOT_SALES\", kind = \"scatter\")\n",
    "plt.show()"
   ]
  },
  {
   "cell_type": "code",
   "execution_count": 115,
   "id": "bc883ed6",
   "metadata": {},
   "outputs": [
    {
     "data": {
      "text/html": [
       "<div>\n",
       "<style scoped>\n",
       "    .dataframe tbody tr th:only-of-type {\n",
       "        vertical-align: middle;\n",
       "    }\n",
       "\n",
       "    .dataframe tbody tr th {\n",
       "        vertical-align: top;\n",
       "    }\n",
       "\n",
       "    .dataframe thead th {\n",
       "        text-align: right;\n",
       "    }\n",
       "</style>\n",
       "<table border=\"1\" class=\"dataframe\">\n",
       "  <thead>\n",
       "    <tr style=\"text-align: right;\">\n",
       "      <th></th>\n",
       "      <th>PROD_QTY</th>\n",
       "      <th>STORE_NBR</th>\n",
       "    </tr>\n",
       "    <tr>\n",
       "      <th>PROD_NAME</th>\n",
       "      <th></th>\n",
       "      <th></th>\n",
       "    </tr>\n",
       "  </thead>\n",
       "  <tbody>\n",
       "    <tr>\n",
       "      <th>Dorito Corn Chp     Supreme 380g</th>\n",
       "      <td>200</td>\n",
       "      <td>226</td>\n",
       "    </tr>\n",
       "    <tr>\n",
       "      <th>Kettle Honey Soy    Chicken 175g</th>\n",
       "      <td>5</td>\n",
       "      <td>238</td>\n",
       "    </tr>\n",
       "    <tr>\n",
       "      <th>RRD Steak &amp;         Chimuchurri 150g</th>\n",
       "      <td>5</td>\n",
       "      <td>86</td>\n",
       "    </tr>\n",
       "    <tr>\n",
       "      <th>Smiths Chip Thinly  Cut Original 175g</th>\n",
       "      <td>5</td>\n",
       "      <td>212</td>\n",
       "    </tr>\n",
       "    <tr>\n",
       "      <th>Infuzions BBQ Rib   Prawn Crackers 110g</th>\n",
       "      <td>5</td>\n",
       "      <td>201</td>\n",
       "    </tr>\n",
       "    <tr>\n",
       "      <th>...</th>\n",
       "      <td>...</td>\n",
       "      <td>...</td>\n",
       "    </tr>\n",
       "    <tr>\n",
       "      <th>Cobs Popd Sour Crm  &amp;Chives Chips 110g</th>\n",
       "      <td>1</td>\n",
       "      <td>18</td>\n",
       "    </tr>\n",
       "    <tr>\n",
       "      <th>CCs Tasty Cheese    175g</th>\n",
       "      <td>1</td>\n",
       "      <td>18</td>\n",
       "    </tr>\n",
       "    <tr>\n",
       "      <th>Kettle Chilli 175g</th>\n",
       "      <td>1</td>\n",
       "      <td>3</td>\n",
       "    </tr>\n",
       "    <tr>\n",
       "      <th>Grain Waves Sour    Cream&amp;Chives 210G</th>\n",
       "      <td>1</td>\n",
       "      <td>18</td>\n",
       "    </tr>\n",
       "    <tr>\n",
       "      <th>Smiths Crinkle Cut  French OnionDip 150g</th>\n",
       "      <td>1</td>\n",
       "      <td>128</td>\n",
       "    </tr>\n",
       "  </tbody>\n",
       "</table>\n",
       "<p>263740 rows × 2 columns</p>\n",
       "</div>"
      ],
      "text/plain": [
       "                                          PROD_QTY  STORE_NBR\n",
       "PROD_NAME                                                    \n",
       "Dorito Corn Chp     Supreme 380g               200        226\n",
       "Kettle Honey Soy    Chicken 175g                 5        238\n",
       "RRD Steak &         Chimuchurri 150g             5         86\n",
       "Smiths Chip Thinly  Cut Original 175g            5        212\n",
       "Infuzions BBQ Rib   Prawn Crackers 110g          5        201\n",
       "...                                            ...        ...\n",
       "Cobs Popd Sour Crm  &Chives Chips 110g           1         18\n",
       "CCs Tasty Cheese    175g                         1         18\n",
       "Kettle Chilli 175g                               1          3\n",
       "Grain Waves Sour    Cream&Chives 210G            1         18\n",
       "Smiths Crinkle Cut  French OnionDip 150g         1        128\n",
       "\n",
       "[263740 rows x 2 columns]"
      ]
     },
     "execution_count": 115,
     "metadata": {},
     "output_type": "execute_result"
    }
   ],
   "source": [
    "popular_sales = transaction_data[['PROD_NAME', 'PROD_QTY', 'STORE_NBR']].set_index('PROD_NAME').sort_values('PROD_QTY', ascending=False)\n",
    "duplicated_product_sales = popular_sales.duplicated()\n",
    "popular_sales[duplicated_product_sales]"
   ]
  },
  {
   "cell_type": "code",
   "execution_count": 116,
   "id": "4b6340fd",
   "metadata": {},
   "outputs": [
    {
     "data": {
      "text/html": [
       "<div>\n",
       "<style scoped>\n",
       "    .dataframe tbody tr th:only-of-type {\n",
       "        vertical-align: middle;\n",
       "    }\n",
       "\n",
       "    .dataframe tbody tr th {\n",
       "        vertical-align: top;\n",
       "    }\n",
       "\n",
       "    .dataframe thead th {\n",
       "        text-align: right;\n",
       "    }\n",
       "</style>\n",
       "<table border=\"1\" class=\"dataframe\">\n",
       "  <thead>\n",
       "    <tr style=\"text-align: right;\">\n",
       "      <th></th>\n",
       "      <th>PROD_QTY</th>\n",
       "      <th>STORE_NBR</th>\n",
       "    </tr>\n",
       "    <tr>\n",
       "      <th>PROD_NAME</th>\n",
       "      <th></th>\n",
       "      <th></th>\n",
       "    </tr>\n",
       "  </thead>\n",
       "  <tbody>\n",
       "    <tr>\n",
       "      <th>Dorito Corn Chp     Supreme 380g</th>\n",
       "      <td>200</td>\n",
       "      <td>226</td>\n",
       "    </tr>\n",
       "    <tr>\n",
       "      <th>Pringles Sweet&amp;Spcy BBQ 134g</th>\n",
       "      <td>5</td>\n",
       "      <td>201</td>\n",
       "    </tr>\n",
       "    <tr>\n",
       "      <th>Pringles SourCream  Onion 134g</th>\n",
       "      <td>5</td>\n",
       "      <td>219</td>\n",
       "    </tr>\n",
       "    <tr>\n",
       "      <th>Infuzions BBQ Rib   Prawn Crackers 110g</th>\n",
       "      <td>5</td>\n",
       "      <td>261</td>\n",
       "    </tr>\n",
       "    <tr>\n",
       "      <th>Pringles Barbeque   134g</th>\n",
       "      <td>5</td>\n",
       "      <td>232</td>\n",
       "    </tr>\n",
       "    <tr>\n",
       "      <th>...</th>\n",
       "      <td>...</td>\n",
       "      <td>...</td>\n",
       "    </tr>\n",
       "    <tr>\n",
       "      <th>Pringles SourCream  Onion 134g</th>\n",
       "      <td>1</td>\n",
       "      <td>134</td>\n",
       "    </tr>\n",
       "    <tr>\n",
       "      <th>Kettle Tortilla ChpsBtroot&amp;Ricotta 150g</th>\n",
       "      <td>1</td>\n",
       "      <td>258</td>\n",
       "    </tr>\n",
       "    <tr>\n",
       "      <th>Pringles Mystery    Flavour 134g</th>\n",
       "      <td>1</td>\n",
       "      <td>193</td>\n",
       "    </tr>\n",
       "    <tr>\n",
       "      <th>Kettle Tortilla ChpsBtroot&amp;Ricotta 150g</th>\n",
       "      <td>1</td>\n",
       "      <td>206</td>\n",
       "    </tr>\n",
       "    <tr>\n",
       "      <th>Doritos Salsa       Medium 300g</th>\n",
       "      <td>1</td>\n",
       "      <td>211</td>\n",
       "    </tr>\n",
       "  </tbody>\n",
       "</table>\n",
       "<p>1096 rows × 2 columns</p>\n",
       "</div>"
      ],
      "text/plain": [
       "                                         PROD_QTY  STORE_NBR\n",
       "PROD_NAME                                                   \n",
       "Dorito Corn Chp     Supreme 380g              200        226\n",
       "Pringles Sweet&Spcy BBQ 134g                    5        201\n",
       "Pringles SourCream  Onion 134g                  5        219\n",
       "Infuzions BBQ Rib   Prawn Crackers 110g         5        261\n",
       "Pringles Barbeque   134g                        5        232\n",
       "...                                           ...        ...\n",
       "Pringles SourCream  Onion 134g                  1        134\n",
       "Kettle Tortilla ChpsBtroot&Ricotta 150g         1        258\n",
       "Pringles Mystery    Flavour 134g                1        193\n",
       "Kettle Tortilla ChpsBtroot&Ricotta 150g         1        206\n",
       "Doritos Salsa       Medium 300g                 1        211\n",
       "\n",
       "[1096 rows x 2 columns]"
      ]
     },
     "execution_count": 116,
     "metadata": {},
     "output_type": "execute_result"
    }
   ],
   "source": [
    "popular_sales.drop_duplicates()"
   ]
  },
  {
   "cell_type": "code",
   "execution_count": null,
   "id": "81211541",
   "metadata": {},
   "outputs": [],
   "source": [
    "#From the analysis above, we may conclude that store number 226 has the most number of sales\n",
    "#selling 200 units of Dorito Corn Chp Supreme 380g. Furthermore, we also see that the same store \n",
    "#generates the most revenue from the sales (650 respective units of income). "
   ]
  },
  {
   "cell_type": "code",
   "execution_count": 5,
   "id": "648bc6c0",
   "metadata": {},
   "outputs": [],
   "source": [
    "purchase_behaviour = pd.read_csv(r'/home/jeromemugita/Downloads/QVI_purchase_behaviour.csv')"
   ]
  },
  {
   "cell_type": "code",
   "execution_count": 80,
   "id": "73282f61",
   "metadata": {},
   "outputs": [
    {
     "data": {
      "text/html": [
       "<div>\n",
       "<style scoped>\n",
       "    .dataframe tbody tr th:only-of-type {\n",
       "        vertical-align: middle;\n",
       "    }\n",
       "\n",
       "    .dataframe tbody tr th {\n",
       "        vertical-align: top;\n",
       "    }\n",
       "\n",
       "    .dataframe thead th {\n",
       "        text-align: right;\n",
       "    }\n",
       "</style>\n",
       "<table border=\"1\" class=\"dataframe\">\n",
       "  <thead>\n",
       "    <tr style=\"text-align: right;\">\n",
       "      <th></th>\n",
       "      <th>LYLTY_CARD_NBR</th>\n",
       "      <th>LIFESTAGE</th>\n",
       "      <th>PREMIUM_CUSTOMER</th>\n",
       "    </tr>\n",
       "  </thead>\n",
       "  <tbody>\n",
       "    <tr>\n",
       "      <th>0</th>\n",
       "      <td>1000</td>\n",
       "      <td>YOUNG SINGLES/COUPLES</td>\n",
       "      <td>Premium</td>\n",
       "    </tr>\n",
       "    <tr>\n",
       "      <th>1</th>\n",
       "      <td>1002</td>\n",
       "      <td>YOUNG SINGLES/COUPLES</td>\n",
       "      <td>Mainstream</td>\n",
       "    </tr>\n",
       "    <tr>\n",
       "      <th>2</th>\n",
       "      <td>1003</td>\n",
       "      <td>YOUNG FAMILIES</td>\n",
       "      <td>Budget</td>\n",
       "    </tr>\n",
       "    <tr>\n",
       "      <th>3</th>\n",
       "      <td>1004</td>\n",
       "      <td>OLDER SINGLES/COUPLES</td>\n",
       "      <td>Mainstream</td>\n",
       "    </tr>\n",
       "    <tr>\n",
       "      <th>4</th>\n",
       "      <td>1005</td>\n",
       "      <td>MIDAGE SINGLES/COUPLES</td>\n",
       "      <td>Mainstream</td>\n",
       "    </tr>\n",
       "    <tr>\n",
       "      <th>...</th>\n",
       "      <td>...</td>\n",
       "      <td>...</td>\n",
       "      <td>...</td>\n",
       "    </tr>\n",
       "    <tr>\n",
       "      <th>72632</th>\n",
       "      <td>2370651</td>\n",
       "      <td>MIDAGE SINGLES/COUPLES</td>\n",
       "      <td>Mainstream</td>\n",
       "    </tr>\n",
       "    <tr>\n",
       "      <th>72633</th>\n",
       "      <td>2370701</td>\n",
       "      <td>YOUNG FAMILIES</td>\n",
       "      <td>Mainstream</td>\n",
       "    </tr>\n",
       "    <tr>\n",
       "      <th>72634</th>\n",
       "      <td>2370751</td>\n",
       "      <td>YOUNG FAMILIES</td>\n",
       "      <td>Premium</td>\n",
       "    </tr>\n",
       "    <tr>\n",
       "      <th>72635</th>\n",
       "      <td>2370961</td>\n",
       "      <td>OLDER FAMILIES</td>\n",
       "      <td>Budget</td>\n",
       "    </tr>\n",
       "    <tr>\n",
       "      <th>72636</th>\n",
       "      <td>2373711</td>\n",
       "      <td>YOUNG SINGLES/COUPLES</td>\n",
       "      <td>Mainstream</td>\n",
       "    </tr>\n",
       "  </tbody>\n",
       "</table>\n",
       "<p>72637 rows × 3 columns</p>\n",
       "</div>"
      ],
      "text/plain": [
       "       LYLTY_CARD_NBR               LIFESTAGE PREMIUM_CUSTOMER\n",
       "0                1000   YOUNG SINGLES/COUPLES          Premium\n",
       "1                1002   YOUNG SINGLES/COUPLES       Mainstream\n",
       "2                1003          YOUNG FAMILIES           Budget\n",
       "3                1004   OLDER SINGLES/COUPLES       Mainstream\n",
       "4                1005  MIDAGE SINGLES/COUPLES       Mainstream\n",
       "...               ...                     ...              ...\n",
       "72632         2370651  MIDAGE SINGLES/COUPLES       Mainstream\n",
       "72633         2370701          YOUNG FAMILIES       Mainstream\n",
       "72634         2370751          YOUNG FAMILIES          Premium\n",
       "72635         2370961          OLDER FAMILIES           Budget\n",
       "72636         2373711   YOUNG SINGLES/COUPLES       Mainstream\n",
       "\n",
       "[72637 rows x 3 columns]"
      ]
     },
     "execution_count": 80,
     "metadata": {},
     "output_type": "execute_result"
    }
   ],
   "source": [
    "purchase_behaviour"
   ]
  },
  {
   "cell_type": "code",
   "execution_count": 26,
   "id": "f5a09387",
   "metadata": {},
   "outputs": [
    {
     "data": {
      "text/plain": [
       "(72637, 3)"
      ]
     },
     "execution_count": 26,
     "metadata": {},
     "output_type": "execute_result"
    }
   ],
   "source": [
    "purchase_behaviour.shape"
   ]
  },
  {
   "cell_type": "code",
   "execution_count": 15,
   "id": "fdf28218",
   "metadata": {},
   "outputs": [
    {
     "data": {
      "text/html": [
       "<div>\n",
       "<style scoped>\n",
       "    .dataframe tbody tr th:only-of-type {\n",
       "        vertical-align: middle;\n",
       "    }\n",
       "\n",
       "    .dataframe tbody tr th {\n",
       "        vertical-align: top;\n",
       "    }\n",
       "\n",
       "    .dataframe thead th {\n",
       "        text-align: right;\n",
       "    }\n",
       "</style>\n",
       "<table border=\"1\" class=\"dataframe\">\n",
       "  <thead>\n",
       "    <tr style=\"text-align: right;\">\n",
       "      <th></th>\n",
       "      <th>LYLTY_CARD_NBR</th>\n",
       "    </tr>\n",
       "  </thead>\n",
       "  <tbody>\n",
       "    <tr>\n",
       "      <th>count</th>\n",
       "      <td>7.263700e+04</td>\n",
       "    </tr>\n",
       "    <tr>\n",
       "      <th>mean</th>\n",
       "      <td>1.361859e+05</td>\n",
       "    </tr>\n",
       "    <tr>\n",
       "      <th>std</th>\n",
       "      <td>8.989293e+04</td>\n",
       "    </tr>\n",
       "    <tr>\n",
       "      <th>min</th>\n",
       "      <td>1.000000e+03</td>\n",
       "    </tr>\n",
       "    <tr>\n",
       "      <th>25%</th>\n",
       "      <td>6.620200e+04</td>\n",
       "    </tr>\n",
       "    <tr>\n",
       "      <th>50%</th>\n",
       "      <td>1.340400e+05</td>\n",
       "    </tr>\n",
       "    <tr>\n",
       "      <th>75%</th>\n",
       "      <td>2.033750e+05</td>\n",
       "    </tr>\n",
       "    <tr>\n",
       "      <th>max</th>\n",
       "      <td>2.373711e+06</td>\n",
       "    </tr>\n",
       "  </tbody>\n",
       "</table>\n",
       "</div>"
      ],
      "text/plain": [
       "       LYLTY_CARD_NBR\n",
       "count    7.263700e+04\n",
       "mean     1.361859e+05\n",
       "std      8.989293e+04\n",
       "min      1.000000e+03\n",
       "25%      6.620200e+04\n",
       "50%      1.340400e+05\n",
       "75%      2.033750e+05\n",
       "max      2.373711e+06"
      ]
     },
     "execution_count": 15,
     "metadata": {},
     "output_type": "execute_result"
    }
   ],
   "source": [
    "purchase_behaviour.describe()"
   ]
  },
  {
   "cell_type": "code",
   "execution_count": 27,
   "id": "da2d26ab",
   "metadata": {},
   "outputs": [
    {
     "data": {
      "text/html": [
       "<div>\n",
       "<style scoped>\n",
       "    .dataframe tbody tr th:only-of-type {\n",
       "        vertical-align: middle;\n",
       "    }\n",
       "\n",
       "    .dataframe tbody tr th {\n",
       "        vertical-align: top;\n",
       "    }\n",
       "\n",
       "    .dataframe thead th {\n",
       "        text-align: right;\n",
       "    }\n",
       "</style>\n",
       "<table border=\"1\" class=\"dataframe\">\n",
       "  <thead>\n",
       "    <tr style=\"text-align: right;\">\n",
       "      <th></th>\n",
       "      <th>LYLTY_CARD_NBR</th>\n",
       "      <th>LIFESTAGE</th>\n",
       "      <th>PREMIUM_CUSTOMER</th>\n",
       "    </tr>\n",
       "  </thead>\n",
       "  <tbody>\n",
       "    <tr>\n",
       "      <th>0</th>\n",
       "      <td>False</td>\n",
       "      <td>False</td>\n",
       "      <td>False</td>\n",
       "    </tr>\n",
       "    <tr>\n",
       "      <th>1</th>\n",
       "      <td>False</td>\n",
       "      <td>False</td>\n",
       "      <td>False</td>\n",
       "    </tr>\n",
       "    <tr>\n",
       "      <th>2</th>\n",
       "      <td>False</td>\n",
       "      <td>False</td>\n",
       "      <td>False</td>\n",
       "    </tr>\n",
       "    <tr>\n",
       "      <th>3</th>\n",
       "      <td>False</td>\n",
       "      <td>False</td>\n",
       "      <td>False</td>\n",
       "    </tr>\n",
       "    <tr>\n",
       "      <th>4</th>\n",
       "      <td>False</td>\n",
       "      <td>False</td>\n",
       "      <td>False</td>\n",
       "    </tr>\n",
       "    <tr>\n",
       "      <th>...</th>\n",
       "      <td>...</td>\n",
       "      <td>...</td>\n",
       "      <td>...</td>\n",
       "    </tr>\n",
       "    <tr>\n",
       "      <th>72632</th>\n",
       "      <td>False</td>\n",
       "      <td>False</td>\n",
       "      <td>False</td>\n",
       "    </tr>\n",
       "    <tr>\n",
       "      <th>72633</th>\n",
       "      <td>False</td>\n",
       "      <td>False</td>\n",
       "      <td>False</td>\n",
       "    </tr>\n",
       "    <tr>\n",
       "      <th>72634</th>\n",
       "      <td>False</td>\n",
       "      <td>False</td>\n",
       "      <td>False</td>\n",
       "    </tr>\n",
       "    <tr>\n",
       "      <th>72635</th>\n",
       "      <td>False</td>\n",
       "      <td>False</td>\n",
       "      <td>False</td>\n",
       "    </tr>\n",
       "    <tr>\n",
       "      <th>72636</th>\n",
       "      <td>False</td>\n",
       "      <td>False</td>\n",
       "      <td>False</td>\n",
       "    </tr>\n",
       "  </tbody>\n",
       "</table>\n",
       "<p>72637 rows × 3 columns</p>\n",
       "</div>"
      ],
      "text/plain": [
       "       LYLTY_CARD_NBR  LIFESTAGE  PREMIUM_CUSTOMER\n",
       "0               False      False             False\n",
       "1               False      False             False\n",
       "2               False      False             False\n",
       "3               False      False             False\n",
       "4               False      False             False\n",
       "...               ...        ...               ...\n",
       "72632           False      False             False\n",
       "72633           False      False             False\n",
       "72634           False      False             False\n",
       "72635           False      False             False\n",
       "72636           False      False             False\n",
       "\n",
       "[72637 rows x 3 columns]"
      ]
     },
     "execution_count": 27,
     "metadata": {},
     "output_type": "execute_result"
    }
   ],
   "source": [
    "purchase_behaviour.isna()"
   ]
  },
  {
   "cell_type": "code",
   "execution_count": 28,
   "id": "e95725de",
   "metadata": {},
   "outputs": [
    {
     "data": {
      "text/plain": [
       "LYLTY_CARD_NBR      False\n",
       "LIFESTAGE           False\n",
       "PREMIUM_CUSTOMER    False\n",
       "dtype: bool"
      ]
     },
     "execution_count": 28,
     "metadata": {},
     "output_type": "execute_result"
    }
   ],
   "source": [
    "purchase_behaviour.isna().any()"
   ]
  },
  {
   "cell_type": "code",
   "execution_count": 29,
   "id": "b2c0be98",
   "metadata": {},
   "outputs": [
    {
     "data": {
      "text/plain": [
       "LYLTY_CARD_NBR      0\n",
       "LIFESTAGE           0\n",
       "PREMIUM_CUSTOMER    0\n",
       "dtype: int64"
      ]
     },
     "execution_count": 29,
     "metadata": {},
     "output_type": "execute_result"
    }
   ],
   "source": [
    "purchase_behaviour.isna().sum()"
   ]
  },
  {
   "cell_type": "code",
   "execution_count": 130,
   "id": "83fbaaef",
   "metadata": {},
   "outputs": [],
   "source": [
    "duplicated_purchases = purchase_behaviour.duplicated()"
   ]
  },
  {
   "cell_type": "code",
   "execution_count": 132,
   "id": "cf9c47f9",
   "metadata": {},
   "outputs": [
    {
     "data": {
      "text/plain": [
       "count     72637\n",
       "unique        1\n",
       "top       False\n",
       "freq      72637\n",
       "dtype: object"
      ]
     },
     "execution_count": 132,
     "metadata": {},
     "output_type": "execute_result"
    }
   ],
   "source": [
    "duplicated_purchases.describe()"
   ]
  },
  {
   "cell_type": "code",
   "execution_count": 138,
   "id": "2031834f",
   "metadata": {},
   "outputs": [
    {
     "data": {
      "text/html": [
       "<div>\n",
       "<style scoped>\n",
       "    .dataframe tbody tr th:only-of-type {\n",
       "        vertical-align: middle;\n",
       "    }\n",
       "\n",
       "    .dataframe tbody tr th {\n",
       "        vertical-align: top;\n",
       "    }\n",
       "\n",
       "    .dataframe thead th {\n",
       "        text-align: right;\n",
       "    }\n",
       "</style>\n",
       "<table border=\"1\" class=\"dataframe\">\n",
       "  <thead>\n",
       "    <tr style=\"text-align: right;\">\n",
       "      <th></th>\n",
       "      <th>LIFESTAGE</th>\n",
       "      <th>PREMIUM_CUSTOMER</th>\n",
       "    </tr>\n",
       "    <tr>\n",
       "      <th>LYLTY_CARD_NBR</th>\n",
       "      <th></th>\n",
       "      <th></th>\n",
       "    </tr>\n",
       "  </thead>\n",
       "  <tbody>\n",
       "    <tr>\n",
       "      <th>1000</th>\n",
       "      <td>YOUNG SINGLES/COUPLES</td>\n",
       "      <td>Premium</td>\n",
       "    </tr>\n",
       "    <tr>\n",
       "      <th>1002</th>\n",
       "      <td>YOUNG SINGLES/COUPLES</td>\n",
       "      <td>Mainstream</td>\n",
       "    </tr>\n",
       "    <tr>\n",
       "      <th>1003</th>\n",
       "      <td>YOUNG FAMILIES</td>\n",
       "      <td>Budget</td>\n",
       "    </tr>\n",
       "    <tr>\n",
       "      <th>1004</th>\n",
       "      <td>OLDER SINGLES/COUPLES</td>\n",
       "      <td>Mainstream</td>\n",
       "    </tr>\n",
       "    <tr>\n",
       "      <th>1005</th>\n",
       "      <td>MIDAGE SINGLES/COUPLES</td>\n",
       "      <td>Mainstream</td>\n",
       "    </tr>\n",
       "  </tbody>\n",
       "</table>\n",
       "</div>"
      ],
      "text/plain": [
       "                             LIFESTAGE PREMIUM_CUSTOMER\n",
       "LYLTY_CARD_NBR                                         \n",
       "1000             YOUNG SINGLES/COUPLES          Premium\n",
       "1002             YOUNG SINGLES/COUPLES       Mainstream\n",
       "1003                    YOUNG FAMILIES           Budget\n",
       "1004             OLDER SINGLES/COUPLES       Mainstream\n",
       "1005            MIDAGE SINGLES/COUPLES       Mainstream"
      ]
     },
     "execution_count": 138,
     "metadata": {},
     "output_type": "execute_result"
    }
   ],
   "source": [
    "indexed_purchases = purchase_behaviour.set_index('LYLTY_CARD_NBR')\n",
    "indexed_purchases.head()"
   ]
  },
  {
   "cell_type": "code",
   "execution_count": 149,
   "id": "edcdc000",
   "metadata": {},
   "outputs": [
    {
     "data": {
      "text/html": [
       "<div>\n",
       "<style scoped>\n",
       "    .dataframe tbody tr th:only-of-type {\n",
       "        vertical-align: middle;\n",
       "    }\n",
       "\n",
       "    .dataframe tbody tr th {\n",
       "        vertical-align: top;\n",
       "    }\n",
       "\n",
       "    .dataframe thead th {\n",
       "        text-align: right;\n",
       "    }\n",
       "</style>\n",
       "<table border=\"1\" class=\"dataframe\">\n",
       "  <thead>\n",
       "    <tr style=\"text-align: right;\">\n",
       "      <th></th>\n",
       "      <th>LYLTY_CARD_NBR</th>\n",
       "      <th>LIFESTAGE</th>\n",
       "      <th>PREMIUM_CUSTOMER</th>\n",
       "      <th>STORE_NBR</th>\n",
       "      <th>TXN_ID</th>\n",
       "      <th>PROD_NBR</th>\n",
       "      <th>PROD_NAME</th>\n",
       "      <th>PROD_QTY</th>\n",
       "      <th>TOT_SALES</th>\n",
       "    </tr>\n",
       "  </thead>\n",
       "  <tbody>\n",
       "    <tr>\n",
       "      <th>0</th>\n",
       "      <td>1000</td>\n",
       "      <td>YOUNG SINGLES/COUPLES</td>\n",
       "      <td>Premium</td>\n",
       "      <td>1</td>\n",
       "      <td>1</td>\n",
       "      <td>5</td>\n",
       "      <td>Natural Chip        Compny SeaSalt175g</td>\n",
       "      <td>2</td>\n",
       "      <td>6.0</td>\n",
       "    </tr>\n",
       "    <tr>\n",
       "      <th>1</th>\n",
       "      <td>1002</td>\n",
       "      <td>YOUNG SINGLES/COUPLES</td>\n",
       "      <td>Mainstream</td>\n",
       "      <td>1</td>\n",
       "      <td>2</td>\n",
       "      <td>58</td>\n",
       "      <td>Red Rock Deli Chikn&amp;Garlic Aioli 150g</td>\n",
       "      <td>1</td>\n",
       "      <td>2.7</td>\n",
       "    </tr>\n",
       "    <tr>\n",
       "      <th>2</th>\n",
       "      <td>1003</td>\n",
       "      <td>YOUNG FAMILIES</td>\n",
       "      <td>Budget</td>\n",
       "      <td>1</td>\n",
       "      <td>3</td>\n",
       "      <td>52</td>\n",
       "      <td>Grain Waves Sour    Cream&amp;Chives 210G</td>\n",
       "      <td>1</td>\n",
       "      <td>3.6</td>\n",
       "    </tr>\n",
       "    <tr>\n",
       "      <th>3</th>\n",
       "      <td>1003</td>\n",
       "      <td>YOUNG FAMILIES</td>\n",
       "      <td>Budget</td>\n",
       "      <td>1</td>\n",
       "      <td>4</td>\n",
       "      <td>106</td>\n",
       "      <td>Natural ChipCo      Hony Soy Chckn175g</td>\n",
       "      <td>1</td>\n",
       "      <td>3.0</td>\n",
       "    </tr>\n",
       "    <tr>\n",
       "      <th>4</th>\n",
       "      <td>1004</td>\n",
       "      <td>OLDER SINGLES/COUPLES</td>\n",
       "      <td>Mainstream</td>\n",
       "      <td>1</td>\n",
       "      <td>5</td>\n",
       "      <td>96</td>\n",
       "      <td>WW Original Stacked Chips 160g</td>\n",
       "      <td>1</td>\n",
       "      <td>1.9</td>\n",
       "    </tr>\n",
       "  </tbody>\n",
       "</table>\n",
       "</div>"
      ],
      "text/plain": [
       "   LYLTY_CARD_NBR              LIFESTAGE PREMIUM_CUSTOMER  STORE_NBR  TXN_ID   \n",
       "0            1000  YOUNG SINGLES/COUPLES          Premium          1       1  \\\n",
       "1            1002  YOUNG SINGLES/COUPLES       Mainstream          1       2   \n",
       "2            1003         YOUNG FAMILIES           Budget          1       3   \n",
       "3            1003         YOUNG FAMILIES           Budget          1       4   \n",
       "4            1004  OLDER SINGLES/COUPLES       Mainstream          1       5   \n",
       "\n",
       "   PROD_NBR                               PROD_NAME  PROD_QTY  TOT_SALES  \n",
       "0         5  Natural Chip        Compny SeaSalt175g         2        6.0  \n",
       "1        58   Red Rock Deli Chikn&Garlic Aioli 150g         1        2.7  \n",
       "2        52   Grain Waves Sour    Cream&Chives 210G         1        3.6  \n",
       "3       106  Natural ChipCo      Hony Soy Chckn175g         1        3.0  \n",
       "4        96          WW Original Stacked Chips 160g         1        1.9  "
      ]
     },
     "execution_count": 149,
     "metadata": {},
     "output_type": "execute_result"
    }
   ],
   "source": [
    "customer_insights = indexed_purchases.merge(indexed_transactions, on='LYLTY_CARD_NBR', how='left')\n",
    "customer_insights.head()"
   ]
  },
  {
   "cell_type": "code",
   "execution_count": 150,
   "id": "38f1f1bb",
   "metadata": {},
   "outputs": [
    {
     "data": {
      "text/html": [
       "<div>\n",
       "<style scoped>\n",
       "    .dataframe tbody tr th:only-of-type {\n",
       "        vertical-align: middle;\n",
       "    }\n",
       "\n",
       "    .dataframe tbody tr th {\n",
       "        vertical-align: top;\n",
       "    }\n",
       "\n",
       "    .dataframe thead th {\n",
       "        text-align: right;\n",
       "    }\n",
       "</style>\n",
       "<table border=\"1\" class=\"dataframe\">\n",
       "  <thead>\n",
       "    <tr style=\"text-align: right;\">\n",
       "      <th></th>\n",
       "      <th>LYLTY_CARD_NBR</th>\n",
       "      <th>LIFESTAGE</th>\n",
       "      <th>PREMIUM_CUSTOMER</th>\n",
       "      <th>STORE_NBR</th>\n",
       "      <th>TXN_ID</th>\n",
       "      <th>PROD_NBR</th>\n",
       "      <th>PROD_NAME</th>\n",
       "      <th>PROD_QTY</th>\n",
       "      <th>TOT_SALES</th>\n",
       "    </tr>\n",
       "  </thead>\n",
       "  <tbody>\n",
       "    <tr>\n",
       "      <th>221625</th>\n",
       "      <td>226000</td>\n",
       "      <td>OLDER FAMILIES</td>\n",
       "      <td>Premium</td>\n",
       "      <td>226</td>\n",
       "      <td>226201</td>\n",
       "      <td>4</td>\n",
       "      <td>Dorito Corn Chp     Supreme 380g</td>\n",
       "      <td>200</td>\n",
       "      <td>650.0</td>\n",
       "    </tr>\n",
       "    <tr>\n",
       "      <th>221626</th>\n",
       "      <td>226000</td>\n",
       "      <td>OLDER FAMILIES</td>\n",
       "      <td>Premium</td>\n",
       "      <td>226</td>\n",
       "      <td>226210</td>\n",
       "      <td>4</td>\n",
       "      <td>Dorito Corn Chp     Supreme 380g</td>\n",
       "      <td>200</td>\n",
       "      <td>650.0</td>\n",
       "    </tr>\n",
       "    <tr>\n",
       "      <th>39548</th>\n",
       "      <td>44350</td>\n",
       "      <td>YOUNG FAMILIES</td>\n",
       "      <td>Budget</td>\n",
       "      <td>44</td>\n",
       "      <td>40394</td>\n",
       "      <td>14</td>\n",
       "      <td>Smiths Crnkle Chip  Orgnl Big Bag 380g</td>\n",
       "      <td>5</td>\n",
       "      <td>29.5</td>\n",
       "    </tr>\n",
       "    <tr>\n",
       "      <th>187012</th>\n",
       "      <td>190113</td>\n",
       "      <td>OLDER FAMILIES</td>\n",
       "      <td>Mainstream</td>\n",
       "      <td>190</td>\n",
       "      <td>190914</td>\n",
       "      <td>14</td>\n",
       "      <td>Smiths Crnkle Chip  Orgnl Big Bag 380g</td>\n",
       "      <td>5</td>\n",
       "      <td>29.5</td>\n",
       "    </tr>\n",
       "    <tr>\n",
       "      <th>118381</th>\n",
       "      <td>118021</td>\n",
       "      <td>RETIREES</td>\n",
       "      <td>Mainstream</td>\n",
       "      <td>118</td>\n",
       "      <td>120799</td>\n",
       "      <td>14</td>\n",
       "      <td>Smiths Crnkle Chip  Orgnl Big Bag 380g</td>\n",
       "      <td>5</td>\n",
       "      <td>29.5</td>\n",
       "    </tr>\n",
       "    <tr>\n",
       "      <th>20349</th>\n",
       "      <td>24095</td>\n",
       "      <td>RETIREES</td>\n",
       "      <td>Premium</td>\n",
       "      <td>24</td>\n",
       "      <td>20797</td>\n",
       "      <td>14</td>\n",
       "      <td>Smiths Crnkle Chip  Orgnl Big Bag 380g</td>\n",
       "      <td>5</td>\n",
       "      <td>29.5</td>\n",
       "    </tr>\n",
       "    <tr>\n",
       "      <th>190554</th>\n",
       "      <td>194308</td>\n",
       "      <td>OLDER SINGLES/COUPLES</td>\n",
       "      <td>Premium</td>\n",
       "      <td>194</td>\n",
       "      <td>194516</td>\n",
       "      <td>14</td>\n",
       "      <td>Smiths Crnkle Chip  Orgnl Big Bag 380g</td>\n",
       "      <td>5</td>\n",
       "      <td>29.5</td>\n",
       "    </tr>\n",
       "    <tr>\n",
       "      <th>91451</th>\n",
       "      <td>94148</td>\n",
       "      <td>MIDAGE SINGLES/COUPLES</td>\n",
       "      <td>Mainstream</td>\n",
       "      <td>94</td>\n",
       "      <td>93390</td>\n",
       "      <td>14</td>\n",
       "      <td>Smiths Crnkle Chip  Orgnl Big Bag 380g</td>\n",
       "      <td>5</td>\n",
       "      <td>29.5</td>\n",
       "    </tr>\n",
       "    <tr>\n",
       "      <th>44849</th>\n",
       "      <td>49303</td>\n",
       "      <td>OLDER FAMILIES</td>\n",
       "      <td>Premium</td>\n",
       "      <td>49</td>\n",
       "      <td>45789</td>\n",
       "      <td>14</td>\n",
       "      <td>Smiths Crnkle Chip  Orgnl Big Bag 380g</td>\n",
       "      <td>5</td>\n",
       "      <td>29.5</td>\n",
       "    </tr>\n",
       "    <tr>\n",
       "      <th>217026</th>\n",
       "      <td>222005</td>\n",
       "      <td>YOUNG FAMILIES</td>\n",
       "      <td>Mainstream</td>\n",
       "      <td>222</td>\n",
       "      <td>221532</td>\n",
       "      <td>7</td>\n",
       "      <td>Smiths Crinkle      Original 330g</td>\n",
       "      <td>5</td>\n",
       "      <td>28.5</td>\n",
       "    </tr>\n",
       "    <tr>\n",
       "      <th>216848</th>\n",
       "      <td>221351</td>\n",
       "      <td>OLDER SINGLES/COUPLES</td>\n",
       "      <td>Premium</td>\n",
       "      <td>221</td>\n",
       "      <td>221349</td>\n",
       "      <td>23</td>\n",
       "      <td>Cheezels Cheese 330g</td>\n",
       "      <td>5</td>\n",
       "      <td>28.5</td>\n",
       "    </tr>\n",
       "    <tr>\n",
       "      <th>151151</th>\n",
       "      <td>154199</td>\n",
       "      <td>RETIREES</td>\n",
       "      <td>Budget</td>\n",
       "      <td>154</td>\n",
       "      <td>154279</td>\n",
       "      <td>20</td>\n",
       "      <td>Doritos Cheese      Supreme 330g</td>\n",
       "      <td>5</td>\n",
       "      <td>28.5</td>\n",
       "    </tr>\n",
       "    <tr>\n",
       "      <th>179406</th>\n",
       "      <td>181129</td>\n",
       "      <td>OLDER SINGLES/COUPLES</td>\n",
       "      <td>Budget</td>\n",
       "      <td>181</td>\n",
       "      <td>183109</td>\n",
       "      <td>23</td>\n",
       "      <td>Cheezels Cheese 330g</td>\n",
       "      <td>5</td>\n",
       "      <td>28.5</td>\n",
       "    </tr>\n",
       "    <tr>\n",
       "      <th>170708</th>\n",
       "      <td>172239</td>\n",
       "      <td>MIDAGE SINGLES/COUPLES</td>\n",
       "      <td>Premium</td>\n",
       "      <td>172</td>\n",
       "      <td>174254</td>\n",
       "      <td>7</td>\n",
       "      <td>Smiths Crinkle      Original 330g</td>\n",
       "      <td>5</td>\n",
       "      <td>28.5</td>\n",
       "    </tr>\n",
       "    <tr>\n",
       "      <th>242078</th>\n",
       "      <td>243345</td>\n",
       "      <td>OLDER SINGLES/COUPLES</td>\n",
       "      <td>Budget</td>\n",
       "      <td>243</td>\n",
       "      <td>247084</td>\n",
       "      <td>16</td>\n",
       "      <td>Smiths Crinkle Chips Salt &amp; Vinegar 330g</td>\n",
       "      <td>5</td>\n",
       "      <td>28.5</td>\n",
       "    </tr>\n",
       "  </tbody>\n",
       "</table>\n",
       "</div>"
      ],
      "text/plain": [
       "        LYLTY_CARD_NBR               LIFESTAGE PREMIUM_CUSTOMER  STORE_NBR   \n",
       "221625          226000          OLDER FAMILIES          Premium        226  \\\n",
       "221626          226000          OLDER FAMILIES          Premium        226   \n",
       "39548            44350          YOUNG FAMILIES           Budget         44   \n",
       "187012          190113          OLDER FAMILIES       Mainstream        190   \n",
       "118381          118021                RETIREES       Mainstream        118   \n",
       "20349            24095                RETIREES          Premium         24   \n",
       "190554          194308   OLDER SINGLES/COUPLES          Premium        194   \n",
       "91451            94148  MIDAGE SINGLES/COUPLES       Mainstream         94   \n",
       "44849            49303          OLDER FAMILIES          Premium         49   \n",
       "217026          222005          YOUNG FAMILIES       Mainstream        222   \n",
       "216848          221351   OLDER SINGLES/COUPLES          Premium        221   \n",
       "151151          154199                RETIREES           Budget        154   \n",
       "179406          181129   OLDER SINGLES/COUPLES           Budget        181   \n",
       "170708          172239  MIDAGE SINGLES/COUPLES          Premium        172   \n",
       "242078          243345   OLDER SINGLES/COUPLES           Budget        243   \n",
       "\n",
       "        TXN_ID  PROD_NBR                                 PROD_NAME  PROD_QTY   \n",
       "221625  226201         4          Dorito Corn Chp     Supreme 380g       200  \\\n",
       "221626  226210         4          Dorito Corn Chp     Supreme 380g       200   \n",
       "39548    40394        14    Smiths Crnkle Chip  Orgnl Big Bag 380g         5   \n",
       "187012  190914        14    Smiths Crnkle Chip  Orgnl Big Bag 380g         5   \n",
       "118381  120799        14    Smiths Crnkle Chip  Orgnl Big Bag 380g         5   \n",
       "20349    20797        14    Smiths Crnkle Chip  Orgnl Big Bag 380g         5   \n",
       "190554  194516        14    Smiths Crnkle Chip  Orgnl Big Bag 380g         5   \n",
       "91451    93390        14    Smiths Crnkle Chip  Orgnl Big Bag 380g         5   \n",
       "44849    45789        14    Smiths Crnkle Chip  Orgnl Big Bag 380g         5   \n",
       "217026  221532         7         Smiths Crinkle      Original 330g         5   \n",
       "216848  221349        23                      Cheezels Cheese 330g         5   \n",
       "151151  154279        20          Doritos Cheese      Supreme 330g         5   \n",
       "179406  183109        23                      Cheezels Cheese 330g         5   \n",
       "170708  174254         7         Smiths Crinkle      Original 330g         5   \n",
       "242078  247084        16  Smiths Crinkle Chips Salt & Vinegar 330g         5   \n",
       "\n",
       "        TOT_SALES  \n",
       "221625      650.0  \n",
       "221626      650.0  \n",
       "39548        29.5  \n",
       "187012       29.5  \n",
       "118381       29.5  \n",
       "20349        29.5  \n",
       "190554       29.5  \n",
       "91451        29.5  \n",
       "44849        29.5  \n",
       "217026       28.5  \n",
       "216848       28.5  \n",
       "151151       28.5  \n",
       "179406       28.5  \n",
       "170708       28.5  \n",
       "242078       28.5  "
      ]
     },
     "execution_count": 150,
     "metadata": {},
     "output_type": "execute_result"
    }
   ],
   "source": [
    "popular_customers = customer_insights.sort_values('TOT_SALES', ascending = False)\n",
    "popular_customers.head(15)"
   ]
  },
  {
   "cell_type": "code",
   "execution_count": 279,
   "id": "2dcf8f36",
   "metadata": {},
   "outputs": [
    {
     "data": {
      "text/html": [
       "<div>\n",
       "<style scoped>\n",
       "    .dataframe tbody tr th:only-of-type {\n",
       "        vertical-align: middle;\n",
       "    }\n",
       "\n",
       "    .dataframe tbody tr th {\n",
       "        vertical-align: top;\n",
       "    }\n",
       "\n",
       "    .dataframe thead th {\n",
       "        text-align: right;\n",
       "    }\n",
       "</style>\n",
       "<table border=\"1\" class=\"dataframe\">\n",
       "  <thead>\n",
       "    <tr style=\"text-align: right;\">\n",
       "      <th></th>\n",
       "      <th>LYLTY_CARD_NBR</th>\n",
       "      <th>LIFESTAGE</th>\n",
       "      <th>PREMIUM_CUSTOMER</th>\n",
       "      <th>STORE_NBR</th>\n",
       "      <th>TXN_ID</th>\n",
       "      <th>PROD_NBR</th>\n",
       "      <th>PROD_NAME</th>\n",
       "      <th>PROD_QTY</th>\n",
       "      <th>TOT_SALES</th>\n",
       "    </tr>\n",
       "  </thead>\n",
       "  <tbody>\n",
       "    <tr>\n",
       "      <th>221625</th>\n",
       "      <td>226000</td>\n",
       "      <td>OLDER FAMILIES</td>\n",
       "      <td>Premium</td>\n",
       "      <td>226</td>\n",
       "      <td>226201</td>\n",
       "      <td>4</td>\n",
       "      <td>Dorito Corn Chp     Supreme 380g</td>\n",
       "      <td>200</td>\n",
       "      <td>650.0</td>\n",
       "    </tr>\n",
       "    <tr>\n",
       "      <th>39548</th>\n",
       "      <td>44350</td>\n",
       "      <td>YOUNG FAMILIES</td>\n",
       "      <td>Budget</td>\n",
       "      <td>44</td>\n",
       "      <td>40394</td>\n",
       "      <td>14</td>\n",
       "      <td>Smiths Crnkle Chip  Orgnl Big Bag 380g</td>\n",
       "      <td>5</td>\n",
       "      <td>29.5</td>\n",
       "    </tr>\n",
       "    <tr>\n",
       "      <th>187012</th>\n",
       "      <td>190113</td>\n",
       "      <td>OLDER FAMILIES</td>\n",
       "      <td>Mainstream</td>\n",
       "      <td>190</td>\n",
       "      <td>190914</td>\n",
       "      <td>14</td>\n",
       "      <td>Smiths Crnkle Chip  Orgnl Big Bag 380g</td>\n",
       "      <td>5</td>\n",
       "      <td>29.5</td>\n",
       "    </tr>\n",
       "    <tr>\n",
       "      <th>118381</th>\n",
       "      <td>118021</td>\n",
       "      <td>RETIREES</td>\n",
       "      <td>Mainstream</td>\n",
       "      <td>118</td>\n",
       "      <td>120799</td>\n",
       "      <td>14</td>\n",
       "      <td>Smiths Crnkle Chip  Orgnl Big Bag 380g</td>\n",
       "      <td>5</td>\n",
       "      <td>29.5</td>\n",
       "    </tr>\n",
       "    <tr>\n",
       "      <th>20349</th>\n",
       "      <td>24095</td>\n",
       "      <td>RETIREES</td>\n",
       "      <td>Premium</td>\n",
       "      <td>24</td>\n",
       "      <td>20797</td>\n",
       "      <td>14</td>\n",
       "      <td>Smiths Crnkle Chip  Orgnl Big Bag 380g</td>\n",
       "      <td>5</td>\n",
       "      <td>29.5</td>\n",
       "    </tr>\n",
       "    <tr>\n",
       "      <th>190554</th>\n",
       "      <td>194308</td>\n",
       "      <td>OLDER SINGLES/COUPLES</td>\n",
       "      <td>Premium</td>\n",
       "      <td>194</td>\n",
       "      <td>194516</td>\n",
       "      <td>14</td>\n",
       "      <td>Smiths Crnkle Chip  Orgnl Big Bag 380g</td>\n",
       "      <td>5</td>\n",
       "      <td>29.5</td>\n",
       "    </tr>\n",
       "    <tr>\n",
       "      <th>91451</th>\n",
       "      <td>94148</td>\n",
       "      <td>MIDAGE SINGLES/COUPLES</td>\n",
       "      <td>Mainstream</td>\n",
       "      <td>94</td>\n",
       "      <td>93390</td>\n",
       "      <td>14</td>\n",
       "      <td>Smiths Crnkle Chip  Orgnl Big Bag 380g</td>\n",
       "      <td>5</td>\n",
       "      <td>29.5</td>\n",
       "    </tr>\n",
       "    <tr>\n",
       "      <th>44849</th>\n",
       "      <td>49303</td>\n",
       "      <td>OLDER FAMILIES</td>\n",
       "      <td>Premium</td>\n",
       "      <td>49</td>\n",
       "      <td>45789</td>\n",
       "      <td>14</td>\n",
       "      <td>Smiths Crnkle Chip  Orgnl Big Bag 380g</td>\n",
       "      <td>5</td>\n",
       "      <td>29.5</td>\n",
       "    </tr>\n",
       "    <tr>\n",
       "      <th>217026</th>\n",
       "      <td>222005</td>\n",
       "      <td>YOUNG FAMILIES</td>\n",
       "      <td>Mainstream</td>\n",
       "      <td>222</td>\n",
       "      <td>221532</td>\n",
       "      <td>7</td>\n",
       "      <td>Smiths Crinkle      Original 330g</td>\n",
       "      <td>5</td>\n",
       "      <td>28.5</td>\n",
       "    </tr>\n",
       "    <tr>\n",
       "      <th>216848</th>\n",
       "      <td>221351</td>\n",
       "      <td>OLDER SINGLES/COUPLES</td>\n",
       "      <td>Premium</td>\n",
       "      <td>221</td>\n",
       "      <td>221349</td>\n",
       "      <td>23</td>\n",
       "      <td>Cheezels Cheese 330g</td>\n",
       "      <td>5</td>\n",
       "      <td>28.5</td>\n",
       "    </tr>\n",
       "    <tr>\n",
       "      <th>151151</th>\n",
       "      <td>154199</td>\n",
       "      <td>RETIREES</td>\n",
       "      <td>Budget</td>\n",
       "      <td>154</td>\n",
       "      <td>154279</td>\n",
       "      <td>20</td>\n",
       "      <td>Doritos Cheese      Supreme 330g</td>\n",
       "      <td>5</td>\n",
       "      <td>28.5</td>\n",
       "    </tr>\n",
       "    <tr>\n",
       "      <th>179406</th>\n",
       "      <td>181129</td>\n",
       "      <td>OLDER SINGLES/COUPLES</td>\n",
       "      <td>Budget</td>\n",
       "      <td>181</td>\n",
       "      <td>183109</td>\n",
       "      <td>23</td>\n",
       "      <td>Cheezels Cheese 330g</td>\n",
       "      <td>5</td>\n",
       "      <td>28.5</td>\n",
       "    </tr>\n",
       "    <tr>\n",
       "      <th>170708</th>\n",
       "      <td>172239</td>\n",
       "      <td>MIDAGE SINGLES/COUPLES</td>\n",
       "      <td>Premium</td>\n",
       "      <td>172</td>\n",
       "      <td>174254</td>\n",
       "      <td>7</td>\n",
       "      <td>Smiths Crinkle      Original 330g</td>\n",
       "      <td>5</td>\n",
       "      <td>28.5</td>\n",
       "    </tr>\n",
       "    <tr>\n",
       "      <th>242078</th>\n",
       "      <td>243345</td>\n",
       "      <td>OLDER SINGLES/COUPLES</td>\n",
       "      <td>Budget</td>\n",
       "      <td>243</td>\n",
       "      <td>247084</td>\n",
       "      <td>16</td>\n",
       "      <td>Smiths Crinkle Chips Salt &amp; Vinegar 330g</td>\n",
       "      <td>5</td>\n",
       "      <td>28.5</td>\n",
       "    </tr>\n",
       "    <tr>\n",
       "      <th>98610</th>\n",
       "      <td>101110</td>\n",
       "      <td>RETIREES</td>\n",
       "      <td>Budget</td>\n",
       "      <td>101</td>\n",
       "      <td>100677</td>\n",
       "      <td>16</td>\n",
       "      <td>Smiths Crinkle Chips Salt &amp; Vinegar 330g</td>\n",
       "      <td>5</td>\n",
       "      <td>28.5</td>\n",
       "    </tr>\n",
       "  </tbody>\n",
       "</table>\n",
       "</div>"
      ],
      "text/plain": [
       "        LYLTY_CARD_NBR               LIFESTAGE PREMIUM_CUSTOMER  STORE_NBR   \n",
       "221625          226000          OLDER FAMILIES          Premium        226  \\\n",
       "39548            44350          YOUNG FAMILIES           Budget         44   \n",
       "187012          190113          OLDER FAMILIES       Mainstream        190   \n",
       "118381          118021                RETIREES       Mainstream        118   \n",
       "20349            24095                RETIREES          Premium         24   \n",
       "190554          194308   OLDER SINGLES/COUPLES          Premium        194   \n",
       "91451            94148  MIDAGE SINGLES/COUPLES       Mainstream         94   \n",
       "44849            49303          OLDER FAMILIES          Premium         49   \n",
       "217026          222005          YOUNG FAMILIES       Mainstream        222   \n",
       "216848          221351   OLDER SINGLES/COUPLES          Premium        221   \n",
       "151151          154199                RETIREES           Budget        154   \n",
       "179406          181129   OLDER SINGLES/COUPLES           Budget        181   \n",
       "170708          172239  MIDAGE SINGLES/COUPLES          Premium        172   \n",
       "242078          243345   OLDER SINGLES/COUPLES           Budget        243   \n",
       "98610           101110                RETIREES           Budget        101   \n",
       "\n",
       "        TXN_ID  PROD_NBR                                 PROD_NAME  PROD_QTY   \n",
       "221625  226201         4          Dorito Corn Chp     Supreme 380g       200  \\\n",
       "39548    40394        14    Smiths Crnkle Chip  Orgnl Big Bag 380g         5   \n",
       "187012  190914        14    Smiths Crnkle Chip  Orgnl Big Bag 380g         5   \n",
       "118381  120799        14    Smiths Crnkle Chip  Orgnl Big Bag 380g         5   \n",
       "20349    20797        14    Smiths Crnkle Chip  Orgnl Big Bag 380g         5   \n",
       "190554  194516        14    Smiths Crnkle Chip  Orgnl Big Bag 380g         5   \n",
       "91451    93390        14    Smiths Crnkle Chip  Orgnl Big Bag 380g         5   \n",
       "44849    45789        14    Smiths Crnkle Chip  Orgnl Big Bag 380g         5   \n",
       "217026  221532         7         Smiths Crinkle      Original 330g         5   \n",
       "216848  221349        23                      Cheezels Cheese 330g         5   \n",
       "151151  154279        20          Doritos Cheese      Supreme 330g         5   \n",
       "179406  183109        23                      Cheezels Cheese 330g         5   \n",
       "170708  174254         7         Smiths Crinkle      Original 330g         5   \n",
       "242078  247084        16  Smiths Crinkle Chips Salt & Vinegar 330g         5   \n",
       "98610   100677        16  Smiths Crinkle Chips Salt & Vinegar 330g         5   \n",
       "\n",
       "        TOT_SALES  \n",
       "221625      650.0  \n",
       "39548        29.5  \n",
       "187012       29.5  \n",
       "118381       29.5  \n",
       "20349        29.5  \n",
       "190554       29.5  \n",
       "91451        29.5  \n",
       "44849        29.5  \n",
       "217026       28.5  \n",
       "216848       28.5  \n",
       "151151       28.5  \n",
       "179406       28.5  \n",
       "170708       28.5  \n",
       "242078       28.5  \n",
       "98610        28.5  "
      ]
     },
     "execution_count": 279,
     "metadata": {},
     "output_type": "execute_result"
    }
   ],
   "source": [
    "transaction_purchases = popular_customers.drop_duplicates(subset='LYLTY_CARD_NBR')\n",
    "transaction_purchases.head(15)"
   ]
  },
  {
   "cell_type": "code",
   "execution_count": 211,
   "id": "0f1b7422",
   "metadata": {},
   "outputs": [
    {
     "data": {
      "text/plain": [
       "221625            OLDER FAMILIES\n",
       "39548             YOUNG FAMILIES\n",
       "118381                  RETIREES\n",
       "190554     OLDER SINGLES/COUPLES\n",
       "91451     MIDAGE SINGLES/COUPLES\n",
       "55823      YOUNG SINGLES/COUPLES\n",
       "45049               NEW FAMILIES\n",
       "Name: LIFESTAGE, dtype: object"
      ]
     },
     "execution_count": 211,
     "metadata": {},
     "output_type": "execute_result"
    }
   ],
   "source": [
    "#displays all life-stage values for the dataset\n",
    "transaction_purchases['LIFESTAGE'].drop_duplicates()"
   ]
  },
  {
   "cell_type": "code",
   "execution_count": 223,
   "id": "bb5e3078",
   "metadata": {},
   "outputs": [
    {
     "data": {
      "text/plain": [
       "114"
      ]
     },
     "execution_count": 223,
     "metadata": {},
     "output_type": "execute_result"
    }
   ],
   "source": [
    "transaction_purchases['PROD_NAME'].drop_duplicates().count()\n",
    "#there are 114 different chips flavors "
   ]
  },
  {
   "cell_type": "code",
   "execution_count": 226,
   "id": "8b81929f",
   "metadata": {},
   "outputs": [
    {
     "data": {
      "text/plain": [
       "221625            Dorito Corn Chp     Supreme 380g\n",
       "39548       Smiths Crnkle Chip  Orgnl Big Bag 380g\n",
       "217026           Smiths Crinkle      Original 330g\n",
       "216848                        Cheezels Cheese 330g\n",
       "151151            Doritos Cheese      Supreme 330g\n",
       "242078    Smiths Crinkle Chips Salt & Vinegar 330g\n",
       "93558                         Kettle Original 175g\n",
       "159808     Kettle Sweet Chilli And Sour Cream 175g\n",
       "148284      Kettle Mozzarella   Basil & Pesto 175g\n",
       "152140            Kettle Honey Soy    Chicken 175g\n",
       "241059        Kettle Sea Salt     And Vinegar 175g\n",
       "160911                          Kettle Chilli 175g\n",
       "140816     Old El Paso Salsa   Dip Tomato Med 300g\n",
       "88452     Old El Paso Salsa   Dip Tomato Mild 300g\n",
       "241887    Old El Paso Salsa   Dip Chnky Tom Ht300g\n",
       "260201     Kettle Tortilla ChpsBtroot&Ricotta 150g\n",
       "79384     Kettle Sensations   Camembert & Fig 150g\n",
       "232040    Kettle Tortilla ChpsHny&Jlpno Chili 150g\n",
       "97052                         Twisties Chicken270g\n",
       "107566                    Twisties Cheese     270g\n",
       "Name: PROD_NAME, dtype: object"
      ]
     },
     "execution_count": 226,
     "metadata": {},
     "output_type": "execute_result"
    }
   ],
   "source": [
    "transaction_purchases['PROD_NAME'].drop_duplicates().head(20)"
   ]
  },
  {
   "cell_type": "code",
   "execution_count": 361,
   "id": "1a2f6f8a",
   "metadata": {},
   "outputs": [
    {
     "data": {
      "text/plain": [
       "LIFESTAGE\n",
       "RETIREES                  14805\n",
       "OLDER SINGLES/COUPLES     14609\n",
       "YOUNG SINGLES/COUPLES     14441\n",
       "OLDER FAMILIES             9780\n",
       "YOUNG FAMILIES             9178\n",
       "MIDAGE SINGLES/COUPLES     7275\n",
       "NEW FAMILIES               2549\n",
       "Name: count, dtype: int64"
      ]
     },
     "execution_count": 361,
     "metadata": {},
     "output_type": "execute_result"
    }
   ],
   "source": [
    "#finding the most popular customer group per life stage\n",
    "transaction_purchases['LIFESTAGE'].value_counts()"
   ]
  },
  {
   "cell_type": "code",
   "execution_count": 368,
   "id": "2bca8dec",
   "metadata": {},
   "outputs": [
    {
     "data": {
      "text/plain": [
       "count        7.000000\n",
       "mean     10376.714286\n",
       "std       4595.778886\n",
       "min       2549.000000\n",
       "25%       8226.500000\n",
       "50%       9780.000000\n",
       "75%      14525.000000\n",
       "max      14805.000000\n",
       "Name: count, dtype: float64"
      ]
     },
     "execution_count": 368,
     "metadata": {},
     "output_type": "execute_result"
    }
   ],
   "source": [
    "transaction_purchases['LIFESTAGE'].value_counts().describe()"
   ]
  },
  {
   "cell_type": "code",
   "execution_count": 387,
   "id": "023b2a6d",
   "metadata": {},
   "outputs": [
    {
     "data": {
      "text/plain": [
       "LIFESTAGE\n",
       "MIDAGE SINGLES/COUPLES     63696.30\n",
       "NEW FAMILIES               21191.45\n",
       "OLDER FAMILIES             91826.05\n",
       "OLDER SINGLES/COUPLES     131321.25\n",
       "RETIREES                  129945.35\n",
       "YOUNG FAMILIES             84522.35\n",
       "YOUNG SINGLES/COUPLES     116469.75\n",
       "Name: TOT_SALES, dtype: float64"
      ]
     },
     "execution_count": 387,
     "metadata": {},
     "output_type": "execute_result"
    }
   ],
   "source": [
    "#To find the highest spending customer group:\n",
    "highest_spending_group = transaction_purchases.groupby('LIFESTAGE')['TOT_SALES'].sum()\n",
    "highest_spending_group"
   ]
  },
  {
   "cell_type": "code",
   "execution_count": null,
   "id": "13f7ce24",
   "metadata": {},
   "outputs": [],
   "source": [
    "#We find that the highest spending group comprises of older single or couple customers. Furthermore, we realize\n",
    "# that senior citizens are the biggest spenders seeing that the retirees, older couples and families spend more \n",
    "# the store items. It is interesting that also young single or couple customers also spend quite a lot on the \n",
    "# chips. The least spending groups appear as the new families, mid-age couples and young families. I'd argue that \n",
    "# this is the least favourable target group because they prioritize other products because of the life stage. "
   ]
  },
  {
   "cell_type": "code",
   "execution_count": 385,
   "id": "bfb26aec",
   "metadata": {},
   "outputs": [
    {
     "data": {
      "text/plain": [
       "<Axes: xlabel='LIFESTAGE'>"
      ]
     },
     "execution_count": 385,
     "metadata": {},
     "output_type": "execute_result"
    },
    {
     "data": {
      "image/png": "[encoded data removed]",
      "text/plain": [
       "<Figure size 640x480 with 1 Axes>"
      ]
     },
     "metadata": {},
     "output_type": "display_data"
    }
   ],
   "source": [
    "# The plot below symbolizes the highest spending customer groups\n",
    "highest_spending_group.plot(kind = 'bar')"
   ]
  },
  {
   "cell_type": "code",
   "execution_count": 367,
   "id": "4ad5148e",
   "metadata": {},
   "outputs": [
    {
     "data": {
      "image/png": "[encoded data removed]",
      "text/plain": [
       "<Figure size 640x480 with 1 Axes>"
      ]
     },
     "metadata": {},
     "output_type": "display_data"
    }
   ],
   "source": [
    "#this visualization shows the distribution of customers in each life stage\n",
    "popular_customers = transaction_purchases['LIFESTAGE'].value_counts()\n",
    "popular_customers.plot(kind='bar')\n",
    "plt.show()"
   ]
  },
  {
   "cell_type": "code",
   "execution_count": null,
   "id": "b666aa80",
   "metadata": {},
   "outputs": [],
   "source": []
  },
  {
   "cell_type": "code",
   "execution_count": 353,
   "id": "738e4c66",
   "metadata": {},
   "outputs": [],
   "source": [
    "#Here we are trying to identify which subscription type goes with old families\n",
    "older_families = transaction_purchases[(transaction_purchases[\"LIFESTAGE\"] == 'OLDER FAMILIES')]\n",
    "older_families_premium = transaction_purchases[(transaction_purchases[\"LIFESTAGE\"] == 'OLDER FAMILIES') & (transaction_purchases[\"PREMIUM_CUSTOMER\"] == 'Premium')]\n",
    "older_families_budget = transaction_purchases[(transaction_purchases[\"LIFESTAGE\"] == 'OLDER FAMILIES') & (transaction_purchases[\"PREMIUM_CUSTOMER\"] == 'Budget')]\n",
    "older_families_main_stream = transaction_purchases[(transaction_purchases[\"LIFESTAGE\"] == 'OLDER FAMILIES') & (transaction_purchases[\"PREMIUM_CUSTOMER\"] == 'Mainstream')]"
   ]
  },
  {
   "cell_type": "code",
   "execution_count": 296,
   "id": "0c44aaba",
   "metadata": {},
   "outputs": [],
   "source": [
    "#The subsets below represent the shapes of categories(premium, budget, mainstream) for older families, \n",
    "#there are 2274 old premium customers, 4675 old budget customers & 2831 old mainstream customers.\n",
    "#A total of 9780 older family customers. "
   ]
  },
  {
   "cell_type": "code",
   "execution_count": 302,
   "id": "22def64d",
   "metadata": {},
   "outputs": [
    {
     "data": {
      "text/plain": [
       "(2274, 9)"
      ]
     },
     "execution_count": 302,
     "metadata": {},
     "output_type": "execute_result"
    }
   ],
   "source": [
    "older_families_premium.shape"
   ]
  },
  {
   "cell_type": "code",
   "execution_count": 298,
   "id": "f37c2a1c",
   "metadata": {},
   "outputs": [
    {
     "data": {
      "text/plain": [
       "(4675, 9)"
      ]
     },
     "execution_count": 298,
     "metadata": {},
     "output_type": "execute_result"
    }
   ],
   "source": [
    "older_families_budget.shape"
   ]
  },
  {
   "cell_type": "code",
   "execution_count": 299,
   "id": "996fe6be",
   "metadata": {},
   "outputs": [
    {
     "data": {
      "text/plain": [
       "(2831, 9)"
      ]
     },
     "execution_count": 299,
     "metadata": {},
     "output_type": "execute_result"
    }
   ],
   "source": [
    "older_families_main_stream.shape"
   ]
  },
  {
   "cell_type": "code",
   "execution_count": 303,
   "id": "eebb9381",
   "metadata": {},
   "outputs": [
    {
     "data": {
      "text/plain": [
       "9780"
      ]
     },
     "execution_count": 303,
     "metadata": {},
     "output_type": "execute_result"
    }
   ],
   "source": [
    "older_families_premium.shape[0]+older_families_budget.shape[0]+older_families_main_stream.shape[0]"
   ]
  },
  {
   "cell_type": "code",
   "execution_count": 356,
   "id": "70375c97",
   "metadata": {},
   "outputs": [
    {
     "data": {
      "text/plain": [
       "PROD_NAME\n",
       "Dorito Corn Chp     Supreme 380g            485\n",
       "Smiths Crnkle Chip  Orgnl Big Bag 380g      461\n",
       "Smiths Crinkle Chips Salt & Vinegar 330g    429\n",
       "Smiths Crinkle      Original 330g           424\n",
       "Doritos Cheese      Supreme 330g            386\n",
       "Cheezels Cheese 330g                        381\n",
       "Kettle Sweet Chilli And Sour Cream 175g     305\n",
       "Kettle Mozzarella   Basil & Pesto 175g      298\n",
       "Kettle Honey Soy    Chicken 175g            294\n",
       "Kettle Sea Salt     And Vinegar 175g        287\n",
       "Kettle Original 175g                        274\n",
       "Kettle Chilli 175g                          262\n",
       "Old El Paso Salsa   Dip Chnky Tom Ht300g    249\n",
       "Old El Paso Salsa   Dip Tomato Mild 300g    210\n",
       "Old El Paso Salsa   Dip Tomato Med 300g     209\n",
       "Name: count, dtype: int64"
      ]
     },
     "execution_count": 356,
     "metadata": {},
     "output_type": "execute_result"
    }
   ],
   "source": [
    "older_families['PROD_NAME'].value_counts().head(15)"
   ]
  },
  {
   "cell_type": "code",
   "execution_count": null,
   "id": "b792115d",
   "metadata": {},
   "outputs": [],
   "source": [
    "#older families appear to prefer Dorito Corn Chips more than other chips"
   ]
  },
  {
   "cell_type": "code",
   "execution_count": null,
   "id": "05f6e799",
   "metadata": {},
   "outputs": [],
   "source": []
  },
  {
   "cell_type": "code",
   "execution_count": null,
   "id": "75d3a2a5",
   "metadata": {},
   "outputs": [],
   "source": [
    "#The subsets below represent the shapes of categories(premium, budget, mainstream) for young families, \n",
    "#there are 2433 young premium customers, 4017 young budget customers & 2728 young mainstream customers.\n",
    "#A total of 9178 young family customers"
   ]
  },
  {
   "cell_type": "code",
   "execution_count": 357,
   "id": "2173a07c",
   "metadata": {},
   "outputs": [],
   "source": [
    "#Here we are trying to identify which subscription type goes with young families\n",
    "young_families = transaction_purchases[(transaction_purchases[\"LIFESTAGE\"] == 'YOUNG FAMILIES')]\n",
    "young_families_premium = transaction_purchases[(transaction_purchases[\"LIFESTAGE\"] == 'YOUNG FAMILIES') & (transaction_purchases[\"PREMIUM_CUSTOMER\"] == 'Premium')]\n",
    "young_families_budget = transaction_purchases[(transaction_purchases[\"LIFESTAGE\"] == 'YOUNG FAMILIES') & (transaction_purchases[\"PREMIUM_CUSTOMER\"] == 'Budget')]\n",
    "young_families_mainstream = transaction_purchases[(transaction_purchases[\"LIFESTAGE\"] == 'YOUNG FAMILIES') & (transaction_purchases[\"PREMIUM_CUSTOMER\"] == 'Mainstream')]"
   ]
  },
  {
   "cell_type": "code",
   "execution_count": 305,
   "id": "1829c19e",
   "metadata": {},
   "outputs": [
    {
     "data": {
      "text/plain": [
       "(2433, 9)"
      ]
     },
     "execution_count": 305,
     "metadata": {},
     "output_type": "execute_result"
    }
   ],
   "source": [
    "young_families_premium.shape"
   ]
  },
  {
   "cell_type": "code",
   "execution_count": 306,
   "id": "a4098472",
   "metadata": {},
   "outputs": [
    {
     "data": {
      "text/plain": [
       "(4017, 9)"
      ]
     },
     "execution_count": 306,
     "metadata": {},
     "output_type": "execute_result"
    }
   ],
   "source": [
    "young_families_budget.shape"
   ]
  },
  {
   "cell_type": "code",
   "execution_count": 307,
   "id": "94e63eb9",
   "metadata": {},
   "outputs": [
    {
     "data": {
      "text/plain": [
       "(2728, 9)"
      ]
     },
     "execution_count": 307,
     "metadata": {},
     "output_type": "execute_result"
    }
   ],
   "source": [
    "young_families_mainstream.shape"
   ]
  },
  {
   "cell_type": "code",
   "execution_count": 310,
   "id": "4a1916cb",
   "metadata": {},
   "outputs": [
    {
     "data": {
      "text/plain": [
       "9178"
      ]
     },
     "execution_count": 310,
     "metadata": {},
     "output_type": "execute_result"
    }
   ],
   "source": [
    "young_families_premium.shape[0]+young_families_budget.shape[0]+young_families_mainstream.shape[0]"
   ]
  },
  {
   "cell_type": "code",
   "execution_count": null,
   "id": "6c674b65",
   "metadata": {},
   "outputs": [],
   "source": [
    "#The subsets below represent the shapes of categories(premium, budget, mainstream) for retirees, \n",
    "#there are 3872 retiree premium customers, 4454 retiree budget customers & 6479 retiree mainstream customers.\n",
    "#A total of 14805 retiree customers."
   ]
  },
  {
   "cell_type": "code",
   "execution_count": 360,
   "id": "782aa2bc",
   "metadata": {},
   "outputs": [
    {
     "data": {
      "text/plain": [
       "PROD_NAME\n",
       "Dorito Corn Chp     Supreme 380g            428\n",
       "Smiths Crnkle Chip  Orgnl Big Bag 380g      424\n",
       "Cheezels Cheese 330g                        389\n",
       "Smiths Crinkle Chips Salt & Vinegar 330g    371\n",
       "Smiths Crinkle      Original 330g           367\n",
       "Doritos Cheese      Supreme 330g            332\n",
       "Kettle Original 175g                        301\n",
       "Kettle Mozzarella   Basil & Pesto 175g      288\n",
       "Kettle Sea Salt     And Vinegar 175g        288\n",
       "Kettle Sweet Chilli And Sour Cream 175g     269\n",
       "Kettle Honey Soy    Chicken 175g            266\n",
       "Kettle Chilli 175g                          245\n",
       "Old El Paso Salsa   Dip Tomato Med 300g     212\n",
       "Old El Paso Salsa   Dip Tomato Mild 300g    207\n",
       "Old El Paso Salsa   Dip Chnky Tom Ht300g    205\n",
       "Name: count, dtype: int64"
      ]
     },
     "execution_count": 360,
     "metadata": {},
     "output_type": "execute_result"
    }
   ],
   "source": [
    "young_families['PROD_NAME'].value_counts().head(15)"
   ]
  },
  {
   "cell_type": "code",
   "execution_count": null,
   "id": "94f7628f",
   "metadata": {},
   "outputs": [],
   "source": [
    "#Young families like old families have the same preference for Dorito Corn Chips"
   ]
  },
  {
   "cell_type": "code",
   "execution_count": null,
   "id": "20d549d8",
   "metadata": {},
   "outputs": [],
   "source": []
  },
  {
   "cell_type": "code",
   "execution_count": 388,
   "id": "b04b3bab",
   "metadata": {},
   "outputs": [],
   "source": [
    "#Here we are trying to identify which subscription type goes with retirees\n",
    "retirees = transaction_purchases[(transaction_purchases[\"LIFESTAGE\"] == 'RETIREES')]\n",
    "retirees_premium = transaction_purchases[(transaction_purchases[\"LIFESTAGE\"] == 'RETIREES') & (transaction_purchases[\"PREMIUM_CUSTOMER\"] == 'Premium')]\n",
    "retirees_budget = transaction_purchases[(transaction_purchases[\"LIFESTAGE\"] == 'RETIREES') & (transaction_purchases[\"PREMIUM_CUSTOMER\"] == 'Budget')]\n",
    "retirees_mainstream = transaction_purchases[(transaction_purchases[\"LIFESTAGE\"] == 'RETIREES') & (transaction_purchases[\"PREMIUM_CUSTOMER\"] == 'Mainstream')]"
   ]
  },
  {
   "cell_type": "code",
   "execution_count": 312,
   "id": "9ff42c7b",
   "metadata": {},
   "outputs": [
    {
     "data": {
      "text/plain": [
       "(3872, 9)"
      ]
     },
     "execution_count": 312,
     "metadata": {},
     "output_type": "execute_result"
    }
   ],
   "source": [
    "retirees_premium.shape"
   ]
  },
  {
   "cell_type": "code",
   "execution_count": 313,
   "id": "4e9e6dd2",
   "metadata": {},
   "outputs": [
    {
     "data": {
      "text/plain": [
       "(4454, 9)"
      ]
     },
     "execution_count": 313,
     "metadata": {},
     "output_type": "execute_result"
    }
   ],
   "source": [
    "retirees_budget.shape"
   ]
  },
  {
   "cell_type": "code",
   "execution_count": 314,
   "id": "07198728",
   "metadata": {},
   "outputs": [
    {
     "data": {
      "text/plain": [
       "(6479, 9)"
      ]
     },
     "execution_count": 314,
     "metadata": {},
     "output_type": "execute_result"
    }
   ],
   "source": [
    "retirees_mainstream.shape"
   ]
  },
  {
   "cell_type": "code",
   "execution_count": 315,
   "id": "92356f61",
   "metadata": {},
   "outputs": [
    {
     "data": {
      "text/plain": [
       "14805"
      ]
     },
     "execution_count": 315,
     "metadata": {},
     "output_type": "execute_result"
    }
   ],
   "source": [
    "retirees_premium.shape[0]+retirees_budget.shape[0]+retirees_mainstream.shape[0]"
   ]
  },
  {
   "cell_type": "code",
   "execution_count": null,
   "id": "3cb5f234",
   "metadata": {},
   "outputs": [],
   "source": [
    "#The subsets below represent the shapes of categories(premium, budget, mainstream) for old single or couple customers, \n",
    "#there are 4750 old single or couple premium customers, 4929 old single or couple budget customers & 4930 old single\n",
    "# or couple mainstream customers. A total of 14609 old single or couple customers."
   ]
  },
  {
   "cell_type": "code",
   "execution_count": 389,
   "id": "f1c27a1d",
   "metadata": {},
   "outputs": [
    {
     "data": {
      "text/plain": [
       "PROD_NAME\n",
       "Dorito Corn Chp     Supreme 380g            562\n",
       "Smiths Crnkle Chip  Orgnl Big Bag 380g      544\n",
       "Doritos Cheese      Supreme 330g            491\n",
       "Smiths Crinkle      Original 330g           485\n",
       "Cheezels Cheese 330g                        472\n",
       "Smiths Crinkle Chips Salt & Vinegar 330g    455\n",
       "Kettle Sweet Chilli And Sour Cream 175g     417\n",
       "Kettle Chilli 175g                          411\n",
       "Kettle Original 175g                        405\n",
       "Kettle Mozzarella   Basil & Pesto 175g      405\n",
       "Kettle Honey Soy    Chicken 175g            385\n",
       "Kettle Sea Salt     And Vinegar 175g        382\n",
       "Old El Paso Salsa   Dip Tomato Mild 300g    313\n",
       "Old El Paso Salsa   Dip Tomato Med 300g     308\n",
       "Old El Paso Salsa   Dip Chnky Tom Ht300g    305\n",
       "Name: count, dtype: int64"
      ]
     },
     "execution_count": 389,
     "metadata": {},
     "output_type": "execute_result"
    }
   ],
   "source": [
    "retirees['PROD_NAME'].value_counts().head(15)"
   ]
  },
  {
   "cell_type": "code",
   "execution_count": null,
   "id": "d85755a2",
   "metadata": {},
   "outputs": [],
   "source": [
    "#Retirees prefer Dorito Corn Chips to any other chips brand"
   ]
  },
  {
   "cell_type": "code",
   "execution_count": 394,
   "id": "a139dc77",
   "metadata": {},
   "outputs": [],
   "source": [
    "#Here we are trying to identify which subscription type goes with old singles or couples\n",
    "old_single = transaction_purchases[(transaction_purchases[\"LIFESTAGE\"] == 'OLDER SINGLES/COUPLES')]\n",
    "old_single_premium = transaction_purchases[(transaction_purchases[\"LIFESTAGE\"] == 'OLDER SINGLES/COUPLES') & (transaction_purchases[\"PREMIUM_CUSTOMER\"] == 'Premium')]\n",
    "old_single_budget = transaction_purchases[(transaction_purchases[\"LIFESTAGE\"] == 'OLDER SINGLES/COUPLES') & (transaction_purchases[\"PREMIUM_CUSTOMER\"] == 'Budget')]\n",
    "old_single_mainstream = transaction_purchases[(transaction_purchases[\"LIFESTAGE\"] == 'OLDER SINGLES/COUPLES') & (transaction_purchases[\"PREMIUM_CUSTOMER\"] == 'Mainstream')]"
   ]
  },
  {
   "cell_type": "code",
   "execution_count": 395,
   "id": "6355dcc2",
   "metadata": {},
   "outputs": [
    {
     "data": {
      "text/plain": [
       "(4750, 9)"
      ]
     },
     "execution_count": 395,
     "metadata": {},
     "output_type": "execute_result"
    }
   ],
   "source": [
    "old_single_premium.shape"
   ]
  },
  {
   "cell_type": "code",
   "execution_count": 396,
   "id": "b9ba0086",
   "metadata": {},
   "outputs": [
    {
     "data": {
      "text/plain": [
       "(4929, 9)"
      ]
     },
     "execution_count": 396,
     "metadata": {},
     "output_type": "execute_result"
    }
   ],
   "source": [
    "old_single_budget.shape"
   ]
  },
  {
   "cell_type": "code",
   "execution_count": 397,
   "id": "e8bcdc99",
   "metadata": {},
   "outputs": [
    {
     "data": {
      "text/plain": [
       "(4930, 9)"
      ]
     },
     "execution_count": 397,
     "metadata": {},
     "output_type": "execute_result"
    }
   ],
   "source": [
    "old_single_mainstream.shape"
   ]
  },
  {
   "cell_type": "code",
   "execution_count": 398,
   "id": "b51a00e8",
   "metadata": {},
   "outputs": [
    {
     "data": {
      "text/plain": [
       "14609"
      ]
     },
     "execution_count": 398,
     "metadata": {},
     "output_type": "execute_result"
    }
   ],
   "source": [
    "old_single_premium.shape[0]+old_single_budget.shape[0]+old_single_mainstream.shape[0]"
   ]
  },
  {
   "cell_type": "code",
   "execution_count": null,
   "id": "3715f715",
   "metadata": {},
   "outputs": [],
   "source": [
    "#The subsets below represent the shapes of categories(premium, budget, mainstream) for mid age single or couple, \n",
    "#customers there are 2431 premium customers, 1504 budget customers & 3340 mainstream customers.\n",
    "#A total of 7275 mid age single or couple customers."
   ]
  },
  {
   "cell_type": "code",
   "execution_count": 399,
   "id": "0607c54c",
   "metadata": {},
   "outputs": [
    {
     "data": {
      "text/plain": [
       "PROD_NAME\n",
       "Dorito Corn Chp     Supreme 380g            628\n",
       "Smiths Crnkle Chip  Orgnl Big Bag 380g      571\n",
       "Smiths Crinkle Chips Salt & Vinegar 330g    515\n",
       "Smiths Crinkle      Original 330g           498\n",
       "Cheezels Cheese 330g                        482\n",
       "Doritos Cheese      Supreme 330g            478\n",
       "Kettle Honey Soy    Chicken 175g            437\n",
       "Kettle Mozzarella   Basil & Pesto 175g      415\n",
       "Kettle Sweet Chilli And Sour Cream 175g     410\n",
       "Kettle Sea Salt     And Vinegar 175g        408\n",
       "Kettle Chilli 175g                          397\n",
       "Kettle Original 175g                        394\n",
       "Old El Paso Salsa   Dip Tomato Mild 300g    321\n",
       "Old El Paso Salsa   Dip Tomato Med 300g     314\n",
       "Old El Paso Salsa   Dip Chnky Tom Ht300g    288\n",
       "Name: count, dtype: int64"
      ]
     },
     "execution_count": 399,
     "metadata": {},
     "output_type": "execute_result"
    }
   ],
   "source": [
    "old_single['PROD_NAME'].value_counts().head(15)"
   ]
  },
  {
   "cell_type": "code",
   "execution_count": 321,
   "id": "8f7bab44",
   "metadata": {},
   "outputs": [],
   "source": [
    "#Here we are trying to identify which subscription type goes with old mid age singles or couples\n",
    "mid_age_premium = transaction_purchases[(transaction_purchases[\"LIFESTAGE\"] == 'MIDAGE SINGLES/COUPLES') & (transaction_purchases[\"PREMIUM_CUSTOMER\"] == 'Premium')]\n",
    "mid_age_budget = transaction_purchases[(transaction_purchases[\"LIFESTAGE\"] == 'MIDAGE SINGLES/COUPLES') & (transaction_purchases[\"PREMIUM_CUSTOMER\"] == 'Budget')]\n",
    "mid_age_mainstream = transaction_purchases[(transaction_purchases[\"LIFESTAGE\"] == 'MIDAGE SINGLES/COUPLES') & (transaction_purchases[\"PREMIUM_CUSTOMER\"] == 'Mainstream')]"
   ]
  },
  {
   "cell_type": "code",
   "execution_count": 322,
   "id": "d624ee39",
   "metadata": {},
   "outputs": [
    {
     "data": {
      "text/plain": [
       "(2431, 9)"
      ]
     },
     "execution_count": 322,
     "metadata": {},
     "output_type": "execute_result"
    }
   ],
   "source": [
    "mid_age_premium.shape"
   ]
  },
  {
   "cell_type": "code",
   "execution_count": 323,
   "id": "06b652ed",
   "metadata": {},
   "outputs": [
    {
     "data": {
      "text/plain": [
       "(1504, 9)"
      ]
     },
     "execution_count": 323,
     "metadata": {},
     "output_type": "execute_result"
    }
   ],
   "source": [
    "mid_age_budget.shape"
   ]
  },
  {
   "cell_type": "code",
   "execution_count": 324,
   "id": "8d57dd19",
   "metadata": {},
   "outputs": [
    {
     "data": {
      "text/plain": [
       "(3340, 9)"
      ]
     },
     "execution_count": 324,
     "metadata": {},
     "output_type": "execute_result"
    }
   ],
   "source": [
    "mid_age_mainstream.shape"
   ]
  },
  {
   "cell_type": "code",
   "execution_count": 325,
   "id": "b8975036",
   "metadata": {
    "scrolled": true
   },
   "outputs": [
    {
     "data": {
      "text/plain": [
       "7275"
      ]
     },
     "execution_count": 325,
     "metadata": {},
     "output_type": "execute_result"
    }
   ],
   "source": [
    "mid_age_premium.shape[0]+mid_age_budget.shape[0]+mid_age_mainstream.shape[0]"
   ]
  },
  {
   "cell_type": "code",
   "execution_count": null,
   "id": "7090d168",
   "metadata": {},
   "outputs": [],
   "source": [
    "#The subsets below represent the shapes of categories(premium, budget, mainstream) for young single or couple, \n",
    "#customers there are 2574 premium customers, 3779 budget customers & 8088 mainstream customers.\n",
    "#A total of 7275 mid age single or couple customers."
   ]
  },
  {
   "cell_type": "code",
   "execution_count": 326,
   "id": "0e22245b",
   "metadata": {},
   "outputs": [],
   "source": [
    "#Here we are trying to identify which subscription type goes with young single or couple customers\n",
    "young_singles_premium = transaction_purchases[(transaction_purchases[\"LIFESTAGE\"] == 'YOUNG SINGLES/COUPLES') & (transaction_purchases[\"PREMIUM_CUSTOMER\"] == 'Premium')]\n",
    "young_singles_budget = transaction_purchases[(transaction_purchases[\"LIFESTAGE\"] == 'YOUNG SINGLES/COUPLES') & (transaction_purchases[\"PREMIUM_CUSTOMER\"] == 'Budget')]\n",
    "young_singles_mainstream = transaction_purchases[(transaction_purchases[\"LIFESTAGE\"] == 'YOUNG SINGLES/COUPLES') & (transaction_purchases[\"PREMIUM_CUSTOMER\"] == 'Mainstream')]"
   ]
  },
  {
   "cell_type": "code",
   "execution_count": 327,
   "id": "12743ee0",
   "metadata": {},
   "outputs": [
    {
     "data": {
      "text/plain": [
       "(2574, 9)"
      ]
     },
     "execution_count": 327,
     "metadata": {},
     "output_type": "execute_result"
    }
   ],
   "source": [
    "young_singles_premium.shape"
   ]
  },
  {
   "cell_type": "code",
   "execution_count": 328,
   "id": "2f32e1c8",
   "metadata": {},
   "outputs": [
    {
     "data": {
      "text/plain": [
       "(3779, 9)"
      ]
     },
     "execution_count": 328,
     "metadata": {},
     "output_type": "execute_result"
    }
   ],
   "source": [
    "young_singles_budget.shape"
   ]
  },
  {
   "cell_type": "code",
   "execution_count": 329,
   "id": "f1dcccaa",
   "metadata": {},
   "outputs": [
    {
     "data": {
      "text/plain": [
       "(8088, 9)"
      ]
     },
     "execution_count": 329,
     "metadata": {},
     "output_type": "execute_result"
    }
   ],
   "source": [
    "young_singles_mainstream.shape"
   ]
  },
  {
   "cell_type": "code",
   "execution_count": 330,
   "id": "0255d679",
   "metadata": {},
   "outputs": [
    {
     "data": {
      "text/plain": [
       "14441"
      ]
     },
     "execution_count": 330,
     "metadata": {},
     "output_type": "execute_result"
    }
   ],
   "source": [
    "young_singles_premium.shape[0]+young_singles_budget.shape[0]+young_singles_mainstream.shape[0]"
   ]
  },
  {
   "cell_type": "code",
   "execution_count": null,
   "id": "428fbf8d",
   "metadata": {},
   "outputs": [],
   "source": [
    "#The subsets below represent the shapes of categories(premium, budget, mainstream) for new familes, \n",
    "#customers there are 588 premium customers, 1112 budget customers & 849 mainstream customers.\n",
    "#A total of 2549 new family customers."
   ]
  },
  {
   "cell_type": "code",
   "execution_count": 331,
   "id": "aa5df009",
   "metadata": {},
   "outputs": [],
   "source": [
    "#Here we are trying to identify which subscription type goes with new families\n",
    "new_families_premium = transaction_purchases[(transaction_purchases[\"LIFESTAGE\"] == 'NEW FAMILIES') & (transaction_purchases[\"PREMIUM_CUSTOMER\"] == 'Premium')]\n",
    "new_families_budget = transaction_purchases[(transaction_purchases[\"LIFESTAGE\"] == 'NEW FAMILIES') & (transaction_purchases[\"PREMIUM_CUSTOMER\"] == 'Budget')]\n",
    "new_families_mainstream = transaction_purchases[(transaction_purchases[\"LIFESTAGE\"] == 'NEW FAMILIES') & (transaction_purchases[\"PREMIUM_CUSTOMER\"] == 'Mainstream')]"
   ]
  },
  {
   "cell_type": "code",
   "execution_count": 332,
   "id": "176e45f4",
   "metadata": {},
   "outputs": [
    {
     "data": {
      "text/plain": [
       "(588, 9)"
      ]
     },
     "execution_count": 332,
     "metadata": {},
     "output_type": "execute_result"
    }
   ],
   "source": [
    "new_families_premium.shape"
   ]
  },
  {
   "cell_type": "code",
   "execution_count": 333,
   "id": "7daa1569",
   "metadata": {},
   "outputs": [
    {
     "data": {
      "text/plain": [
       "(1112, 9)"
      ]
     },
     "execution_count": 333,
     "metadata": {},
     "output_type": "execute_result"
    }
   ],
   "source": [
    "new_families_budget.shape"
   ]
  },
  {
   "cell_type": "code",
   "execution_count": 334,
   "id": "983ae759",
   "metadata": {},
   "outputs": [
    {
     "data": {
      "text/plain": [
       "(849, 9)"
      ]
     },
     "execution_count": 334,
     "metadata": {},
     "output_type": "execute_result"
    }
   ],
   "source": [
    "new_families_mainstream.shape"
   ]
  },
  {
   "cell_type": "code",
   "execution_count": 335,
   "id": "c0f71613",
   "metadata": {
    "scrolled": true
   },
   "outputs": [
    {
     "data": {
      "text/plain": [
       "2549"
      ]
     },
     "execution_count": 335,
     "metadata": {},
     "output_type": "execute_result"
    }
   ],
   "source": [
    "new_families_premium.shape[0]+new_families_budget.shape[0]+new_families_mainstream.shape[0]"
   ]
  },
  {
   "cell_type": "code",
   "execution_count": 352,
   "id": "70d7cb78",
   "metadata": {},
   "outputs": [
    {
     "data": {
      "text/plain": [
       "PROD_NAME\n",
       "Old El Paso Salsa   Dip Chnky Tom Ht300g    23\n",
       "Smiths Crnkle Chip  Orgnl Big Bag 380g      21\n",
       "Smiths Crinkle Chips Salt & Vinegar 330g    17\n",
       "Smiths Crinkle      Original 330g           17\n",
       "Kettle Mozzarella   Basil & Pesto 175g      17\n",
       "Cheezels Cheese 330g                        16\n",
       "Kettle Sweet Chilli And Sour Cream 175g     15\n",
       "Dorito Corn Chp     Supreme 380g            15\n",
       "Kettle Original 175g                        14\n",
       "Kettle Sea Salt     And Vinegar 175g        14\n",
       "Kettle Sensations   Siracha Lime 150g       13\n",
       "Tostitos Splash Of  Lime 175g               13\n",
       "Doritos Corn Chips  Cheese Supreme 170g     13\n",
       "Kettle Chilli 175g                          12\n",
       "Twisties Chicken270g                        12\n",
       "Name: count, dtype: int64"
      ]
     },
     "execution_count": 352,
     "metadata": {},
     "output_type": "execute_result"
    }
   ],
   "source": [
    "new_families_premium['PROD_NAME'].value_counts().head(15)"
   ]
  },
  {
   "cell_type": "code",
   "execution_count": null,
   "id": "f7229e79",
   "metadata": {},
   "outputs": [],
   "source": []
  }
 ],
 "metadata": {
  "kernelspec": {
   "display_name": "Python 3 (ipykernel)",
   "language": "python",
   "name": "python3"
  },
  "language_info": {
   "codemirror_mode": {
    "name": "ipython",
    "version": 3
   },
   "file_extension": ".py",
   "mimetype": "text/x-python",
   "name": "python",
   "nbconvert_exporter": "python",
   "pygments_lexer": "ipython3",
   "version": "3.10.6"
  }
 },
 "nbformat": 4,
 "nbformat_minor": 5
}

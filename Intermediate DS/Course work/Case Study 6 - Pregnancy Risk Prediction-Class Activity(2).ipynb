{
 "cells": [
  {
   "cell_type": "markdown",
   "id": "b85317c1",
   "metadata": {},
   "source": [
    "#### Pregnancy  Risk Prediction"
   ]
  },
  {
   "cell_type": "raw",
   "id": "73f89a6e",
   "metadata": {},
   "source": [
    "To predict the pregnancy risk given symptoms recorded."
   ]
  },
  {
   "cell_type": "code",
   "execution_count": 5,
   "id": "406367b8",
   "metadata": {},
   "outputs": [],
   "source": [
    "import pandas as pd \n",
    "import matplotlib.pyplot as plt\n",
    "import seaborn as sns                                   # For Correlation Heatmap\n",
    "from sklearn.preprocessing import LabelEncoder          # Encodes Categorical Data into Numerical\n",
    "from sklearn.model_selection import train_test_split    # For spliting data into training and testing sets\n",
    "from sklearn.linear_model import LinearRegression       # Linear Regression model"
   ]
  },
  {
   "cell_type": "code",
   "execution_count": null,
   "id": "da2bda8e",
   "metadata": {},
   "outputs": [],
   "source": []
  }
 ],
 "metadata": {
  "kernelspec": {
   "display_name": "Python 3 (ipykernel)",
   "language": "python",
   "name": "python3"
  },
  "language_info": {
   "codemirror_mode": {
    "name": "ipython",
    "version": 3
   },
   "file_extension": ".py",
   "mimetype": "text/x-python",
   "name": "python",
   "nbconvert_exporter": "python",
   "pygments_lexer": "ipython3",
   "version": "3.8.16"
  }
 },
 "nbformat": 4,
 "nbformat_minor": 5
}

{
 "cells": [
  {
   "cell_type": "markdown",
   "id": "0576e57c",
   "metadata": {},
   "source": [
    "#### 19.0 Random Forest Regression"
   ]
  },
  {
   "cell_type": "markdown",
   "id": "ba7c04f1",
   "metadata": {},
   "source": [
    "#### Definitions :"
   ]
  },
  {
   "cell_type": "markdown",
   "id": "a0c0c124",
   "metadata": {},
   "source": [
    "1.Random Forest"
   ]
  },
  {
   "cell_type": "raw",
   "id": "af68761c",
   "metadata": {},
   "source": [
    "~ Random Forest is an ensemble technique capable of performing \n",
    "  both regression & classification tasks with the use of multiple decision trees\n",
    "  and a technique called Bootstrap and Aggregation, commonly known as bagging.\n",
    "\n",
    "~ The basic idea behind bagging is to combine multiple decision trees in determining\n",
    "  the final output rather than relying on individual decision trees. "
   ]
  },
  {
   "cell_type": "markdown",
   "id": "c4e82582",
   "metadata": {},
   "source": [
    "2.Ensemble learning"
   ]
  },
  {
   "cell_type": "raw",
   "id": "1e83ba70",
   "metadata": {},
   "source": [
    "~It is the process of using multiple models, trained over the same data,\n",
    " averaging the results of each model & ultimately finding a more powerful\n",
    " predictive/classification result.\n",
    "~For ensemble learning it is hoped  that the errors of each model\n",
    " (in this case decision tree) are independent & different from tree to tree."
   ]
  },
  {
   "cell_type": "markdown",
   "id": "e4d9a0bb",
   "metadata": {},
   "source": [
    "3.Bootstrapping"
   ]
  },
  {
   "cell_type": "raw",
   "id": "073e7a10",
   "metadata": {},
   "source": [
    "~ Bootstrapping is the process of randomly sampling subsets of a dataset over a given number\n",
    "  of iterations and a given number of variables.\n",
    " \n",
    "~These results are then averaged together to obtain a more powerful result.\n",
    "\n",
    "~ Bootstrapping is an example of an applied ensemble model.\n",
    "\n",
    "~The bootstrapping Random Forest algorithm combines ensemble learning methods with \n",
    " the decision tree framework to create multiple randomly drawn decision trees from the data,\n",
    " averaging the results to output a new result that often leads to accurate  predictions.   \n"
   ]
  },
  {
   "cell_type": "markdown",
   "id": "bd04d192",
   "metadata": {},
   "source": [
    "4.Random Forest Regression Model:"
   ]
  },
  {
   "cell_type": "raw",
   "id": "c5d3ad72",
   "metadata": {},
   "source": [
    "a. The sklearn module will be used for training our random forest regression model;\n",
    "\n",
    "b. The important parameters are :\n",
    "    \n",
    "   (i) n_estimators -> the number of decision trees we will be running in the model\n",
    "\n",
    "  (ii) criterion —> this variable allows us to select the criterion (loss function) to be used \n",
    "                    to determine model outcomes,such as mean squared error (MSE) and \n",
    "                     mean absolute error (MAE).The default value is MSE.\n",
    "\n"
   ]
  },
  {
   "cell_type": "raw",
   "id": "2b63d1e0",
   "metadata": {},
   "source": [
    "c. max_depth —> Sets the maximum possible depth of each tree;\n",
    "\n",
    "d. max_features —> The maximum number of features the model will consider when determining a split;\n",
    "\n",
    "e. max_samples —> This parameter assumes bootstrapping is set to True, otherwise,\n",
    "                  this parameter doesn’t apply.\n",
    "                  In the case of True, this value sets the largest size of each sample for each tree.\n",
    " "
   ]
  },
  {
   "cell_type": "markdown",
   "id": "6c39ef59",
   "metadata": {},
   "source": [
    "#### Example => Dataset : Position_Salaries.csv"
   ]
  },
  {
   "cell_type": "markdown",
   "id": "5ea3ba6a",
   "metadata": {},
   "source": [
    "Statement of Problem :"
   ]
  },
  {
   "cell_type": "raw",
   "id": "ac640eed",
   "metadata": {},
   "source": [
    "To predict salary for Level 6.5"
   ]
  },
  {
   "cell_type": "code",
   "execution_count": 6,
   "id": "0017546f",
   "metadata": {},
   "outputs": [],
   "source": [
    "# Import the libraries\n",
    "import numpy as np\n",
    "import matplotlib.pyplot as plt\n",
    "import pandas as pd"
   ]
  },
  {
   "cell_type": "code",
   "execution_count": 7,
   "id": "353e2b29",
   "metadata": {},
   "outputs": [
    {
     "data": {
      "text/html": [
       "<div>\n",
       "<style scoped>\n",
       "    .dataframe tbody tr th:only-of-type {\n",
       "        vertical-align: middle;\n",
       "    }\n",
       "\n",
       "    .dataframe tbody tr th {\n",
       "        vertical-align: top;\n",
       "    }\n",
       "\n",
       "    .dataframe thead th {\n",
       "        text-align: right;\n",
       "    }\n",
       "</style>\n",
       "<table border=\"1\" class=\"dataframe\">\n",
       "  <thead>\n",
       "    <tr style=\"text-align: right;\">\n",
       "      <th></th>\n",
       "      <th>Position</th>\n",
       "      <th>Level</th>\n",
       "      <th>Salary</th>\n",
       "    </tr>\n",
       "  </thead>\n",
       "  <tbody>\n",
       "    <tr>\n",
       "      <th>0</th>\n",
       "      <td>Business Analyst</td>\n",
       "      <td>1</td>\n",
       "      <td>45000</td>\n",
       "    </tr>\n",
       "    <tr>\n",
       "      <th>1</th>\n",
       "      <td>Junior Consultant</td>\n",
       "      <td>2</td>\n",
       "      <td>50000</td>\n",
       "    </tr>\n",
       "    <tr>\n",
       "      <th>2</th>\n",
       "      <td>Senior Consultant</td>\n",
       "      <td>3</td>\n",
       "      <td>60000</td>\n",
       "    </tr>\n",
       "    <tr>\n",
       "      <th>3</th>\n",
       "      <td>Manager</td>\n",
       "      <td>4</td>\n",
       "      <td>80000</td>\n",
       "    </tr>\n",
       "    <tr>\n",
       "      <th>4</th>\n",
       "      <td>Country Manager</td>\n",
       "      <td>5</td>\n",
       "      <td>110000</td>\n",
       "    </tr>\n",
       "    <tr>\n",
       "      <th>5</th>\n",
       "      <td>Region Manager</td>\n",
       "      <td>6</td>\n",
       "      <td>150000</td>\n",
       "    </tr>\n",
       "    <tr>\n",
       "      <th>6</th>\n",
       "      <td>Partner</td>\n",
       "      <td>7</td>\n",
       "      <td>200000</td>\n",
       "    </tr>\n",
       "    <tr>\n",
       "      <th>7</th>\n",
       "      <td>Senior Partner</td>\n",
       "      <td>8</td>\n",
       "      <td>300000</td>\n",
       "    </tr>\n",
       "    <tr>\n",
       "      <th>8</th>\n",
       "      <td>C-level</td>\n",
       "      <td>9</td>\n",
       "      <td>500000</td>\n",
       "    </tr>\n",
       "    <tr>\n",
       "      <th>9</th>\n",
       "      <td>CEO</td>\n",
       "      <td>10</td>\n",
       "      <td>1000000</td>\n",
       "    </tr>\n",
       "  </tbody>\n",
       "</table>\n",
       "</div>"
      ],
      "text/plain": [
       "            Position  Level   Salary\n",
       "0   Business Analyst      1    45000\n",
       "1  Junior Consultant      2    50000\n",
       "2  Senior Consultant      3    60000\n",
       "3            Manager      4    80000\n",
       "4    Country Manager      5   110000\n",
       "5     Region Manager      6   150000\n",
       "6            Partner      7   200000\n",
       "7     Senior Partner      8   300000\n",
       "8            C-level      9   500000\n",
       "9                CEO     10  1000000"
      ]
     },
     "execution_count": 7,
     "metadata": {},
     "output_type": "execute_result"
    }
   ],
   "source": [
    "salaries = pd.read_csv(r'C:\\Users\\user\\Downloads\\Position_Salaries.csv')\n",
    "salaries"
   ]
  },
  {
   "cell_type": "code",
   "execution_count": 8,
   "id": "b2900e56",
   "metadata": {},
   "outputs": [],
   "source": [
    "df = salaries.copy()"
   ]
  },
  {
   "cell_type": "code",
   "execution_count": 9,
   "id": "b8cb977f",
   "metadata": {},
   "outputs": [],
   "source": [
    "# Split data into features and target:\n",
    "X = df.drop(columns = ['Position','Salary'],axis = 1)\n",
    "y = df['Salary']"
   ]
  },
  {
   "cell_type": "code",
   "execution_count": 10,
   "id": "28026910",
   "metadata": {},
   "outputs": [],
   "source": [
    "X = np.array(X)\n",
    "y = np.array(y)"
   ]
  },
  {
   "cell_type": "code",
   "execution_count": 11,
   "id": "3dd9ae37",
   "metadata": {},
   "outputs": [
    {
     "name": "stdout",
     "output_type": "stream",
     "text": [
      "(10, 1)\n",
      "(10,)\n"
     ]
    }
   ],
   "source": [
    "print(X.shape)\n",
    "print(y.shape)"
   ]
  },
  {
   "cell_type": "code",
   "execution_count": 12,
   "id": "a98cc031",
   "metadata": {},
   "outputs": [
    {
     "name": "stdout",
     "output_type": "stream",
     "text": [
      "<class 'numpy.ndarray'>\n",
      "<class 'numpy.ndarray'>\n"
     ]
    }
   ],
   "source": [
    "print(type(X))\n",
    "print(type(y))"
   ]
  },
  {
   "cell_type": "code",
   "execution_count": 13,
   "id": "a9e9fb0b",
   "metadata": {},
   "outputs": [],
   "source": [
    "# Fitting Random Forest Regression to the dataset :\n",
    "# import the regressor\n",
    "from sklearn.ensemble import RandomForestRegressor\n"
   ]
  },
  {
   "cell_type": "code",
   "execution_count": 14,
   "id": "cfe71a20",
   "metadata": {},
   "outputs": [],
   "source": [
    "# Create regressor object\n",
    "regressor = RandomForestRegressor(n_estimators=100,\n",
    "                                  random_state=0)\n",
    " \n"
   ]
  },
  {
   "cell_type": "code",
   "execution_count": 15,
   "id": "69b3cc50",
   "metadata": {},
   "outputs": [
    {
     "data": {
      "text/html": [
       "<style>#sk-container-id-1 {color: black;background-color: white;}#sk-container-id-1 pre{padding: 0;}#sk-container-id-1 div.sk-toggleable {background-color: white;}#sk-container-id-1 label.sk-toggleable__label {cursor: pointer;display: block;width: 100%;margin-bottom: 0;padding: 0.3em;box-sizing: border-box;text-align: center;}#sk-container-id-1 label.sk-toggleable__label-arrow:before {content: \"▸\";float: left;margin-right: 0.25em;color: #696969;}#sk-container-id-1 label.sk-toggleable__label-arrow:hover:before {color: black;}#sk-container-id-1 div.sk-estimator:hover label.sk-toggleable__label-arrow:before {color: black;}#sk-container-id-1 div.sk-toggleable__content {max-height: 0;max-width: 0;overflow: hidden;text-align: left;background-color: #f0f8ff;}#sk-container-id-1 div.sk-toggleable__content pre {margin: 0.2em;color: black;border-radius: 0.25em;background-color: #f0f8ff;}#sk-container-id-1 input.sk-toggleable__control:checked~div.sk-toggleable__content {max-height: 200px;max-width: 100%;overflow: auto;}#sk-container-id-1 input.sk-toggleable__control:checked~label.sk-toggleable__label-arrow:before {content: \"▾\";}#sk-container-id-1 div.sk-estimator input.sk-toggleable__control:checked~label.sk-toggleable__label {background-color: #d4ebff;}#sk-container-id-1 div.sk-label input.sk-toggleable__control:checked~label.sk-toggleable__label {background-color: #d4ebff;}#sk-container-id-1 input.sk-hidden--visually {border: 0;clip: rect(1px 1px 1px 1px);clip: rect(1px, 1px, 1px, 1px);height: 1px;margin: -1px;overflow: hidden;padding: 0;position: absolute;width: 1px;}#sk-container-id-1 div.sk-estimator {font-family: monospace;background-color: #f0f8ff;border: 1px dotted black;border-radius: 0.25em;box-sizing: border-box;margin-bottom: 0.5em;}#sk-container-id-1 div.sk-estimator:hover {background-color: #d4ebff;}#sk-container-id-1 div.sk-parallel-item::after {content: \"\";width: 100%;border-bottom: 1px solid gray;flex-grow: 1;}#sk-container-id-1 div.sk-label:hover label.sk-toggleable__label {background-color: #d4ebff;}#sk-container-id-1 div.sk-serial::before {content: \"\";position: absolute;border-left: 1px solid gray;box-sizing: border-box;top: 0;bottom: 0;left: 50%;z-index: 0;}#sk-container-id-1 div.sk-serial {display: flex;flex-direction: column;align-items: center;background-color: white;padding-right: 0.2em;padding-left: 0.2em;position: relative;}#sk-container-id-1 div.sk-item {position: relative;z-index: 1;}#sk-container-id-1 div.sk-parallel {display: flex;align-items: stretch;justify-content: center;background-color: white;position: relative;}#sk-container-id-1 div.sk-item::before, #sk-container-id-1 div.sk-parallel-item::before {content: \"\";position: absolute;border-left: 1px solid gray;box-sizing: border-box;top: 0;bottom: 0;left: 50%;z-index: -1;}#sk-container-id-1 div.sk-parallel-item {display: flex;flex-direction: column;z-index: 1;position: relative;background-color: white;}#sk-container-id-1 div.sk-parallel-item:first-child::after {align-self: flex-end;width: 50%;}#sk-container-id-1 div.sk-parallel-item:last-child::after {align-self: flex-start;width: 50%;}#sk-container-id-1 div.sk-parallel-item:only-child::after {width: 0;}#sk-container-id-1 div.sk-dashed-wrapped {border: 1px dashed gray;margin: 0 0.4em 0.5em 0.4em;box-sizing: border-box;padding-bottom: 0.4em;background-color: white;}#sk-container-id-1 div.sk-label label {font-family: monospace;font-weight: bold;display: inline-block;line-height: 1.2em;}#sk-container-id-1 div.sk-label-container {text-align: center;}#sk-container-id-1 div.sk-container {/* jupyter's `normalize.less` sets `[hidden] { display: none; }` but bootstrap.min.css set `[hidden] { display: none !important; }` so we also need the `!important` here to be able to override the default hidden behavior on the sphinx rendered scikit-learn.org. See: https://github.com/scikit-learn/scikit-learn/issues/21755 */display: inline-block !important;position: relative;}#sk-container-id-1 div.sk-text-repr-fallback {display: none;}</style><div id=\"sk-container-id-1\" class=\"sk-top-container\"><div class=\"sk-text-repr-fallback\"><pre>RandomForestRegressor(random_state=0)</pre><b>In a Jupyter environment, please rerun this cell to show the HTML representation or trust the notebook. <br />On GitHub, the HTML representation is unable to render, please try loading this page with nbviewer.org.</b></div><div class=\"sk-container\" hidden><div class=\"sk-item\"><div class=\"sk-estimator sk-toggleable\"><input class=\"sk-toggleable__control sk-hidden--visually\" id=\"sk-estimator-id-1\" type=\"checkbox\" checked><label for=\"sk-estimator-id-1\" class=\"sk-toggleable__label sk-toggleable__label-arrow\">RandomForestRegressor</label><div class=\"sk-toggleable__content\"><pre>RandomForestRegressor(random_state=0)</pre></div></div></div></div></div>"
      ],
      "text/plain": [
       "RandomForestRegressor(random_state=0)"
      ]
     },
     "execution_count": 15,
     "metadata": {},
     "output_type": "execute_result"
    }
   ],
   "source": [
    "# Fit the regressor with x and y data\n",
    "regressor.fit(X, y)"
   ]
  },
  {
   "cell_type": "raw",
   "id": "9e3b4cee",
   "metadata": {},
   "source": [
    "Let us visualize the results obtained by using the RandomForest Regression model\n",
    "on Position_Salaries.csv dataset:\n",
    "\n",
    "Visualising the Random Forest Regression results:"
   ]
  },
  {
   "cell_type": "code",
   "execution_count": 18,
   "id": "93145ae8",
   "metadata": {},
   "outputs": [
    {
     "data": {
      "image/png": "[encoded data removed]",
      "text/plain": [
       "<Figure size 432x288 with 1 Axes>"
      ]
     },
     "metadata": {
      "needs_background": "light"
     },
     "output_type": "display_data"
    }
   ],
   "source": [
    "# Visualization:\n",
    "import matplotlib.pyplot as plt\n",
    "import numpy as np\n",
    "X_grid = np.arange(min(X), max(X), 0.01)\n",
    "X_grid = X_grid.reshape((len(X_grid),1))\n",
    "\n",
    "plt.scatter(X, y, color=\"purple\")\n",
    "plt.plot(X_grid, regressor.predict(X_grid), color=\"blue\")\n",
    "plt.title(\"Random Forest Regressor For 10 Trees\")\n",
    "plt.xlabel(\"Position\")\n",
    "plt.ylabel(\"Salaries\")\n",
    "plt.show()"
   ]
  },
  {
   "cell_type": "code",
   "execution_count": 29,
   "id": "44749c68",
   "metadata": {},
   "outputs": [
    {
     "name": "stdout",
     "output_type": "stream",
     "text": [
      "The predicted salary for a person at Level 6.5 is  [158300.]\n"
     ]
    }
   ],
   "source": [
    "# Predicting:\n",
    "y_pred = regressor.predict([[6.5]])\n",
    "print('The predicted salary for a person at Level 6.5 is ',y_pred)"
   ]
  },
  {
   "cell_type": "code",
   "execution_count": null,
   "id": "80f58ef0",
   "metadata": {},
   "outputs": [],
   "source": []
  }
 ],
 "metadata": {
  "kernelspec": {
   "display_name": "Python 3",
   "language": "python",
   "name": "python3"
  },
  "language_info": {
   "codemirror_mode": {
    "name": "ipython",
    "version": 3
   },
   "file_extension": ".py",
   "mimetype": "text/x-python",
   "name": "python",
   "nbconvert_exporter": "python",
   "pygments_lexer": "ipython3",
   "version": "3.8.8"
  }
 },
 "nbformat": 4,
 "nbformat_minor": 5
}

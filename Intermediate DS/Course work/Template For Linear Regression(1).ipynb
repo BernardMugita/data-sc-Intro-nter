{
 "cells": [
  {
   "cell_type": "markdown",
   "id": "83de583f",
   "metadata": {},
   "source": [
    "#### Template For Linear Regression"
   ]
  },
  {
   "cell_type": "markdown",
   "id": "6505a0ef",
   "metadata": {},
   "source": [
    "#### 1. Statement of Problem"
   ]
  },
  {
   "cell_type": "code",
   "execution_count": null,
   "id": "fc8460b6",
   "metadata": {},
   "outputs": [],
   "source": []
  },
  {
   "cell_type": "markdown",
   "id": "5b703277",
   "metadata": {},
   "source": [
    "#### 2. Import Relevant Libraries"
   ]
  },
  {
   "cell_type": "code",
   "execution_count": 1,
   "id": "c4a14b2d",
   "metadata": {},
   "outputs": [],
   "source": [
    "import pandas as pd\n",
    "import numpy as np\n",
    "import matplotlib.pyplot as plt\n",
    "import copy\n",
    "#from imblearn.over_sampling import RandomOverSampler\n",
    "from sklearn.preprocessing import  StandardScaler\n",
    "import seaborn as sns\n",
    "from sklearn import metrics\n",
    "from sklearn.linear_model import LinearRegression\n",
    "#import tensorflow as tf"
   ]
  },
  {
   "cell_type": "markdown",
   "id": "f18981d3",
   "metadata": {},
   "source": [
    "#### 3a. Importing the dataset"
   ]
  },
  {
   "cell_type": "code",
   "execution_count": null,
   "id": "4a10f57b",
   "metadata": {},
   "outputs": [],
   "source": []
  },
  {
   "cell_type": "markdown",
   "id": "b5805ef3",
   "metadata": {},
   "source": [
    "####  OR"
   ]
  },
  {
   "cell_type": "markdown",
   "id": "2b18793d",
   "metadata": {},
   "source": [
    "#### 3b. Read data onto Jupyter Notebook"
   ]
  },
  {
   "cell_type": "code",
   "execution_count": null,
   "id": "b1c38921",
   "metadata": {},
   "outputs": [],
   "source": []
  },
  {
   "cell_type": "markdown",
   "id": "9ed8db18",
   "metadata": {},
   "source": [
    "#### 4. View Summary of Data"
   ]
  },
  {
   "cell_type": "code",
   "execution_count": null,
   "id": "f60b273f",
   "metadata": {},
   "outputs": [],
   "source": [
    "df.head()"
   ]
  },
  {
   "cell_type": "code",
   "execution_count": null,
   "id": "d0f3df6b",
   "metadata": {},
   "outputs": [],
   "source": [
    "df.shape"
   ]
  },
  {
   "cell_type": "code",
   "execution_count": null,
   "id": "ffbd56b3",
   "metadata": {},
   "outputs": [],
   "source": [
    "df.describe()"
   ]
  },
  {
   "cell_type": "code",
   "execution_count": null,
   "id": "5db7fd5f",
   "metadata": {},
   "outputs": [],
   "source": [
    "df.describe().T"
   ]
  },
  {
   "cell_type": "code",
   "execution_count": null,
   "id": "81f2df11",
   "metadata": {},
   "outputs": [],
   "source": [
    "df.columns"
   ]
  },
  {
   "cell_type": "code",
   "execution_count": null,
   "id": "da170841",
   "metadata": {},
   "outputs": [],
   "source": [
    "# Checking the data types :\n",
    "df.dtypes"
   ]
  },
  {
   "cell_type": "code",
   "execution_count": null,
   "id": "5e7ce3a4",
   "metadata": {},
   "outputs": [],
   "source": [
    "# Identifying the unique number of values in the dataset\n",
    "df.nunique()"
   ]
  },
  {
   "cell_type": "code",
   "execution_count": null,
   "id": "e949c839",
   "metadata": {},
   "outputs": [],
   "source": [
    "# Check for missing values\n",
    "df.isnull().sum()"
   ]
  },
  {
   "cell_type": "code",
   "execution_count": null,
   "id": "cf18d147",
   "metadata": {},
   "outputs": [],
   "source": [
    "# See rows with missing values\n",
    "df[df.isnull().any(axis=1)]"
   ]
  },
  {
   "cell_type": "markdown",
   "id": "1c726cad",
   "metadata": {},
   "source": [
    "#### Linear Regression"
   ]
  },
  {
   "cell_type": "code",
   "execution_count": null,
   "id": "4a140988",
   "metadata": {},
   "outputs": [],
   "source": [
    "# Finding out the correlation between the features\n",
    "corr = df.corr()\n",
    "corr.shape"
   ]
  },
  {
   "cell_type": "code",
   "execution_count": null,
   "id": "23b27371",
   "metadata": {},
   "outputs": [],
   "source": [
    "# Spliting target variable and independent variables\n",
    "X = df.drop(['label'], axis = 1)\n",
    "y = df['label']"
   ]
  },
  {
   "cell_type": "code",
   "execution_count": null,
   "id": "bd6f9ae7",
   "metadata": {},
   "outputs": [],
   "source": [
    "# We split the data into training and testing sets.\n",
    "# We will train the model with 80% of the samples,(0.8)\n",
    "# and test with the remaining 20%.(0.2)"
   ]
  },
  {
   "cell_type": "code",
   "execution_count": null,
   "id": "0f53cb3f",
   "metadata": {},
   "outputs": [],
   "source": [
    "# Splitting to training and testing data\n",
    "\n",
    "from sklearn.model_selection import train_test_split\n",
    "\n",
    "X_train, X_test, y_train, y_test = train_test_split(X,y, test_size = 0.2, random_state = 5)"
   ]
  },
  {
   "cell_type": "code",
   "execution_count": null,
   "id": "a108ad29",
   "metadata": {},
   "outputs": [],
   "source": [
    "print(X_train.shape)     # => X : For training : inputs or features\n",
    "print(X_test.shape)\n",
    "print(y_train.shape)     # => y : For training : Output or label\n",
    "print(y_test.shape)"
   ]
  },
  {
   "cell_type": "markdown",
   "id": "20b44abb",
   "metadata": {},
   "source": [
    "##### a. Training the model"
   ]
  },
  {
   "cell_type": "code",
   "execution_count": null,
   "id": "e9894780",
   "metadata": {},
   "outputs": [],
   "source": [
    "# Import library for Linear Regression\n",
    "from sklearn.linear_model import LinearRegression\n",
    "\n",
    "# Create a Linear regressor\n",
    "lm = LinearRegression()\n",
    "\n",
    "# Train the model using the training sets \n",
    "lm.fit(X_train, y_train)"
   ]
  },
  {
   "cell_type": "markdown",
   "id": "81180acc",
   "metadata": {},
   "source": [
    "##### Results:"
   ]
  },
  {
   "cell_type": "code",
   "execution_count": null,
   "id": "aaea4e79",
   "metadata": {},
   "outputs": [],
   "source": [
    "# Value of y intercept\n",
    "lm.intercept_"
   ]
  },
  {
   "cell_type": "code",
   "execution_count": null,
   "id": "38a70733",
   "metadata": {},
   "outputs": [],
   "source": [
    "#Converting the coefficient values to a dataframe\n",
    "coefficients = pd.DataFrame([X_train.columns,lm.coef_]).T\n",
    "coefficients = coefficients.rename(columns={0: 'Attribute', 1: 'Coefficients'})\n",
    "coefficients"
   ]
  },
  {
   "cell_type": "markdown",
   "id": "0040374d",
   "metadata": {},
   "source": [
    "#### b.Model Evaluation"
   ]
  },
  {
   "cell_type": "code",
   "execution_count": null,
   "id": "82a3d276",
   "metadata": {},
   "outputs": [],
   "source": [
    "# Model prediction on train data\n",
    "y_pred = lm.predict(X_train)\n"
   ]
  },
  {
   "cell_type": "code",
   "execution_count": null,
   "id": "48293ebf",
   "metadata": {},
   "outputs": [],
   "source": [
    "# Model Evaluation\n",
    "print('R^2:',metrics.r2_score(y_train, y_pred))\n",
    "print('Adjusted R^2:',1 - (1-metrics.r2_score(y_train, y_pred))*(len(y_train)-1)/(len(y_train)-X_train.shape[1]-1))\n",
    "print('MAE:',metrics.mean_absolute_error(y_train, y_pred))\n",
    "print('MSE:',metrics.mean_squared_error(y_train, y_pred))\n",
    "print('RMSE:',np.sqrt(metrics.mean_squared_error(y_train, y_pred)))"
   ]
  },
  {
   "cell_type": "code",
   "execution_count": null,
   "id": "8f3bbe0b",
   "metadata": {},
   "outputs": [],
   "source": [
    "print(f'Train Accuracy {round(lm.score(X_train, y_train)* 100,2)}%')\n",
    "print(f'Test Accuracy {round(lm.score(X_test, y_test)* 100,2)}%')"
   ]
  },
  {
   "cell_type": "markdown",
   "id": "a143341c",
   "metadata": {},
   "source": [
    "#### Notes:"
   ]
  },
  {
   "cell_type": "raw",
   "id": "387ffd2f",
   "metadata": {},
   "source": [
    "𝑅^2 : It is a measure of the linear relationship between X and Y. It is interpreted as the proportion of the variance in the dependent variable that is predictable from the independent variable.\n",
    "\n",
    "Adjusted 𝑅^2 :The adjusted R-squared compares the explanatory power of regression models that contain different numbers of predictors.\n",
    "\n",
    "MAE : It is the mean of the absolute value of the errors. It measures the difference between two continuous variables, here actual and predicted values of y. \n",
    "\n",
    "MSE: The mean square error (MSE) is just like the MAE, but squares the difference before summing them all instead of using the absolute value. \n",
    "\n",
    "RMSE: The mean square error (MSE) is just like the MAE, but squares the difference before summing them all instead of using the absolute value. "
   ]
  },
  {
   "cell_type": "code",
   "execution_count": null,
   "id": "4eef9be0",
   "metadata": {},
   "outputs": [],
   "source": []
  }
 ],
 "metadata": {
  "kernelspec": {
   "display_name": "Python 3",
   "language": "python",
   "name": "python3"
  },
  "language_info": {
   "codemirror_mode": {
    "name": "ipython",
    "version": 3
   },
   "file_extension": ".py",
   "mimetype": "text/x-python",
   "name": "python",
   "nbconvert_exporter": "python",
   "pygments_lexer": "ipython3",
   "version": "3.8.8"
  }
 },
 "nbformat": 4,
 "nbformat_minor": 5
}

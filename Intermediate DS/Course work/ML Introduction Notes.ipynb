{
 "cells": [
  {
   "cell_type": "markdown",
   "id": "e7046e5e",
   "metadata": {},
   "source": [
    "### ML Introduction Notes 2.0"
   ]
  },
  {
   "cell_type": "markdown",
   "id": "279e5165",
   "metadata": {},
   "source": [
    "#### 1.Mean,Median & Mode"
   ]
  },
  {
   "cell_type": "code",
   "execution_count": 36,
   "id": "58e6e16b",
   "metadata": {},
   "outputs": [
    {
     "data": {
      "text/plain": [
       "89.76923076923077"
      ]
     },
     "execution_count": 36,
     "metadata": {},
     "output_type": "execute_result"
    }
   ],
   "source": [
    "# a. The mean is the average. \n",
    "# Example:\n",
    "speed = [99,86,87,88,111,86,103,87,94,78,77,85,86]\n",
    "\n",
    "import statistics\n",
    "statistics.mean(speed)\n"
   ]
  },
  {
   "cell_type": "code",
   "execution_count": 37,
   "id": "96011351",
   "metadata": {},
   "outputs": [
    {
     "data": {
      "text/plain": [
       "87"
      ]
     },
     "execution_count": 37,
     "metadata": {},
     "output_type": "execute_result"
    }
   ],
   "source": [
    "# b. The median is the value in the middle,after you have sorted all the values:\n",
    "speed = [99,86,87,88,111,86,103,87,94,78,77,85,86]\n",
    "\n",
    "import statistics\n",
    "statistics.median(speed)\n"
   ]
  },
  {
   "cell_type": "code",
   "execution_count": 35,
   "id": "2386abad",
   "metadata": {},
   "outputs": [
    {
     "data": {
      "text/plain": [
       "86"
      ]
     },
     "execution_count": 35,
     "metadata": {},
     "output_type": "execute_result"
    }
   ],
   "source": [
    "# c. The Mode is the value that appears the most number of times:\n",
    "speed = [99,86,87,88,111,86,103,87,94,78,77,85,86]\n",
    "\n",
    "import statistics\n",
    "statistics.mode(speed)\n"
   ]
  },
  {
   "cell_type": "markdown",
   "id": "5ebb0038",
   "metadata": {},
   "source": [
    "#### 2.Standard Deviation"
   ]
  },
  {
   "cell_type": "code",
   "execution_count": null,
   "id": "e3392272",
   "metadata": {},
   "outputs": [],
   "source": [
    "# a. Standard deviation describes how spread out the values are.\n",
    "\n",
    "# b. Low standard deviation => most of the values are close to the mean value.\n",
    "\n",
    "# c. High standard deviation => the values are spread out over a wider range."
   ]
  },
  {
   "cell_type": "markdown",
   "id": "8c747df3",
   "metadata": {},
   "source": [
    "#### 3.Variance"
   ]
  },
  {
   "cell_type": "code",
   "execution_count": null,
   "id": "9e0a2dfb",
   "metadata": {},
   "outputs": [],
   "source": [
    "# a.Variance => Another number that indicates how spread out the values are.\n",
    "\n",
    "# b.If you take the square root of the variance, you get the standard deviation."
   ]
  },
  {
   "cell_type": "markdown",
   "id": "3c5e67cc",
   "metadata": {},
   "source": [
    "#### 4.Percentiles"
   ]
  },
  {
   "cell_type": "code",
   "execution_count": null,
   "id": "d04f74f2",
   "metadata": {},
   "outputs": [],
   "source": [
    "# Percentiles are used in statistics to give you a number that \n",
    "# describes the value that a given percent of the values are lower than.\n",
    "\n",
    "# Example 1: What is the 75th percentile of the following ages ?\n",
    "# [5,31,43,48,50,41,7,11,15,39,80,82,32,2,8,6,25,36,27,61,31]"
   ]
  },
  {
   "cell_type": "code",
   "execution_count": 3,
   "id": "774ff945",
   "metadata": {},
   "outputs": [
    {
     "data": {
      "text/plain": [
       "43.0"
      ]
     },
     "execution_count": 3,
     "metadata": {},
     "output_type": "execute_result"
    }
   ],
   "source": [
    "# Solution :\n",
    "# Step 1: Create a variable called 'ages' =>\n",
    "ages  = [5,31,43,48,50,41,7,11,15,39,80,82,32,2,8,6,25,36,27,61,31]\n",
    "\n",
    "# Step 2: Import relevant library =>\n",
    "import numpy as np\n",
    "\n",
    "# Step 3 : Use the relevant function =>\n",
    "np.percentile(ages,75)\n"
   ]
  },
  {
   "cell_type": "markdown",
   "id": "555dc5f5",
   "metadata": {},
   "source": [
    "#### 5.Histogram"
   ]
  },
  {
   "cell_type": "code",
   "execution_count": 38,
   "id": "6f831478",
   "metadata": {},
   "outputs": [
    {
     "data": {
      "image/png": "[encoded data removed]",
      "text/plain": [
       "<Figure size 432x288 with 1 Axes>"
      ]
     },
     "metadata": {
      "needs_background": "light"
     },
     "output_type": "display_data"
    }
   ],
   "source": [
    "# Example 2a:Let's create an array containing 100 random floats between 0 and 10:\n",
    "import numpy\n",
    "import matplotlib.pyplot as plt\n",
    "\n",
    "x = numpy.random.uniform(0.0, 10.0, 100)\n",
    "\n",
    "plt.hist(x, 10)\n",
    "plt.grid()\n",
    "plt.show()"
   ]
  },
  {
   "cell_type": "code",
   "execution_count": null,
   "id": "2ea24317",
   "metadata": {},
   "outputs": [],
   "source": [
    "# Interpretation :\n",
    "# a.The first bar represents how many values in the array are between 0 and 1.\n",
    "# => 13 values are between 0 and 1;\n",
    "# b. 4 values are between 1 and 2 ;\n",
    "# c. 6 values are between 2 and 3 ;\n",
    "# d. 9 values are between 3 and 4 ; and so forth...\n"
   ]
  },
  {
   "cell_type": "code",
   "execution_count": 11,
   "id": "b87dfc25",
   "metadata": {},
   "outputs": [
    {
     "data": {
      "image/png": "[encoded data removed]",
      "text/plain": [
       "<Figure size 432x288 with 1 Axes>"
      ]
     },
     "metadata": {
      "needs_background": "light"
     },
     "output_type": "display_data"
    }
   ],
   "source": [
    "# Example 2b: Big Data \n",
    "# Let's say we create 200000 random numbers, \n",
    "# and display them using a histogram with 100 bars:\n",
    "import numpy\n",
    "import matplotlib.pyplot as plt\n",
    "\n",
    "x = numpy.random.uniform(0.0, 10.0, 200000)\n",
    "\n",
    "plt.hist(x, 100)\n",
    "plt.grid()\n",
    "plt.show()"
   ]
  },
  {
   "cell_type": "markdown",
   "id": "acab6880",
   "metadata": {},
   "source": [
    "#### 6.Normal Data Distribution"
   ]
  },
  {
   "cell_type": "code",
   "execution_count": null,
   "id": "08fd739c",
   "metadata": {},
   "outputs": [],
   "source": [
    "# How to create an array where the values are concentrated around a given value:\n",
    "\n",
    "# In probability theory this kind of data distribution is known as\n",
    "# the normal data distribution, or the Gaussian data distribution,\n",
    "# after the mathematician Carl Friedrich Gauss,\n",
    "# who came up with the formula for this data distribution."
   ]
  },
  {
   "cell_type": "code",
   "execution_count": 15,
   "id": "4f0c1bdf",
   "metadata": {},
   "outputs": [
    {
     "data": {
      "image/png": "[encoded data removed]",
      "text/plain": [
       "<Figure size 432x288 with 1 Axes>"
      ]
     },
     "metadata": {
      "needs_background": "light"
     },
     "output_type": "display_data"
    }
   ],
   "source": [
    "# Example 3 : We specify that the mean value is 10.0, and the standard deviation is 2.0.\n",
    "x = numpy.random.normal(10.0, 2.0, 200000)\n",
    "\n",
    "plt.hist(x, 100)\n",
    "plt.grid()\n",
    "plt.show()"
   ]
  },
  {
   "cell_type": "code",
   "execution_count": null,
   "id": "3caf984b",
   "metadata": {},
   "outputs": [],
   "source": [
    "# Interpretation:\n",
    "# Meaning that the values should be concentrated around 10.0,\n",
    "# and rarely further away than 2.0 from the mean.\n",
    "\n",
    "# As can be seen from the histogram, most values are between 8.0 and 12.0,\n",
    "# with a top at approximately 10.0.\n",
    "\n",
    "# Also known as the 'bell curve' because of it's characteristic shape of a bell."
   ]
  },
  {
   "cell_type": "markdown",
   "id": "6461e5e9",
   "metadata": {},
   "source": [
    "#### 7.Scatter Plot"
   ]
  },
  {
   "cell_type": "code",
   "execution_count": 23,
   "id": "62beeaa7",
   "metadata": {},
   "outputs": [
    {
     "data": {
      "image/png": "[encoded data removed]",
      "text/plain": [
       "<Figure size 432x288 with 1 Axes>"
      ]
     },
     "metadata": {
      "needs_background": "light"
     },
     "output_type": "display_data"
    }
   ],
   "source": [
    "# A scatter plot is a diagram where each value\n",
    "# in the data set is represented by a dot.\n",
    "# Needs two arrays of the same length:\n",
    "# one for the values of the x-axis, and,\n",
    "# the other for the values of the y-axis.\n",
    "\n",
    "# Example 4:\n",
    "age = [5,7,8,7,2,17,2,9,4,11,12,9,6]   # x axis\n",
    "\n",
    "speed = [99,86,87,88,111,86,103,87,94,78,77,85,86]  # y-axis\n",
    "\n",
    "plt.scatter(age,speed)\n",
    "plt.xlabel('Age of Car')\n",
    "plt.ylabel('Speed of Car')\n",
    "plt.show()"
   ]
  },
  {
   "cell_type": "code",
   "execution_count": 24,
   "id": "20d96f4d",
   "metadata": {},
   "outputs": [],
   "source": [
    "# Interpretation :\n",
    "# a.The two fastest cars were both 2 years old;\n",
    "# b.The slowest car was 12 years old.\n",
    "\n",
    "# Conclusion :\n",
    "# The newer the car, the faster it drives.\n",
    "# NB: Only 13 values in our data set."
   ]
  },
  {
   "cell_type": "markdown",
   "id": "140cd362",
   "metadata": {},
   "source": [
    "#### 8.Random Data Distributions"
   ]
  },
  {
   "cell_type": "code",
   "execution_count": null,
   "id": "b886e3c7",
   "metadata": {},
   "outputs": [],
   "source": [
    "# Example 5:\n",
    "\n",
    "# We create two arrays that are both filled with:\n",
    "# 1000 random numbers from a normal data distribution.\n",
    "# The first array will have the mean of 5.0 with a standard deviation of 1.0 ;\n",
    "# The second array will have the mean of 10.0 with a standard deviation of 2.0:\n"
   ]
  },
  {
   "cell_type": "code",
   "execution_count": 39,
   "id": "91d17474",
   "metadata": {},
   "outputs": [
    {
     "data": {
      "image/png": "[encoded data removed]",
      "text/plain": [
       "<Figure size 432x288 with 1 Axes>"
      ]
     },
     "metadata": {
      "needs_background": "light"
     },
     "output_type": "display_data"
    }
   ],
   "source": [
    "# Example 5 cont... :\n",
    "x = numpy.random.normal(5.0, 1.0, 1000)  # (mean = 5,  std deviation = 1.0)\n",
    "y = numpy.random.normal(10.0, 2.0, 1000) # (mean = 10, std deviation = 2.0)\n",
    "\n",
    "plt.xlabel('x axis')\n",
    "plt.ylabel('y axis')\n",
    "plt.title('Example 5')\n",
    "plt.grid()\n",
    "plt.scatter(x, y)\n",
    "plt.show()"
   ]
  },
  {
   "cell_type": "code",
   "execution_count": null,
   "id": "15c65ebc",
   "metadata": {},
   "outputs": [],
   "source": [
    "# Interpretation :\n",
    "\n",
    "#a.The dots are concentrated around the value 5 on the x-axis, and\n",
    "#  10 on the y-axis.\n",
    "\n",
    "#b. The spread is wider on the y-axis than on the x-axis."
   ]
  },
  {
   "cell_type": "code",
   "execution_count": null,
   "id": "8a73fcd8",
   "metadata": {},
   "outputs": [],
   "source": [
    "# Share Pic on Data Science,Data Analysis ,AI & ML"
   ]
  }
 ],
 "metadata": {
  "kernelspec": {
   "display_name": "Python 3 (ipykernel)",
   "language": "python",
   "name": "python3"
  },
  "language_info": {
   "codemirror_mode": {
    "name": "ipython",
    "version": 3
   },
   "file_extension": ".py",
   "mimetype": "text/x-python",
   "name": "python",
   "nbconvert_exporter": "python",
   "pygments_lexer": "ipython3",
   "version": "3.10.6"
  }
 },
 "nbformat": 4,
 "nbformat_minor": 5
}

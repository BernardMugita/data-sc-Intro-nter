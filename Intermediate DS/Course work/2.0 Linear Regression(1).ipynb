{
 "cells": [
  {
   "cell_type": "markdown",
   "id": "309d2dcf",
   "metadata": {},
   "source": [
    "### 2.0 Linear Regression"
   ]
  },
  {
   "cell_type": "code",
   "execution_count": null,
   "id": "fa9a5a55",
   "metadata": {},
   "outputs": [],
   "source": [
    "# A measure of the relation between the mean value of one variable (e.g. age) \n",
    "# and corresponding values of other variables (e.g. speed)."
   ]
  },
  {
   "cell_type": "code",
   "execution_count": null,
   "id": "3e62847c",
   "metadata": {},
   "outputs": [],
   "source": [
    "# Definition:\n",
    "# a. Regression is used when you try to find the relationship between variables.\n",
    "# b. This relationship is used to predict the outcome of future events.\n",
    "\n",
    "# c. Linear regression uses the relationship between the data-points \n",
    "#    to draw a straight line through all them.\n",
    "# d. This line can then be used to predict future values."
   ]
  },
  {
   "cell_type": "code",
   "execution_count": 5,
   "id": "f5231713",
   "metadata": {},
   "outputs": [
    {
     "data": {
      "text/plain": [
       "Text(0, 0.5, 'Speed of Car')"
      ]
     },
     "execution_count": 5,
     "metadata": {},
     "output_type": "execute_result"
    },
    {
     "data": {
      "image/png": "[encoded data removed]",
      "text/plain": [
       "<Figure size 432x288 with 1 Axes>"
      ]
     },
     "metadata": {
      "needs_background": "light"
     },
     "output_type": "display_data"
    }
   ],
   "source": [
    "# Example 1:( Refer to # Example 4:)\n",
    "\n",
    "# Step 1: Plot a Scatter plot :\n",
    "import numpy\n",
    "import matplotlib.pyplot as plt\n",
    "\n",
    "age = [5,7,8,7,2,17,2,9,4,11,12,9,6]   # x axis\n",
    "\n",
    "speed = [99,86,87,88,111,86,103,87,94,78,77,85,86]  # y-axis\n",
    "\n",
    "plt.scatter(age,speed)\n",
    "plt.xlabel('Age of Car')\n",
    "plt.ylabel('Speed of Car')"
   ]
  },
  {
   "cell_type": "code",
   "execution_count": null,
   "id": "3463d0c1",
   "metadata": {},
   "outputs": [],
   "source": [
    "# Step 2: Create arrays that represent the values of the x and y axis:\n",
    "age = [5,7,8,7,2,17,2,9,4,11,12,9,6]  #  x axis:  \n",
    "\n",
    "speed = [99,86,87,88,111,86,103,87,94,78,77,85,86]  #  y axis:\n"
   ]
  },
  {
   "cell_type": "code",
   "execution_count": 14,
   "id": "cb4a2ca5",
   "metadata": {},
   "outputs": [],
   "source": [
    "# Step 3 : Determining r(Relationship)\n",
    "\n",
    "# We need to know how the relationship between the values of the x-axis and y-axis is,\n",
    "# if there is no relationship the linear regression can not be used to predict anything.\n",
    "\n",
    "# This relationship - the coefficient of correlation - is called r.\n",
    "\n",
    "# The r value ranges from -1 to 1, where 0 means no relationship,\n",
    "# and 1 (and -1) means 100% related.\n",
    "\n",
    "# Fortunately Python and the Scipy module will compute this value for us,\n",
    "# all we have to do is just feed it with the x and y values.\n",
    "\n",
    "slope, intercept, r, p, std_err = stats.linregress(age, speed)\n",
    "print(r)\n",
    "# (Use the y = mx + c  explanation)"
   ]
  },
  {
   "cell_type": "code",
   "execution_count": null,
   "id": "f0e37d27",
   "metadata": {},
   "outputs": [],
   "source": [
    "# R in a regression analysis is called the correlation coefficient and\n",
    "# it is defined as the correlation or relationship between an independent and a dependent variable.\n",
    "# It ranges from -1 to +1."
   ]
  },
  {
   "cell_type": "raw",
   "id": "23f3849e",
   "metadata": {},
   "source": [
    "a. std_err:\n",
    "The standard error of the regression,represents the average distance\n",
    "that the observed values fall from the regression line.\n",
    "\n",
    "b. p :\n",
    "The p-value is a statistical number to conclude if there is a relationship.\n",
    "\n"
   ]
  },
  {
   "cell_type": "code",
   "execution_count": 9,
   "id": "c16f5fcd",
   "metadata": {},
   "outputs": [],
   "source": [
    "# Step 4: \n",
    "# Create a function that uses the slope and intercept values to return a new value.\n",
    "# This new value represents where on the y-axis the corresponding x value will be :\n",
    "def func(x):\n",
    "      return slope * x + intercept\n",
    "\n"
   ]
  },
  {
   "cell_type": "code",
   "execution_count": null,
   "id": "d54093fb",
   "metadata": {},
   "outputs": [],
   "source": [
    "# Step 5: \n",
    "# We then run each value of the x array through the function.\n",
    "# Which will result in a new array with new values for the y-axis:\n",
    "\n",
    "model = list(map(func, x))"
   ]
  },
  {
   "cell_type": "code",
   "execution_count": null,
   "id": "37c0435f",
   "metadata": {},
   "outputs": [],
   "source": [
    "# Step 6:\n",
    "# Draw the  Scatter plot:\n",
    "plt.scatter(age,speed)"
   ]
  },
  {
   "cell_type": "code",
   "execution_count": null,
   "id": "90aaa2a2",
   "metadata": {},
   "outputs": [],
   "source": [
    "# Step 7:\n",
    "# Draw the line of linear regression:\n",
    "plt.plot(model, x)"
   ]
  },
  {
   "cell_type": "code",
   "execution_count": null,
   "id": "e15757a7",
   "metadata": {},
   "outputs": [],
   "source": [
    "# Step 8:\n",
    "# Display the plot:\n",
    "plt.show()"
   ]
  },
  {
   "cell_type": "code",
   "execution_count": null,
   "id": "c9ed57b7",
   "metadata": {},
   "outputs": [],
   "source": []
  },
  {
   "cell_type": "code",
   "execution_count": 16,
   "id": "ce285a5f",
   "metadata": {},
   "outputs": [
    {
     "data": {
      "image/png": "[encoded data removed]",
      "text/plain": [
       "<Figure size 432x288 with 1 Axes>"
      ]
     },
     "metadata": {
      "needs_background": "light"
     },
     "output_type": "display_data"
    }
   ],
   "source": [
    "# Summary of Steps 1 to 8 combined :\n",
    "\n",
    "import matplotlib.pyplot as plt\n",
    "from scipy import stats\n",
    "\n",
    "age = [5,7,8,7,2,17,2,9,4,11,12,9,6]   \n",
    "\n",
    "speed = [99,86,87,88,111,86,103,87,94,78,77,85,86] \n",
    "\n",
    "slope, intercept, r, p, std_err = stats.linregress(age, speed)\n",
    "\n",
    "def func(age):\n",
    "    return slope * age + intercept\n",
    "  \n",
    "\n",
    "model = list(map(func, age))\n",
    "\n",
    "plt.scatter(age, speed)\n",
    "plt.grid()\n",
    "plt.plot(age, model)\n",
    "plt.xlabel('Age of Car')\n",
    "plt.ylabel('Speed of Car')\n",
    "plt.show()"
   ]
  },
  {
   "cell_type": "markdown",
   "id": "1270c4a4",
   "metadata": {},
   "source": [
    "#### Worked Example 1"
   ]
  },
  {
   "cell_type": "raw",
   "id": "8342ed0d",
   "metadata": {},
   "source": [
    "Using the above data predict the speed of a 10 years old car."
   ]
  },
  {
   "cell_type": "code",
   "execution_count": 15,
   "id": "5aa9551d",
   "metadata": {},
   "outputs": [
    {
     "name": "stdout",
     "output_type": "stream",
     "text": [
      "85.59308314937454\n"
     ]
    }
   ],
   "source": [
    "# Solution :\n",
    "import matplotlib.pyplot as plt\n",
    "from scipy import stats\n",
    "\n",
    "age = [5,7,8,7,2,17,2,9,4,11,12,9,6]   \n",
    "\n",
    "speed = [99,86,87,88,111,86,103,87,94,78,77,85,86] \n",
    "\n",
    "slope, intercept, r, p, std_err = stats.linregress(age, speed)\n",
    "\n",
    "def func(age):\n",
    "    return slope * age + intercept\n",
    "\n",
    "speed = func(10)\n",
    "print(speed)"
   ]
  },
  {
   "cell_type": "code",
   "execution_count": null,
   "id": "496536fc",
   "metadata": {},
   "outputs": [],
   "source": []
  },
  {
   "cell_type": "code",
   "execution_count": null,
   "id": "6e93ca7a",
   "metadata": {},
   "outputs": [],
   "source": []
  },
  {
   "cell_type": "markdown",
   "id": "9071ed34",
   "metadata": {},
   "source": [
    "#### Worked Example 2"
   ]
  },
  {
   "cell_type": "code",
   "execution_count": null,
   "id": "6d195e81",
   "metadata": {},
   "outputs": [],
   "source": [
    "# Get Data\n",
    "# Stock Example\n",
    "# Boston Housing "
   ]
  },
  {
   "cell_type": "code",
   "execution_count": null,
   "id": "b727641d",
   "metadata": {},
   "outputs": [],
   "source": []
  }
 ],
 "metadata": {
  "kernelspec": {
   "display_name": "Python 3 (ipykernel)",
   "language": "python",
   "name": "python3"
  },
  "language_info": {
   "codemirror_mode": {
    "name": "ipython",
    "version": 3
   },
   "file_extension": ".py",
   "mimetype": "text/x-python",
   "name": "python",
   "nbconvert_exporter": "python",
   "pygments_lexer": "ipython3",
   "version": "3.10.6"
  }
 },
 "nbformat": 4,
 "nbformat_minor": 5
}
